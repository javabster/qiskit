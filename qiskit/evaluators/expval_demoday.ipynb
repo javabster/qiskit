{
 "cells": [
  {
   "cell_type": "markdown",
   "id": "21e62c44",
   "metadata": {
    "slideshow": {
     "slide_type": "slide"
    }
   },
   "source": [
    "# New expectation value design PoC\n",
    "\n",
    "[Qiskit Demoday Sep 16](https://github.com/qiskit-community/feedback/wiki/DemoDay#sep-16-2021)\n",
    "\n",
    "Takashi Imamichi and Ikko Hamamura (IBM Research - Tokyo)"
   ]
  },
  {
   "cell_type": "markdown",
   "id": "a02345fd",
   "metadata": {
    "slideshow": {
     "slide_type": "slide"
    }
   },
   "source": [
    "## Motivation\n",
    "\n",
    "We propose a simple and generic interface for expectation values and their gradients.\n",
    "The current workflow with opflow to get an expectation value is as follows.\n",
    "```python\n",
    "state = StateFn(...) # can be a circuit-based state or defined via a statevector or dictionary\n",
    "operator = ... # some opflow operator, e.g. PauliSumOp\n",
    "expectation = StateFn(operator, is_measurement=True) @ state\n",
    "expectation_converter = PauliExpectation # method to evaluate the expected value, e.g. PauliExpectation, CVaRExpectation, AerPauliExpectation, ...\n",
    "circuit_sampler = CircuitSampler(backend)\n",
    "converted = expectation_converter.convert(expectation) \n",
    "sampled = circuit_sampler.convert(converted, parameters)\n",
    "result = sampled.eval()\n",
    "```"
   ]
  },
  {
   "cell_type": "markdown",
   "id": "aa82e846",
   "metadata": {
    "slideshow": {
     "slide_type": "subslide"
    }
   },
   "source": [
    "We propose a new design of the expectation value to make it generic and simple.\n",
    "Essentially, we aim at the following workflow.\n",
    "\n",
    "```python\n",
    "operator = ... # some opflow operator, e.g. PauliSumOp\n",
    "state = ... # a parametrized quantum circuit (or ansatz)\n",
    "backend = ... # AerBackend or IBMQBackend\n",
    "expval = PauliExpectationValue(state, operator, backend)\n",
    "result = expval.evaluate(parameters).value\n",
    "```"
   ]
  },
  {
   "cell_type": "markdown",
   "id": "b78a5565",
   "metadata": {
    "slideshow": {
     "slide_type": "slide"
    }
   },
   "source": [
    "## Outline of the new design\n",
    "\n",
    "We propose an abstract class for expectation value and gradient.\n",
    "An instance will be initialized with the following objects:\n",
    "\n",
    "- `state` $\\psi(\\theta)$: a (parametrized) quantum circuit or a state vector to be converted into a quantum circuit.\n",
    "- `observable` $H$: we allow opflow `PauliSumOp` (primitive is `SparsePauliOp`) or quantum_info operator `BaseOperator` that is compatible with `SparsePauliOp` for simplicity.\n",
    "- `backend`: Either `IBMQBackend` or `AerSimulator`. We don't support legacy simulator backends and BasicAer.\n",
    "- (optional) `expval`: take an expectation value object as an input (e.g., gradient)\n",
    "\n",
    "Users use `ExpectationValue.evaluate(parameters)` to obtain the expectation value.\n",
    "\n",
    "Instances of our expectation value classes are immutable.\n",
    "Users need to invoke the constructor to evaluate the expectation value of different states or observables."
   ]
  },
  {
   "cell_type": "markdown",
   "id": "63eaef98",
   "metadata": {
    "slideshow": {
     "slide_type": "subslide"
    }
   },
   "source": [
    "The internal workflow consists of phases:\n",
    "\n",
    "1. `ExpectationValue._preprocessing` generates quantum circuits corresponding to the pair of quantum state and observable. The circuits maybe left parametrized. This will be invoked on demand to avoid overhead of the constructor.\n",
    "2. `ExpectationValue.evaluate(parameters)` transpiles quantum circuits (if necessary), puts parameter values to the transpiled circuits, and executes them on the backend.\n",
    "3. `ExpectationValue._postprocessing` interprets the results of the backend into an expectation value and other information as `ExpectationValueResult`.\n",
    "\n",
    "Note: we allow `ExpectationValue.evaluate(parameters)` to process a set of parameters and the output will be `ExpectationValueArrayResult`. See an example later.\n",
    "\n",
    "`ExpectationValueGradient` may have the same interface and/or it may take `ExpectationValue` object as an input of the constructor."
   ]
  },
  {
   "cell_type": "markdown",
   "id": "8765e853",
   "metadata": {
    "slideshow": {
     "slide_type": "slide"
    }
   },
   "source": [
    "## Demo"
   ]
  },
  {
   "cell_type": "code",
   "execution_count": 1,
   "id": "05da73c4",
   "metadata": {
    "slideshow": {
     "slide_type": "skip"
    },
    "tags": []
   },
   "outputs": [],
   "source": [
    "%load_ext autoreload\n",
    "%autoreload 2"
   ]
  },
  {
   "cell_type": "code",
   "execution_count": 2,
   "id": "fc97bb99",
   "metadata": {
    "slideshow": {
     "slide_type": "skip"
    }
   },
   "outputs": [],
   "source": [
    "import numpy as np"
   ]
  },
  {
   "cell_type": "code",
   "execution_count": 3,
   "id": "6104c3e9",
   "metadata": {
    "slideshow": {
     "slide_type": "subslide"
    }
   },
   "outputs": [
    {
     "name": "stdout",
     "output_type": "stream",
     "text": [
      "observable\n",
      "-1.052373245772859 * II\n",
      "+ 0.39793742484318045 * IZ\n",
      "- 0.39793742484318045 * ZI\n",
      "- 0.01128010425623538 * ZZ\n",
      "+ 0.18093119978423156 * XX\n",
      "\n",
      "ansatz\n"
     ]
    },
    {
     "data": {
      "image/png": "[encoded data removed]",
      "text/plain": [
       "<Figure size 387.452x144.48 with 1 Axes>"
      ]
     },
     "execution_count": 3,
     "metadata": {},
     "output_type": "execute_result"
    }
   ],
   "source": [
    "from qiskit.circuit.library import RealAmplitudes\n",
    "from qiskit.opflow import PauliSumOp\n",
    "\n",
    "observable = PauliSumOp.from_list(\n",
    "    [\n",
    "        (\"II\", -1.052373245772859),\n",
    "        (\"IZ\", 0.39793742484318045),\n",
    "        (\"ZI\", -0.39793742484318045),\n",
    "        (\"ZZ\", -0.01128010425623538),\n",
    "        (\"XX\", 0.18093119978423156),\n",
    "    ]\n",
    ")\n",
    "print(\"observable\")\n",
    "print(observable)\n",
    "\n",
    "ansatz = RealAmplitudes(num_qubits=2, reps=2)\n",
    "print(\"\\nansatz\")\n",
    "ansatz.decompose().draw(\"mpl\")"
   ]
  },
  {
   "cell_type": "markdown",
   "id": "3e5bc903",
   "metadata": {
    "slideshow": {
     "slide_type": "slide"
    }
   },
   "source": [
    "## ExpectationValue class"
   ]
  },
  {
   "cell_type": "code",
   "execution_count": 4,
   "id": "2dd0c134",
   "metadata": {},
   "outputs": [],
   "source": [
    "from qiskit.evaluators import PauliExpectationValue"
   ]
  },
  {
   "cell_type": "markdown",
   "id": "01eba673",
   "metadata": {},
   "source": [
    "### PauliExpectationValue\n",
    "\n",
    "Evaluate the expectation value by sampling. This supports both AerSimulator and IBMQ backends."
   ]
  },
  {
   "cell_type": "code",
   "execution_count": 5,
   "id": "578ae95d",
   "metadata": {},
   "outputs": [],
   "source": [
    "from qiskit.providers.aer import AerSimulator\n",
    "\n",
    "backend = AerSimulator()"
   ]
  },
  {
   "cell_type": "code",
   "execution_count": 6,
   "id": "624c2fc9",
   "metadata": {
    "tags": []
   },
   "outputs": [
    {
     "data": {
      "text/plain": [
       "ExpectationValueResult(value=-1.3045851234732189, variance=0.2985086690184938, confidence_interval=(-1.3335981061414726, -1.2755721408049652))"
      ]
     },
     "execution_count": 6,
     "metadata": {},
     "output_type": "execute_result"
    }
   ],
   "source": [
    "expval = PauliExpectationValue(ansatz, observable, backend=backend)\n",
    "expval.evaluate([0, 1, 1, 2, 3, 5], shots=1000)"
   ]
  },
  {
   "cell_type": "code",
   "execution_count": 7,
   "id": "18535167",
   "metadata": {},
   "outputs": [
    {
     "data": {
      "text/plain": [
       "ExpectationValueArrayResult(values=array([-1.28753097, -1.32096817]), variances=array([0.30054645, 0.24197059]), confidence_intervals=array([[-1.30433766, -1.27072428],\n",
       "       [-1.33568567, -1.30625067]]))"
      ]
     },
     "execution_count": 7,
     "metadata": {},
     "output_type": "execute_result"
    }
   ],
   "source": [
    "# multi prameters\n",
    "expval = PauliExpectationValue(ansatz, observable, backend=backend)\n",
    "expval.evaluate([[0, 1, 1, 2, 3, 5], [1, 1, 2, 3, 5, 8]], shots=3000)"
   ]
  },
  {
   "cell_type": "markdown",
   "id": "257787d2",
   "metadata": {
    "slideshow": {
     "slide_type": "slide"
    }
   },
   "source": [
    "### Exact simulation by SaveExpectationValueVariance"
   ]
  },
  {
   "cell_type": "code",
   "execution_count": 8,
   "id": "e602573e",
   "metadata": {},
   "outputs": [],
   "source": [
    "from qiskit.evaluators import ExactExpectationValue"
   ]
  },
  {
   "cell_type": "code",
   "execution_count": 9,
   "id": "a795bd78",
   "metadata": {},
   "outputs": [
    {
     "data": {
      "text/plain": [
       "ExpectationValueResult(value=-1.2843665118617325, variance=0.26528532962023577, confidence_interval=None)"
      ]
     },
     "execution_count": 9,
     "metadata": {},
     "output_type": "execute_result"
    }
   ],
   "source": [
    "expval = ExactExpectationValue(ansatz, observable, backend=backend)\n",
    "expval.evaluate([0, 1, 1, 2, 3, 5])"
   ]
  },
  {
   "cell_type": "code",
   "execution_count": 10,
   "id": "60687fe8",
   "metadata": {},
   "outputs": [
    {
     "data": {
      "text/plain": [
       "ExpectationValueArrayResult(values=array([-1.28436651, -1.31875263]), variances=array([0.26528533, 0.42691205]), confidence_intervals=array([None, None], dtype=object))"
      ]
     },
     "execution_count": 10,
     "metadata": {},
     "output_type": "execute_result"
    }
   ],
   "source": [
    "expval = ExactExpectationValue(ansatz, observable, backend=backend)\n",
    "expval.evaluate(np.array([[0, 1, 1, 2, 3, 5], [1, 1, 2, 3, 5, 8]]))"
   ]
  },
  {
   "cell_type": "markdown",
   "id": "1c94c403",
   "metadata": {
    "slideshow": {
     "slide_type": "slide"
    }
   },
   "source": [
    "### Transpiled Circuits"
   ]
  },
  {
   "cell_type": "code",
   "execution_count": 11,
   "id": "3e1a8842",
   "metadata": {},
   "outputs": [
    {
     "name": "stdout",
     "output_type": "stream",
     "text": [
      "ExpectationValueResult(value=-1.2270449811062014, variance=0.3261140003605256, confidence_interval=(-1.2569617757694307, -1.1971281864429721))\n"
     ]
    },
    {
     "data": {
      "image/png": "[encoded data removed]",
      "text/plain": [
       "<Figure size 1142.53x385.28 with 1 Axes>"
      ]
     },
     "execution_count": 11,
     "metadata": {},
     "output_type": "execute_result"
    }
   ],
   "source": [
    "from qiskit.test.mock import FakeBogota\n",
    "\n",
    "backend = AerSimulator.from_backend(FakeBogota())\n",
    "\n",
    "expval = PauliExpectationValue(ansatz, observable, backend=backend)\n",
    "expval.set_transpile_options(initial_layout=[3, 2])\n",
    "print(expval.evaluate([0, 1, 1, 2, 3, 5]))\n",
    "expval.transpiled_circuits[0].draw(\"mpl\")"
   ]
  },
  {
   "cell_type": "markdown",
   "id": "9185b9ae",
   "metadata": {
    "slideshow": {
     "slide_type": "slide"
    }
   },
   "source": [
    "### Large number of shots"
   ]
  },
  {
   "cell_type": "code",
   "execution_count": 12,
   "id": "620b76bb",
   "metadata": {},
   "outputs": [
    {
     "name": "stdout",
     "output_type": "stream",
     "text": [
      "max_shots 8192\n",
      "Number of shots specified: 10000 exceeds max_shots property of the backend: 8192.\n"
     ]
    }
   ],
   "source": [
    "try:\n",
    "    from qiskit import QuantumCircuit, QiskitError\n",
    "    qc = QuantumCircuit(1, 1)\n",
    "    qc.h(0)\n",
    "    qc.measure(0, 0)\n",
    "    from qiskit import IBMQ\n",
    "    prov = IBMQ.load_account()\n",
    "    ibmq_qasm_sim = prov.get_backend('ibmq_qasm_simulator')\n",
    "    print(f\"max_shots {backend.configuration().max_shots}\")\n",
    "    ibmq_qasm_sim.run(qc, shots=10000).result().get_counts()\n",
    "except QiskitError as ex:\n",
    "    print(ex.message)"
   ]
  },
  {
   "cell_type": "code",
   "execution_count": 13,
   "id": "9cb73555",
   "metadata": {},
   "outputs": [
    {
     "data": {
      "text/plain": [
       "ExpectationValueResult(value=-1.28629134229759, variance=0.3013702509749989, confidence_interval=(-1.2955064759928994, -1.2770762086022804))"
      ]
     },
     "execution_count": 13,
     "metadata": {},
     "output_type": "execute_result"
    }
   ],
   "source": [
    "expval = PauliExpectationValue(ansatz, observable, backend=ibmq_qasm_sim)\n",
    "expval.evaluate([0, 1, 1, 2, 3, 5], shots=10000)"
   ]
  },
  {
   "cell_type": "markdown",
   "id": "88234028",
   "metadata": {
    "slideshow": {
     "slide_type": "slide"
    }
   },
   "source": [
    "### Readout error mitigation"
   ]
  },
  {
   "cell_type": "code",
   "execution_count": 14,
   "id": "c992bb1f",
   "metadata": {},
   "outputs": [
    {
     "name": "stdout",
     "output_type": "stream",
     "text": [
      "w/o mitigation shots=4000, result=ExpectationValueResult(value=-1.2595981522160702, variance=0.3167834517853961, confidence_interval=(-1.2745298670322645, -1.244666437399876))\n",
      "w/ tensored mitigation shots=4000, result=ExpectationValueResult(value=-1.2774601799810748, variance=0.3030202762495204, confidence_interval=(-1.292072288559631, -1.2628480714025185))\n",
      "w/ M3 mitigation shots=4000, result=ExpectationValueResult(value=-1.274027046504209, variance=0.3045704741174017, confidence_interval=(-1.2886772367653694, -1.2593768562430485))\n"
     ]
    }
   ],
   "source": [
    "from qiskit.evaluators.backends import ReadoutErrorMitigation\n",
    "\n",
    "backend = AerSimulator.from_backend(FakeBogota())\n",
    "mit_tensored = ReadoutErrorMitigation(\n",
    "    backend, mitigation=\"tensored\", refresh=600, shots=2000, mit_pattern=[[0], [1]]\n",
    ")\n",
    "mit_mthree = ReadoutErrorMitigation(\n",
    "    backend, mitigation=\"mthree\", refresh=600, shots=2000, qubits=[0, 1]\n",
    ")\n",
    "expval_raw = PauliExpectationValue(ansatz, observable, backend=backend)\n",
    "expval_tensored = PauliExpectationValue(ansatz, observable, backend=mit_tensored)\n",
    "expval_mthree = PauliExpectationValue(ansatz, observable, backend=mit_mthree)\n",
    "shots = 4000\n",
    "print(f\"w/o mitigation shots={shots}, result={expval_raw.evaluate([0, 1, 1, 2, 3, 5], shots=shots)}\")\n",
    "print(f\"w/ tensored mitigation shots={shots}, result={expval_tensored.evaluate([0, 1, 1, 2, 3, 5], shots=shots)}\")\n",
    "print(f\"w/ M3 mitigation shots={shots}, result={expval_mthree.evaluate([0, 1, 1, 2, 3, 5], shots=shots)}\")"
   ]
  },
  {
   "cell_type": "markdown",
   "id": "ce3810ee",
   "metadata": {
    "slideshow": {
     "slide_type": "slide"
    }
   },
   "source": [
    "### Gradient of expectation value"
   ]
  },
  {
   "cell_type": "code",
   "execution_count": 15,
   "id": "3070586b",
   "metadata": {},
   "outputs": [],
   "source": [
    "from qiskit.evaluators.expectation_value.expectation_value_gradient import (\n",
    "    FiniteDiffGradient,\n",
    "    ParameterShiftGradient,\n",
    ")"
   ]
  },
  {
   "cell_type": "code",
   "execution_count": 16,
   "id": "06c9d4ac",
   "metadata": {
    "slideshow": {
     "slide_type": "subslide"
    },
    "tags": []
   },
   "outputs": [
    {
     "name": "stdout",
     "output_type": "stream",
     "text": [
      "fin diff of exact [ 0.28213347  0.42656751  0.20442583  0.42656749 -0.17291453  0.0589814 ]\n",
      "param shift of exact [ 0.28213349  0.42656754  0.20442588  0.42656754 -0.17291452  0.05898141]\n",
      "fin diff w/o mit [ 0.16262713  0.4314544   0.34752583  0.24589932 -0.12426491  0.28484219]\n",
      "param shift w/o mit [ 0.24911042  0.3794629   0.17450169  0.38138296 -0.14381146  0.05720959]\n",
      "fin diff w/  mit [ 0.47428411  0.28015226  0.39108048  0.59261647 -0.07708405  0.07528248]\n",
      "param shift w/  mit [ 0.27310091  0.40288055  0.20674927  0.41180033 -0.16378474  0.05274286]\n"
     ]
    }
   ],
   "source": [
    "parameters = [0, 1, 1, 2, 3, 5]\n",
    "\n",
    "exact_expval = ExactExpectationValue(ansatz, observable, backend=AerSimulator())\n",
    "exact_findiff = FiniteDiffGradient(exact_expval, 1e-8)\n",
    "print(f\"fin diff of exact {exact_findiff.evaluate(parameters).values}\")\n",
    "\n",
    "exact_expval = ExactExpectationValue(ansatz, observable, backend=AerSimulator())\n",
    "exact_findiff = ParameterShiftGradient(exact_expval)\n",
    "print(f\"param shift of exact {exact_findiff.evaluate([0, 1, 1, 2, 3, 5]).values}\")\n",
    "\n",
    "shots = 2000\n",
    "findiff = FiniteDiffGradient(expval_raw, 1e-1)\n",
    "paramshift = ParameterShiftGradient(expval_raw)\n",
    "print(f\"fin diff w/o mit {findiff.evaluate(parameters, shots=shots).values}\")\n",
    "print(f\"param shift w/o mit {paramshift.evaluate(parameters, shots=shots).values}\")\n",
    "\n",
    "findiff = FiniteDiffGradient(expval_mthree, 1e-1)\n",
    "paramshift = ParameterShiftGradient(expval_mthree)\n",
    "print(f\"fin diff w/  mit {findiff.evaluate([0, 1, 1, 2, 3, 5], shots=shots).values}\")\n",
    "print(f\"param shift w/  mit {paramshift.evaluate(parameters, shots=shots).values}\")"
   ]
  },
  {
   "cell_type": "markdown",
   "id": "ced77786",
   "metadata": {
    "slideshow": {
     "slide_type": "slide"
    }
   },
   "source": [
    "### VQE by Scipy optimizer"
   ]
  },
  {
   "cell_type": "code",
   "execution_count": 17,
   "id": "7dd56dfc",
   "metadata": {
    "slideshow": {
     "slide_type": "subslide"
    }
   },
   "outputs": [
    {
     "name": "stdout",
     "output_type": "stream",
     "text": [
      "      fun: -1.847151931688854\n",
      " hess_inv: array([[ 1.81424069e+00, -7.89703086e-01, -5.73244156e-01,\n",
      "        -2.21914037e-01,  5.87909808e-01,  4.22230305e-01],\n",
      "       [-7.89703086e-01,  1.55393010e+00,  1.62068458e-01,\n",
      "         6.68346234e-02, -6.46365845e-01, -6.41520197e-01],\n",
      "       [-5.73244156e-01,  1.62068458e-01,  1.89981547e+00,\n",
      "        -1.39292826e-03, -7.06428492e-01, -1.19853898e-01],\n",
      "       [-2.21914037e-01,  6.68346234e-02, -1.39292826e-03,\n",
      "         8.57102253e-01, -1.72732718e-01, -1.63459541e-01],\n",
      "       [ 5.87909808e-01, -6.46365845e-01, -7.06428492e-01,\n",
      "        -1.72732718e-01,  1.49153981e+00,  4.65053775e-01],\n",
      "       [ 4.22230305e-01, -6.41520197e-01, -1.19853898e-01,\n",
      "        -1.63459541e-01,  4.65053775e-01,  1.12790465e+00]])\n",
      "      jac: array([-0.02623533,  0.01379811, -0.00251373,  0.02619514,  0.01860486,\n",
      "       -0.01356285])\n",
      "  message: 'Desired error not necessarily achieved due to precision loss.'\n",
      "     nfev: 69\n",
      "      nit: 9\n",
      "     njev: 57\n",
      "   status: 2\n",
      "  success: False\n",
      "        x: array([-0.83416504,  1.17090196, -1.50548417,  0.83722648, -0.88745376,\n",
      "       -1.0932899 ])\n"
     ]
    }
   ],
   "source": [
    "from scipy.optimize import minimize\n",
    "\n",
    "shots = 1000\n",
    "expval = PauliExpectationValue(ansatz, observable, backend=AerSimulator(), append=True)\n",
    "paramshift = ParameterShiftGradient(expval)\n",
    "# this may take a long time...\n",
    "result = minimize(\n",
    "    lambda x: expval.evaluate(x, shots=shots, seed_simulator=123).value,\n",
    "    np.zeros(6),\n",
    "    jac=lambda x: paramshift.evaluate(x, shots=shots, seed_simulator=123).values,\n",
    ")\n",
    "print(result)"
   ]
  },
  {
   "cell_type": "code",
   "execution_count": 18,
   "id": "71a0aed0",
   "metadata": {
    "slideshow": {
     "slide_type": "subslide"
    }
   },
   "outputs": [
    {
     "data": {
      "image/png": "[encoded data removed]",
      "text/plain": [
       "<Figure size 864x576 with 1 Axes>"
      ]
     },
     "metadata": {
      "needs_background": "light"
     },
     "output_type": "display_data"
    }
   ],
   "source": [
    "import matplotlib.pyplot as plt\n",
    "from qiskit.evaluators.results import ExpectationValueResult\n",
    "\n",
    "plt.figure(figsize=(12, 8))\n",
    "y = [h.value for h in expval.history if isinstance(h, ExpectationValueResult)]\n",
    "x = list(range(len(y)))\n",
    "yerr = np.array(\n",
    "    [tuple(abs(c - h.value) for c in h.confidence_interval) for h in expval.history if isinstance(h, ExpectationValueResult)]\n",
    ").transpose()\n",
    "plt.plot(y, color=\"blue\")\n",
    "plt.errorbar(x, y, yerr=yerr, capsize=5, fmt=\"o\", markersize=8, ecolor=\"blue\", markeredgecolor=\"blue\", color=\"w\")\n",
    "plt.xlabel(\"Eval count\")\n",
    "plt.ylabel(\"Energy\")\n",
    "plt.show()"
   ]
  },
  {
   "cell_type": "markdown",
   "id": "3d35b5d6",
   "metadata": {
    "slideshow": {
     "slide_type": "slide"
    }
   },
   "source": [
    "## Current status\n",
    "\n",
    "The following classes and features have been implemented.\n",
    "\n",
    "Expectation value classes\n",
    "- `PauliExpectationValue`: expectation value for shot-based backends (both AerBackend and IBMQBackend) \n",
    "- `ExactExpectationValue`: exact expectation value with `SaveExpectationValueVariance` instruction supported only by Aer\n",
    "\n",
    "Gradient of expectation value classes\n",
    "- `FiniteDiffGradient`: finite difference gradient\n",
    "- `ParameterShiftGradient`: parameter shift rule for the simple cases (parameters appears only once and they have coefficient 1)"
   ]
  },
  {
   "cell_type": "markdown",
   "id": "e2691314",
   "metadata": {
    "slideshow": {
     "slide_type": "subslide"
    }
   },
   "source": [
    "Features\n",
    "- Separate transpilation of ansatz and Pauli strings\n",
    "  - A parameterized circuit corresponding to an ansatz is usually shared by Pauli strings that comprise the observable. This technique reduces the duplicate transpile of the shared part.\n",
    "- Take a history of evaluations so that users can make a plot of optimization\n",
    "  - Optimization algorithms e.g., [Scipy.optimize.minimize](https://docs.scipy.org/doc/scipy/reference/generated/scipy.optimize.minimize.html), should take care of the history. But, [OptimizeResult](https://docs.scipy.org/doc/scipy/reference/generated/scipy.optimize.OptimizeResult.html#scipy.optimize.OptimizeResult) is not enough to include variance and confidence interval of expectation values.\n",
    "- Backend wrapper\n",
    "  - Retry of job submission in case of cancel and/or network error\n",
    "  - Split circuits if the size is larger than `max_experiments`\n",
    "  - Copy circutis to realize users-set `shots` that is more than `max_shots`\n",
    "  - Readout error mitigation (tensored, complete, M3)\n",
    "    - Periodical calibration, e.g., calibration every 30 minutes"
   ]
  },
  {
   "cell_type": "markdown",
   "id": "1a9eb6c2",
   "metadata": {
    "slideshow": {
     "slide_type": "subslide"
    }
   },
   "source": [
    "Questions\n",
    "- Why does expval take care of backend as backend wrapper?\n",
    "  - `QuantumInstance` of terra and `IBMQJobManager` (ManagedJob) of IBMQ provider can take care of only the split of circuits to satisfy `max_experiments`. But, as far as we know, there is no feature to realize `shots` more than `max_shots`. If this feature is implemented as part of IBMQ provider, it cannot be used for other backends, e.g., AQT and IonQ. Should it be part of terra?\n",
    "  - We experimentally }implemented preemptive readout error mitigation calibration, i.e., we put the calibration job between a set of jobs generated by the split or copy of circuits"
   ]
  },
  {
   "cell_type": "markdown",
   "id": "3a4a436b",
   "metadata": {
    "slideshow": {
     "slide_type": "subslide"
    }
   },
   "source": [
    "TODOs\n",
    "- Finalize the interface of the design\n",
    "- Make a PR of the first release of the expectation value\n",
    "\n",
    "Ultimate goals (not necessarily inclueded as part of the first PR)\n",
    "- Grouping algorithms of operators, AbelienGrouper (tensor product basis grouper) and grouper with entanglement measurements\n",
    "- Better gradient support (maybe based on Opflow gradient)\n",
    "- Qiskit Runtime support\n",
    "- Gate error mitigation, e.g., zero noise extrapolation\n",
    "- Classical shadow\n",
    "- Entanglement forging\n",
    "- On-chip parallelization\n",
    "- Bootstrap (sampling from probability distribution obtained from backend)\n",
    "- Merge shots (execute the same circuits again and merge the shots to realize a larger number of shots)"
   ]
  }
 ],
 "metadata": {
  "celltoolbar": "Slideshow",
  "interpreter": {
   "hash": "55198b233f406dc59b712acd847cdd7a571fa057c585d106ba05aad0d31ffb93"
  },
  "kernelspec": {
   "display_name": "Python 3 (ipykernel)",
   "language": "python",
   "name": "python3"
  },
  "language_info": {
   "codemirror_mode": {
    "name": "ipython",
    "version": 3
   },
   "file_extension": ".py",
   "mimetype": "text/x-python",
   "name": "python",
   "nbconvert_exporter": "python",
   "pygments_lexer": "ipython3",
   "version": "3.9.7"
  }
 },
 "nbformat": 4,
 "nbformat_minor": 5
}
