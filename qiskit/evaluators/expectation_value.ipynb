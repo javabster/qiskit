{
 "cells": [
  {
   "cell_type": "code",
   "execution_count": 1,
   "id": "1e757f1b",
   "metadata": {
    "tags": []
   },
   "outputs": [],
   "source": [
    "%load_ext autoreload\n",
    "%autoreload 2"
   ]
  },
  {
   "cell_type": "markdown",
   "id": "31bc9934",
   "metadata": {},
   "source": [
    "# ExpectationValue"
   ]
  },
  {
   "cell_type": "code",
   "execution_count": 2,
   "id": "a024d5e8-4460-473c-82d7-a83c8b0dc3eb",
   "metadata": {},
   "outputs": [],
   "source": [
    "import numpy as np"
   ]
  },
  {
   "cell_type": "code",
   "execution_count": 3,
   "id": "fee95b3f",
   "metadata": {},
   "outputs": [
    {
     "name": "stdout",
     "output_type": "stream",
     "text": [
      "observable\n",
      " 1.0 * XX\n",
      "+ 2.0 * YY\n",
      "+ 3.0 * ZZ\n",
      "ansatz\n",
      "      ┌──────────┐     ┌──────────┐     ┌──────────┐\n",
      "q_0: ┤ Ry(θ[0]) ├──■──┤ Ry(θ[2]) ├──■──┤ Ry(θ[4]) ├\n",
      "     ├──────────┤┌─┴─┐├──────────┤┌─┴─┐├──────────┤\n",
      "q_1: ┤ Ry(θ[1]) ├┤ X ├┤ Ry(θ[3]) ├┤ X ├┤ Ry(θ[5]) ├\n",
      "     └──────────┘└───┘└──────────┘└───┘└──────────┘\n"
     ]
    }
   ],
   "source": [
    "from qiskit.circuit.library import RealAmplitudes\n",
    "from qiskit.opflow import PauliSumOp\n",
    "\n",
    "observable = PauliSumOp.from_list([(\"XX\", 1), (\"YY\", 2), (\"ZZ\", 3)])\n",
    "print(\"observable\\n\", observable)\n",
    "\n",
    "ansatz = RealAmplitudes(num_qubits=2, reps=2)\n",
    "print(\"ansatz\\n\", ansatz)"
   ]
  },
  {
   "cell_type": "code",
   "execution_count": 4,
   "id": "60af9f40",
   "metadata": {},
   "outputs": [
    {
     "name": "stdout",
     "output_type": "stream",
     "text": [
      "1.8420921273153719\n"
     ]
    },
    {
     "name": "stderr",
     "output_type": "stream",
     "text": [
      "/Users/aa406165/Git/qiskit-core/qiskit/quantum_info/states/statevector.py:444: DeprecationWarning: The SparsePauliOp.table method is deprecated as of Qiskit Terra 0.19.0 and will be removed no sooner than 3 months after the releasedate. Use SparsePauliOp.paulis method instead.\n",
      "  for z, x, coeff in zip(oper.table.Z, oper.table.X, oper.coeffs)\n"
     ]
    }
   ],
   "source": [
    "from qiskit.quantum_info import Statevector\n",
    "\n",
    "expval = Statevector(ansatz.bind_parameters([0, 1, 1, 2, 3, 5])).expectation_value(\n",
    "    observable.primitive\n",
    ")\n",
    "print(expval.real)"
   ]
  },
  {
   "cell_type": "markdown",
   "id": "16dd493e",
   "metadata": {},
   "source": [
    "## ExpectationValue class"
   ]
  },
  {
   "cell_type": "code",
   "execution_count": 5,
   "id": "8d3036e8",
   "metadata": {},
   "outputs": [],
   "source": [
    "from qiskit.evaluators import PauliExpectationValue"
   ]
  },
  {
   "cell_type": "markdown",
   "id": "ee720e69",
   "metadata": {},
   "source": [
    "### PauliExpectationValue\n",
    "\n",
    "Evaluate the expectation value by sampling. This supports both AerSimulator and IBMQ backends."
   ]
  },
  {
   "cell_type": "code",
   "execution_count": 6,
   "id": "e60ada70",
   "metadata": {},
   "outputs": [],
   "source": [
    "from qiskit.providers.aer import AerSimulator\n",
    "\n",
    "backend = AerSimulator()"
   ]
  },
  {
   "cell_type": "code",
   "execution_count": 7,
   "id": "3989c189",
   "metadata": {
    "tags": []
   },
   "outputs": [
    {
     "name": "stderr",
     "output_type": "stream",
     "text": [
      "no max_experiments for this backend: aer_simulator\n",
      "/Users/aa406165/Git/qiskit-core/qiskit/evaluators/expectation_value/pauli_expectation_value.py:85: DeprecationWarning: Back-references to from Bit instances to their containing Registers have been deprecated. Instead, inspect Registers to find their contained Bits.\n",
      "  layout = [qr[0].index for _, qr, _ in transpiled_state[-state.num_qubits :]]\n"
     ]
    },
    {
     "data": {
      "text/plain": [
       "ExpectationValueResult(value=1.783203125, variance=11.119335174560547, confidence_interval=(1.6247985366532072, 1.9416077133467928))"
      ]
     },
     "execution_count": 7,
     "metadata": {},
     "output_type": "execute_result"
    }
   ],
   "source": [
    "expval = PauliExpectationValue(ansatz, observable, backend=backend)\n",
    "expval.evaluate([0, 1, 1, 2, 3, 5], shos=1000)"
   ]
  },
  {
   "cell_type": "code",
   "execution_count": 8,
   "id": "5e244ee2",
   "metadata": {},
   "outputs": [
    {
     "name": "stderr",
     "output_type": "stream",
     "text": [
      "no max_experiments for this backend: aer_simulator\n"
     ]
    },
    {
     "data": {
      "text/plain": [
       "ExpectationValueResult(value=1.76953125, variance=11.197494506835938, confidence_interval=(1.6097795448066898, 1.9292829551933102))"
      ]
     },
     "execution_count": 8,
     "metadata": {},
     "output_type": "execute_result"
    }
   ],
   "source": [
    "# pre-binding\n",
    "\n",
    "circuit = ansatz.bind_parameters([0, 1, 1, 2, 3, 5])\n",
    "expval = PauliExpectationValue(circuit, observable, backend=backend)\n",
    "expval.evaluate()"
   ]
  },
  {
   "cell_type": "code",
   "execution_count": 9,
   "id": "39627b38-e650-4ba8-b295-a68563a33905",
   "metadata": {},
   "outputs": [
    {
     "name": "stderr",
     "output_type": "stream",
     "text": [
      "no max_experiments for this backend: aer_simulator\n"
     ]
    },
    {
     "data": {
      "text/plain": [
       "ExpectationValueArrayResult(values=array([1.828     , 0.12533333]), variances=array([11.143024  , 10.34466756]), confidence_intervals=array([[1.73510685, 1.92089315],\n",
       "       [0.03225701, 0.21840966]]))"
      ]
     },
     "execution_count": 9,
     "metadata": {},
     "output_type": "execute_result"
    }
   ],
   "source": [
    "# multi prameters\n",
    "\n",
    "expval = PauliExpectationValue(ansatz, observable, backend=backend)\n",
    "expval.evaluate([[0, 1, 1, 2, 3, 5], [1, 1, 2, 3, 5, 8]], shots=3000)"
   ]
  },
  {
   "cell_type": "code",
   "execution_count": 10,
   "id": "7f92d32c-5eef-4468-a2b8-acc9fb90d360",
   "metadata": {},
   "outputs": [
    {
     "name": "stderr",
     "output_type": "stream",
     "text": [
      "no max_experiments for this backend: aer_simulator\n"
     ]
    },
    {
     "data": {
      "text/plain": [
       "ExpectationValueArrayResult(values=array([1.88232422, 0.16967773]), variances=array([11.11922276, 10.50249666]), confidence_intervals=array([[1.82605823, 1.93859021],\n",
       "       [0.11286499, 0.22649048]]))"
      ]
     },
     "execution_count": 10,
     "metadata": {},
     "output_type": "execute_result"
    }
   ],
   "source": [
    "# can pass ndarray\n",
    "expval = PauliExpectationValue(ansatz, observable, backend=backend)\n",
    "expval.evaluate(np.array([[0, 1, 1, 2, 3, 5], [1, 1, 2, 3, 5, 8]]), shots=8192)"
   ]
  },
  {
   "cell_type": "markdown",
   "id": "78b2e0bf",
   "metadata": {},
   "source": [
    "### Exact simulation by SaveExpectationValueVariance"
   ]
  },
  {
   "cell_type": "code",
   "execution_count": 11,
   "id": "1f5dca21",
   "metadata": {},
   "outputs": [],
   "source": [
    "from qiskit.evaluators import ExactExpectationValue"
   ]
  },
  {
   "cell_type": "code",
   "execution_count": 12,
   "id": "3ed3d334",
   "metadata": {},
   "outputs": [
    {
     "data": {
      "text/plain": [
       "ExpectationValueResult(value=1.8420921273153708, variance=6.432763522806668, confidence_interval=None)"
      ]
     },
     "execution_count": 12,
     "metadata": {},
     "output_type": "execute_result"
    }
   ],
   "source": [
    "expval = ExactExpectationValue(ansatz, observable, backend=backend)\n",
    "expval.evaluate([0, 1, 1, 2, 3, 5])"
   ]
  },
  {
   "cell_type": "code",
   "execution_count": 13,
   "id": "c7e99470",
   "metadata": {},
   "outputs": [
    {
     "data": {
      "text/plain": [
       "ExpectationValueArrayResult(values=array([1.84209213, 0.15611897]), variances=array([6.43276352, 5.35681431]), confidence_intervals=array([None, None], dtype=object))"
      ]
     },
     "execution_count": 13,
     "metadata": {},
     "output_type": "execute_result"
    }
   ],
   "source": [
    "expval = ExactExpectationValue(ansatz, observable, backend=backend)\n",
    "expval.evaluate(np.array([[0, 1, 1, 2, 3, 5], [1, 1, 2, 3, 5, 8]]))"
   ]
  },
  {
   "cell_type": "markdown",
   "id": "7ed181f7-7463-4432-b5f6-c40ddfe4330e",
   "metadata": {},
   "source": [
    "### Transpiled Circuits"
   ]
  },
  {
   "cell_type": "code",
   "execution_count": 26,
   "id": "5cb7102e-117f-42b9-b41f-c22f1f6ef179",
   "metadata": {},
   "outputs": [
    {
     "name": "stdout",
     "output_type": "stream",
     "text": [
      "global phase: π\n",
      "                                                                »\n",
      "ancilla_0 -> 0 ─────────────────────────────────────────────────»\n",
      "                                                                »\n",
      "ancilla_1 -> 1 ─────────────────────────────────────────────────»\n",
      "               ┌────┐┌──────────────┐┌────┐┌────────┐┌───┐┌────┐»\n",
      "      q_1 -> 2 ┤ √X ├┤ Rz(θ[1] + π) ├┤ √X ├┤ Rz(3π) ├┤ X ├┤ √X ├»\n",
      "               ├────┤├──────────────┤├────┤├────────┤└─┬─┘├────┤»\n",
      "      q_0 -> 3 ┤ √X ├┤ Rz(θ[0] + π) ├┤ √X ├┤ Rz(3π) ├──■──┤ √X ├»\n",
      "               └────┘└──────────────┘└────┘└────────┘     └────┘»\n",
      "ancilla_2 -> 4 ─────────────────────────────────────────────────»\n",
      "                                                                »\n",
      "        c11: 2/═════════════════════════════════════════════════»\n",
      "                                                                »\n",
      "«                                                                          »\n",
      "«ancilla_0 -> 0 ───────────────────────────────────────────────────────────»\n",
      "«                                                                          »\n",
      "«ancilla_1 -> 1 ───────────────────────────────────────────────────────────»\n",
      "«               ┌──────────────┐┌────┐┌────────┐┌───┐┌────┐┌──────────────┐»\n",
      "«      q_1 -> 2 ┤ Rz(θ[3] + π) ├┤ √X ├┤ Rz(3π) ├┤ X ├┤ √X ├┤ Rz(θ[5] + π) ├»\n",
      "«               ├──────────────┤├────┤├────────┤└─┬─┘├────┤├──────────────┤»\n",
      "«      q_0 -> 3 ┤ Rz(θ[2] + π) ├┤ √X ├┤ Rz(3π) ├──■──┤ √X ├┤ Rz(θ[4] + π) ├»\n",
      "«               └──────────────┘└────┘└────────┘     └────┘└──────────────┘»\n",
      "«ancilla_2 -> 4 ───────────────────────────────────────────────────────────»\n",
      "«                                                                          »\n",
      "«        c11: 2/═══════════════════════════════════════════════════════════»\n",
      "«                                                                          »\n",
      "«                                                                 \n",
      "«ancilla_0 -> 0 ──────────────────────────────────────────────────\n",
      "«                                                                 \n",
      "«ancilla_1 -> 1 ──────────────────────────────────────────────────\n",
      "«               ┌────┐┌────────┐┌─────────┐┌────┐┌─────────┐   ┌─┐\n",
      "«      q_1 -> 2 ┤ √X ├┤ Rz(3π) ├┤ Rz(π/2) ├┤ √X ├┤ Rz(π/2) ├───┤M├\n",
      "«               ├────┤├────────┤├─────────┤├────┤├─────────┤┌─┐└╥┘\n",
      "«      q_0 -> 3 ┤ √X ├┤ Rz(3π) ├┤ Rz(π/2) ├┤ √X ├┤ Rz(π/2) ├┤M├─╫─\n",
      "«               └────┘└────────┘└─────────┘└────┘└─────────┘└╥┘ ║ \n",
      "«ancilla_2 -> 4 ─────────────────────────────────────────────╫──╫─\n",
      "«                                                            ║  ║ \n",
      "«        c11: 2/═════════════════════════════════════════════╩══╩═\n",
      "«                                                            0  1 \n",
      "{'basis': 'XX', 'coeff': 1.0}\n",
      "\n",
      "global phase: π\n",
      "                                                                »\n",
      "ancilla_0 -> 0 ─────────────────────────────────────────────────»\n",
      "                                                                »\n",
      "ancilla_1 -> 1 ─────────────────────────────────────────────────»\n",
      "               ┌────┐┌──────────────┐┌────┐┌────────┐┌───┐┌────┐»\n",
      "      q_1 -> 2 ┤ √X ├┤ Rz(θ[1] + π) ├┤ √X ├┤ Rz(3π) ├┤ X ├┤ √X ├»\n",
      "               ├────┤├──────────────┤├────┤├────────┤└─┬─┘├────┤»\n",
      "      q_0 -> 3 ┤ √X ├┤ Rz(θ[0] + π) ├┤ √X ├┤ Rz(3π) ├──■──┤ √X ├»\n",
      "               └────┘└──────────────┘└────┘└────────┘     └────┘»\n",
      "ancilla_2 -> 4 ─────────────────────────────────────────────────»\n",
      "                                                                »\n",
      "        c11: 2/═════════════════════════════════════════════════»\n",
      "                                                                »\n",
      "«                                                                          »\n",
      "«ancilla_0 -> 0 ───────────────────────────────────────────────────────────»\n",
      "«                                                                          »\n",
      "«ancilla_1 -> 1 ───────────────────────────────────────────────────────────»\n",
      "«               ┌──────────────┐┌────┐┌────────┐┌───┐┌────┐┌──────────────┐»\n",
      "«      q_1 -> 2 ┤ Rz(θ[3] + π) ├┤ √X ├┤ Rz(3π) ├┤ X ├┤ √X ├┤ Rz(θ[5] + π) ├»\n",
      "«               ├──────────────┤├────┤├────────┤└─┬─┘├────┤├──────────────┤»\n",
      "«      q_0 -> 3 ┤ Rz(θ[2] + π) ├┤ √X ├┤ Rz(3π) ├──■──┤ √X ├┤ Rz(θ[4] + π) ├»\n",
      "«               └──────────────┘└────┘└────────┘     └────┘└──────────────┘»\n",
      "«ancilla_2 -> 4 ───────────────────────────────────────────────────────────»\n",
      "«                                                                          »\n",
      "«        c11: 2/═══════════════════════════════════════════════════════════»\n",
      "«                                                                          »\n",
      "«                                                      \n",
      "«ancilla_0 -> 0 ───────────────────────────────────────\n",
      "«                                                      \n",
      "«ancilla_1 -> 1 ───────────────────────────────────────\n",
      "«               ┌────┐┌────────┐┌────┐┌─────────┐   ┌─┐\n",
      "«      q_1 -> 2 ┤ √X ├┤ Rz(3π) ├┤ √X ├┤ Rz(π/2) ├───┤M├\n",
      "«               ├────┤├────────┤├────┤├─────────┤┌─┐└╥┘\n",
      "«      q_0 -> 3 ┤ √X ├┤ Rz(3π) ├┤ √X ├┤ Rz(π/2) ├┤M├─╫─\n",
      "«               └────┘└────────┘└────┘└─────────┘└╥┘ ║ \n",
      "«ancilla_2 -> 4 ──────────────────────────────────╫──╫─\n",
      "«                                                 ║  ║ \n",
      "«        c11: 2/══════════════════════════════════╩══╩═\n",
      "«                                                 0  1 \n",
      "{'basis': 'YY', 'coeff': 2.0}\n",
      "\n",
      "global phase: π\n",
      "                                                                »\n",
      "ancilla_0 -> 0 ─────────────────────────────────────────────────»\n",
      "                                                                »\n",
      "ancilla_1 -> 1 ─────────────────────────────────────────────────»\n",
      "               ┌────┐┌──────────────┐┌────┐┌────────┐┌───┐┌────┐»\n",
      "      q_1 -> 2 ┤ √X ├┤ Rz(θ[1] + π) ├┤ √X ├┤ Rz(3π) ├┤ X ├┤ √X ├»\n",
      "               ├────┤├──────────────┤├────┤├────────┤└─┬─┘├────┤»\n",
      "      q_0 -> 3 ┤ √X ├┤ Rz(θ[0] + π) ├┤ √X ├┤ Rz(3π) ├──■──┤ √X ├»\n",
      "               └────┘└──────────────┘└────┘└────────┘     └────┘»\n",
      "ancilla_2 -> 4 ─────────────────────────────────────────────────»\n",
      "                                                                »\n",
      "        c11: 2/═════════════════════════════════════════════════»\n",
      "                                                                »\n",
      "«                                                                          »\n",
      "«ancilla_0 -> 0 ───────────────────────────────────────────────────────────»\n",
      "«                                                                          »\n",
      "«ancilla_1 -> 1 ───────────────────────────────────────────────────────────»\n",
      "«               ┌──────────────┐┌────┐┌────────┐┌───┐┌────┐┌──────────────┐»\n",
      "«      q_1 -> 2 ┤ Rz(θ[3] + π) ├┤ √X ├┤ Rz(3π) ├┤ X ├┤ √X ├┤ Rz(θ[5] + π) ├»\n",
      "«               ├──────────────┤├────┤├────────┤└─┬─┘├────┤├──────────────┤»\n",
      "«      q_0 -> 3 ┤ Rz(θ[2] + π) ├┤ √X ├┤ Rz(3π) ├──■──┤ √X ├┤ Rz(θ[4] + π) ├»\n",
      "«               └──────────────┘└────┘└────────┘     └────┘└──────────────┘»\n",
      "«ancilla_2 -> 4 ───────────────────────────────────────────────────────────»\n",
      "«                                                                          »\n",
      "«        c11: 2/═══════════════════════════════════════════════════════════»\n",
      "«                                                                          »\n",
      "«                                     \n",
      "«ancilla_0 -> 0 ──────────────────────\n",
      "«                                     \n",
      "«ancilla_1 -> 1 ──────────────────────\n",
      "«               ┌────┐┌────────┐   ┌─┐\n",
      "«      q_1 -> 2 ┤ √X ├┤ Rz(3π) ├───┤M├\n",
      "«               ├────┤├────────┤┌─┐└╥┘\n",
      "«      q_0 -> 3 ┤ √X ├┤ Rz(3π) ├┤M├─╫─\n",
      "«               └────┘└────────┘└╥┘ ║ \n",
      "«ancilla_2 -> 4 ─────────────────╫──╫─\n",
      "«                                ║  ║ \n",
      "«        c11: 2/═════════════════╩══╩═\n",
      "«                                0  1 \n",
      "{'basis': 'ZZ', 'coeff': 3.0}\n",
      "\n",
      "ExpectationValueResult(value=1.156005859375, variance=12.818515956401825, confidence_interval=(1.0932408623134988, 1.2187708564365012))\n"
     ]
    }
   ],
   "source": [
    "from qiskit.test.mock import FakeBogota\n",
    "\n",
    "backend = AerSimulator.from_backend(FakeBogota())\n",
    "\n",
    "expval = PauliExpectationValue(ansatz, observable, backend=backend)\n",
    "expval.set_transpile_options(initial_layout=[3, 2])\n",
    "for circ in expval.transpiled_circuits:\n",
    "    print(circ)\n",
    "    print(circ.metadata)\n",
    "    print()\n",
    "print(expval.evaluate([0, 1, 1, 2, 3, 5]))"
   ]
  },
  {
   "cell_type": "markdown",
   "id": "a262bc31",
   "metadata": {},
   "source": [
    "### Transpile options and Run options"
   ]
  },
  {
   "cell_type": "code",
   "execution_count": 15,
   "id": "40ffcc90",
   "metadata": {},
   "outputs": [
    {
     "data": {
      "text/plain": [
       "ExpectationValueResult(value=1.2063796790962618, variance=12.756041185106277, confidence_interval=(1.2007169677238276, 1.2120423904686959))"
      ]
     },
     "execution_count": 15,
     "metadata": {},
     "output_type": "execute_result"
    }
   ],
   "source": [
    "expval = PauliExpectationValue(ansatz, observable, backend=backend)\n",
    "# setter\n",
    "expval.set_transpile_options(optimization_level=2)\n",
    "expval.set_run_options(shots=1_000_000)\n",
    "expval.evaluate([0, 1, 1, 2, 3, 5])"
   ]
  },
  {
   "cell_type": "code",
   "execution_count": 16,
   "id": "3d56d394",
   "metadata": {},
   "outputs": [
    {
     "data": {
      "text/plain": [
       "ExpectationValueResult(value=1.285888671875, variance=12.683094680309296, confidence_interval=(1.2235326041673829, 1.3482447395826171))"
      ]
     },
     "execution_count": 16,
     "metadata": {},
     "output_type": "execute_result"
    }
   ],
   "source": [
    "# Method chain\n",
    "expval.set_run_options(shots=8192).evaluate([0, 1, 1, 2, 3, 5])"
   ]
  },
  {
   "cell_type": "code",
   "execution_count": 17,
   "id": "075c0124",
   "metadata": {},
   "outputs": [
    {
     "data": {
      "text/plain": [
       "ExpectationValueResult(value=1.0066666666666668, variance=12.707511111111113, confidence_interval=(0.6807484258332879, 1.3325849075000458))"
      ]
     },
     "execution_count": 17,
     "metadata": {},
     "output_type": "execute_result"
    }
   ],
   "source": [
    "# evaluate's option\n",
    "expval.evaluate([0, 1, 1, 2, 3, 5], shots=300)"
   ]
  },
  {
   "cell_type": "markdown",
   "id": "59e716ee-e63d-4437-8287-3709d18c2e29",
   "metadata": {},
   "source": [
    "### Composite Evaluator"
   ]
  },
  {
   "cell_type": "code",
   "execution_count": 18,
   "id": "d73181d0-fe07-44d5-9045-0736f6a3f1d5",
   "metadata": {},
   "outputs": [],
   "source": [
    "from qiskit.evaluators import JointEvaluator"
   ]
  },
  {
   "cell_type": "code",
   "execution_count": 19,
   "id": "2e4ed8f5-6992-4abe-92d7-84ec94494fff",
   "metadata": {},
   "outputs": [
    {
     "data": {
      "text/plain": [
       "3"
      ]
     },
     "execution_count": 19,
     "metadata": {},
     "output_type": "execute_result"
    }
   ],
   "source": [
    "len(expval.transpiled_circuits)"
   ]
  },
  {
   "cell_type": "code",
   "execution_count": 20,
   "id": "48ad721a-2a0f-4a60-8e8c-bb19eb60d9a1",
   "metadata": {},
   "outputs": [],
   "source": [
    "joint_evaluator = JointEvaluator([expval, expval, expval])  # can be different evaluator"
   ]
  },
  {
   "cell_type": "code",
   "execution_count": 21,
   "id": "a45de43c-0062-4310-b31c-50e23fcfb263",
   "metadata": {},
   "outputs": [
    {
     "data": {
      "text/plain": [
       "9"
      ]
     },
     "execution_count": 21,
     "metadata": {},
     "output_type": "execute_result"
    }
   ],
   "source": [
    "len(joint_evaluator.transpiled_circuits)  # 3 × 3"
   ]
  },
  {
   "cell_type": "code",
   "execution_count": 22,
   "id": "d1822194-5230-4725-8695-d1f182643313",
   "metadata": {},
   "outputs": [
    {
     "data": {
      "text/plain": [
       "CompositeResult(items=[ExpectationValueResult(value=1.225830078125, variance=12.6898073554039, confidence_interval=(1.1634853090964266, 1.2881748471535734)), ExpectationValueResult(value=1.225830078125, variance=12.6898073554039, confidence_interval=(1.1634853090964266, 1.2881748471535734)), ExpectationValueResult(value=1.225830078125, variance=12.6898073554039, confidence_interval=(1.1634853090964266, 1.2881748471535734))])"
      ]
     },
     "execution_count": 22,
     "metadata": {},
     "output_type": "execute_result"
    }
   ],
   "source": [
    "joint_evaluator.evaluate([[0, 1, 1, 2, 3, 5], [1, 1, 2, 3, 5, 8], [1, 2, 3, 5, 8, 13]])"
   ]
  },
  {
   "cell_type": "markdown",
   "id": "0efdd073",
   "metadata": {},
   "source": [
    "### Mitigator"
   ]
  },
  {
   "cell_type": "code",
   "execution_count": 23,
   "id": "49b6629b",
   "metadata": {},
   "outputs": [
    {
     "name": "stderr",
     "output_type": "stream",
     "text": [
      "/Users/aa406165/Git/qiskit-core/qiskit/evaluators/expectation_value/pauli_expectation_value.py:85: DeprecationWarning: Back-references to from Bit instances to their containing Registers have been deprecated. Instead, inspect Registers to find their contained Bits.\n",
      "  layout = [qr[0].index for _, qr, _ in transpiled_state[-state.num_qubits :]]\n"
     ]
    },
    {
     "name": "stdout",
     "output_type": "stream",
     "text": [
      "w/o mitigation shots=2000, result=ExpectationValueResult(value=1.2040000000000002, variance=12.79971, confidence_interval=(1.0770517475204142, 1.3309482524795861))\n",
      "w/  mitigation shots=2000, result=ExpectationValueResult(value=1.3676132384195576, variance=12.250525734116593, confidence_interval=(1.2445587091474666, 1.4906677676916487))\n"
     ]
    }
   ],
   "source": [
    "from qiskit.evaluators.backends import ReadoutErrorMitigation\n",
    "\n",
    "backend = AerSimulator.from_backend(FakeBogota())\n",
    "mit = ReadoutErrorMitigation(\n",
    "    backend, mitigation=\"tensored\", refresh=1, shots=2000, mit_pattern=[[0], [1]]\n",
    ")\n",
    "expval_raw = PauliExpectationValue(ansatz, observable, backend=backend)\n",
    "expval_mit = PauliExpectationValue(ansatz, observable, backend=mit)\n",
    "shots = 2000\n",
    "print(\n",
    "    f\"w/o mitigation shots={shots}, result={expval_raw.evaluate([0, 1, 1, 2, 3, 5], shots=shots)}\"\n",
    ")\n",
    "print(\n",
    "    f\"w/  mitigation shots={shots}, result={expval_mit.evaluate([0, 1, 1, 2, 3, 5], shots=shots)}\"\n",
    ")"
   ]
  },
  {
   "cell_type": "code",
   "execution_count": null,
   "id": "fd4ce213",
   "metadata": {},
   "outputs": [],
   "source": []
  }
 ],
 "metadata": {
  "interpreter": {
   "hash": "55198b233f406dc59b712acd847cdd7a571fa057c585d106ba05aad0d31ffb93"
  },
  "kernelspec": {
   "display_name": "Terra",
   "language": "python",
   "name": "terra"
  },
  "language_info": {
   "codemirror_mode": {
    "name": "ipython",
    "version": 3
   },
   "file_extension": ".py",
   "mimetype": "text/x-python",
   "name": "python",
   "nbconvert_exporter": "python",
   "pygments_lexer": "ipython3",
   "version": "3.9.4"
  }
 },
 "nbformat": 4,
 "nbformat_minor": 5
}
