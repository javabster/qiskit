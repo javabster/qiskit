{
 "cells": [
  {
   "cell_type": "code",
   "execution_count": 1,
   "id": "211c0bfd-0e17-4d9c-a4e8-9824b0664815",
   "metadata": {
    "tags": []
   },
   "outputs": [],
   "source": [
    "%load_ext autoreload\n",
    "%autoreload 2"
   ]
  },
  {
   "cell_type": "markdown",
   "id": "6112c06c-7c93-4800-a5da-96688509edc6",
   "metadata": {},
   "source": [
    "# ExpectationValue"
   ]
  },
  {
   "cell_type": "code",
   "execution_count": 2,
   "id": "290d2191-41f2-47fb-ab48-db4e73b81029",
   "metadata": {},
   "outputs": [
    {
     "name": "stdout",
     "output_type": "stream",
     "text": [
      "observable\n",
      " 1.0 * XX\n",
      "+ 2.0 * YY\n",
      "+ 3.0 * ZZ\n",
      "ansatz\n",
      "      ┌──────────┐     ┌──────────┐     ┌──────────┐\n",
      "q_0: ┤ Ry(θ[0]) ├──■──┤ Ry(θ[2]) ├──■──┤ Ry(θ[4]) ├\n",
      "     ├──────────┤┌─┴─┐├──────────┤┌─┴─┐├──────────┤\n",
      "q_1: ┤ Ry(θ[1]) ├┤ X ├┤ Ry(θ[3]) ├┤ X ├┤ Ry(θ[5]) ├\n",
      "     └──────────┘└───┘└──────────┘└───┘└──────────┘\n"
     ]
    }
   ],
   "source": [
    "from qiskit.circuit.library import RealAmplitudes\n",
    "from qiskit.opflow import PauliSumOp\n",
    "\n",
    "observable = PauliSumOp.from_list([(\"XX\", 1), (\"YY\", 2), (\"ZZ\", 3)])\n",
    "print(\"observable\\n\", observable)\n",
    "\n",
    "ansatz = RealAmplitudes(num_qubits=2, reps=2)\n",
    "print(\"ansatz\\n\", ansatz)"
   ]
  },
  {
   "cell_type": "code",
   "execution_count": 3,
   "id": "6d96d3ec-3da4-4b5d-b80d-39a4bff4f068",
   "metadata": {},
   "outputs": [
    {
     "name": "stdout",
     "output_type": "stream",
     "text": [
      "1.8420921273153719\n"
     ]
    }
   ],
   "source": [
    "from qiskit.quantum_info import Statevector\n",
    "\n",
    "expval = Statevector(ansatz.bind_parameters([0, 1, 1, 2, 3, 5])).expectation_value(\n",
    "    observable.primitive\n",
    ")\n",
    "print(expval.real)"
   ]
  },
  {
   "cell_type": "markdown",
   "id": "59f273de-e39b-4e50-bca0-a2d32ba9d5fa",
   "metadata": {},
   "source": [
    "## ExpectationValue class"
   ]
  },
  {
   "cell_type": "code",
   "execution_count": 4,
   "id": "16ee4678-ca31-4923-8ef5-c7894c6fda70",
   "metadata": {},
   "outputs": [],
   "source": [
    "from qiskit.evaluators import PauliExpectationValue"
   ]
  },
  {
   "cell_type": "markdown",
   "id": "0d27e313-97c9-4d48-80ee-4fa1d04db66f",
   "metadata": {},
   "source": [
    "### AerBackend (QasmSimulator)"
   ]
  },
  {
   "cell_type": "code",
   "execution_count": 5,
   "id": "67da0cae-0fe2-4ad1-828b-181147956460",
   "metadata": {},
   "outputs": [],
   "source": [
    "from qiskit.providers.aer import AerSimulator"
   ]
  },
  {
   "cell_type": "code",
   "execution_count": 6,
   "id": "4eb909d3-70b5-4ade-8062-e62ba49c0795",
   "metadata": {},
   "outputs": [
    {
     "data": {
      "text/plain": [
       "ExpectationValueResult(value=array(1.71679688+0.j), variance=array(11.19474411+0.j), confidence_interval=[((1.5574310667008238+0j), (1.8761626832991762+0j))])"
      ]
     },
     "execution_count": 6,
     "metadata": {},
     "output_type": "execute_result"
    }
   ],
   "source": [
    "backend = AerSimulator()\n",
    "\n",
    "expval = PauliExpectationValue(ansatz, observable, backend=backend)\n",
    "expval.evaluate([0, 1, 1, 2, 3, 5])"
   ]
  },
  {
   "cell_type": "code",
   "execution_count": 7,
   "id": "20e3c006-c832-464a-8293-6b85cd7d714e",
   "metadata": {},
   "outputs": [
    {
     "data": {
      "text/plain": [
       "ExpectationValueResult(value=array(1.83203125+0.j), variance=array(11.15776062+0.j), confidence_interval=[((1.6730020581390936+0j), (1.9910604418609064+0j))])"
      ]
     },
     "execution_count": 7,
     "metadata": {},
     "output_type": "execute_result"
    }
   ],
   "source": [
    "# no parameter case\n",
    "\n",
    "circuit = ansatz.bind_parameters([0, 1, 1, 2, 3, 5])\n",
    "expval = PauliExpectationValue(circuit, observable, backend=backend)\n",
    "expval.evaluate()"
   ]
  },
  {
   "cell_type": "markdown",
   "id": "7aed3254-3d81-4073-9c42-1d714e66734c",
   "metadata": {},
   "source": [
    "### Exact simulation by SaveExpectationValueVariance"
   ]
  },
  {
   "cell_type": "code",
   "execution_count": 8,
   "id": "eaf7773e-8955-4dc6-8f4f-6b86585ed7a7",
   "metadata": {},
   "outputs": [],
   "source": [
    "from qiskit.evaluators import ExactExpectationValue"
   ]
  },
  {
   "cell_type": "code",
   "execution_count": 9,
   "id": "66ac855c-34aa-4700-9287-ef410a7349e9",
   "metadata": {},
   "outputs": [
    {
     "name": "stdout",
     "output_type": "stream",
     "text": [
      "CPU times: user 6.89 ms, sys: 971 µs, total: 7.86 ms\n",
      "Wall time: 7.49 ms\n"
     ]
    },
    {
     "data": {
      "text/plain": [
       "ExpectationValueResult(value=array(1.84209213), variance=array(6.43276352), confidence_interval=None)"
      ]
     },
     "execution_count": 9,
     "metadata": {},
     "output_type": "execute_result"
    }
   ],
   "source": [
    "expval = ExactExpectationValue(ansatz, observable, backend=backend)\n",
    "%time expval.evaluate([0, 1, 1, 2, 3, 5])"
   ]
  },
  {
   "cell_type": "code",
   "execution_count": 10,
   "id": "ea2d7630-9e70-4f3e-93d0-1eeb74934164",
   "metadata": {},
   "outputs": [
    {
     "name": "stdout",
     "output_type": "stream",
     "text": [
      "CPU times: user 6.13 ms, sys: 2.35 ms, total: 8.48 ms\n",
      "Wall time: 7.37 ms\n"
     ]
    },
    {
     "data": {
      "text/plain": [
       "ExpectationValueResult(value=array(0.15611897), variance=array(5.35681431), confidence_interval=None)"
      ]
     },
     "execution_count": 10,
     "metadata": {},
     "output_type": "execute_result"
    }
   ],
   "source": [
    "%time expval.evaluate([1, 1, 2, 3, 5, 8])"
   ]
  },
  {
   "cell_type": "markdown",
   "id": "2e07b7bd-aa6d-4caa-8b0b-4c68dba68a8b",
   "metadata": {},
   "source": [
    "### Transpile options and Run options"
   ]
  },
  {
   "cell_type": "code",
   "execution_count": 11,
   "id": "0f9be475-c7af-4b43-9c03-6f82961b4216",
   "metadata": {},
   "outputs": [
    {
     "data": {
      "text/plain": [
       "ExpectationValueResult(value=array(1.844766+0.j), variance=array(11.14023179+0.j), confidence_interval=[((1.8396758251431204+0j), (1.849856174856879+0j))])"
      ]
     },
     "execution_count": 11,
     "metadata": {},
     "output_type": "execute_result"
    }
   ],
   "source": [
    "expval = PauliExpectationValue(ansatz, observable, backend=backend)\n",
    "# setter\n",
    "expval.set_transpile_options(optimization_level=2)\n",
    "expval.set_run_options(shots=1_000_000)\n",
    "expval.evaluate([0, 1, 1, 2, 3, 5])"
   ]
  },
  {
   "cell_type": "code",
   "execution_count": 12,
   "id": "d39ea4f4-1f80-48a2-90a4-1ea1a9de0182",
   "metadata": {},
   "outputs": [
    {
     "data": {
      "text/plain": [
       "ExpectationValueResult(value=array(1.8203125+0.j), variance=array(11.14194298+0.j), confidence_interval=[((1.764083035748605+0j), (1.876541964251395+0j))])"
      ]
     },
     "execution_count": 12,
     "metadata": {},
     "output_type": "execute_result"
    }
   ],
   "source": [
    "# Method chain\n",
    "expval.set_run_options(shots=8192).evaluate([0, 1, 1, 2, 3, 5])"
   ]
  },
  {
   "cell_type": "code",
   "execution_count": 13,
   "id": "71da927b-c25b-49cc-b546-c7ed9a5beaa8",
   "metadata": {},
   "outputs": [
    {
     "data": {
      "text/plain": [
       "ExpectationValueResult(value=array(2.16+0.j), variance=array(10.79111111+0.j), confidence_interval=[((1.8698430390175642+0j), (2.450156960982435+0j))])"
      ]
     },
     "execution_count": 13,
     "metadata": {},
     "output_type": "execute_result"
    }
   ],
   "source": [
    "# evaluate's option\n",
    "expval.evaluate([0, 1, 1, 2, 3, 5], shots=300)"
   ]
  },
  {
   "cell_type": "markdown",
   "id": "01a6501f-d9a2-491d-9890-2634d5754143",
   "metadata": {},
   "source": [
    "### Mitigator"
   ]
  },
  {
   "cell_type": "markdown",
   "id": "e5b90a45-e3d5-4b36-9b8d-8c49d45f0a65",
   "metadata": {},
   "source": [
    "Readout mitigator classes [#6485](https://github.com/Qiskit/qiskit-terra/pull/6485) is required\n"
   ]
  },
  {
   "cell_type": "code",
   "execution_count": null,
   "id": "931b3e89-132f-4c20-8169-d7ae165f9919",
   "metadata": {},
   "outputs": [],
   "source": [
    "amat = ...\n",
    "\n",
    "mitigator = CompleteReadoutMitigator(amat)\n",
    "PauliExpectationValue(ansatz, observable, backend=backend, mitigator=mitigator)\n",
    "expval.evaluate([0, 1, 1, 2, 3, 5])"
   ]
  },
  {
   "cell_type": "code",
   "execution_count": null,
   "id": "7b9467f0-59f3-402c-a3b1-c736ecf793f2",
   "metadata": {},
   "outputs": [],
   "source": []
  }
 ],
 "metadata": {
  "kernelspec": {
   "display_name": "Terra",
   "language": "python",
   "name": "terra"
  },
  "language_info": {
   "codemirror_mode": {
    "name": "ipython",
    "version": 3
   },
   "file_extension": ".py",
   "mimetype": "text/x-python",
   "name": "python",
   "nbconvert_exporter": "python",
   "pygments_lexer": "ipython3",
   "version": "3.9.5"
  }
 },
 "nbformat": 4,
 "nbformat_minor": 5
}
