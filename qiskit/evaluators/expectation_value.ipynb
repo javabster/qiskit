{
 "cells": [
  {
   "cell_type": "code",
   "execution_count": 1,
   "id": "d3e45477",
   "metadata": {
    "tags": []
   },
   "outputs": [],
   "source": [
    "%load_ext autoreload\n",
    "%autoreload 2"
   ]
  },
  {
   "cell_type": "markdown",
   "id": "754d1b25",
   "metadata": {},
   "source": [
    "# ExpectationValue"
   ]
  },
  {
   "cell_type": "code",
   "execution_count": 2,
   "id": "7c4624c6",
   "metadata": {},
   "outputs": [],
   "source": [
    "import numpy as np"
   ]
  },
  {
   "cell_type": "code",
   "execution_count": 3,
   "id": "23ac098b",
   "metadata": {},
   "outputs": [
    {
     "name": "stdout",
     "output_type": "stream",
     "text": [
      "observable\n",
      " -1.052373245772859 * II\n",
      "+ 0.39793742484318045 * IZ\n",
      "- 0.39793742484318045 * ZI\n",
      "- 0.01128010425623538 * ZZ\n",
      "+ 0.18093119978423156 * XX\n",
      "ansatz\n",
      "      ┌──────────┐     ┌──────────┐     ┌──────────┐\n",
      "q_0: ┤ Ry(θ[0]) ├──■──┤ Ry(θ[2]) ├──■──┤ Ry(θ[4]) ├\n",
      "     ├──────────┤┌─┴─┐├──────────┤┌─┴─┐├──────────┤\n",
      "q_1: ┤ Ry(θ[1]) ├┤ X ├┤ Ry(θ[3]) ├┤ X ├┤ Ry(θ[5]) ├\n",
      "     └──────────┘└───┘└──────────┘└───┘└──────────┘\n"
     ]
    }
   ],
   "source": [
    "from qiskit.circuit.library import RealAmplitudes\n",
    "from qiskit.opflow import PauliSumOp\n",
    "\n",
    "observable = PauliSumOp.from_list(\n",
    "    [\n",
    "        (\"II\", -1.052373245772859),\n",
    "        (\"IZ\", 0.39793742484318045),\n",
    "        (\"ZI\", -0.39793742484318045),\n",
    "        (\"ZZ\", -0.01128010425623538),\n",
    "        (\"XX\", 0.18093119978423156),\n",
    "    ]\n",
    ")\n",
    "print(\"observable\\n\", observable)\n",
    "\n",
    "ansatz = RealAmplitudes(num_qubits=2, reps=2)\n",
    "print(\"ansatz\\n\", ansatz)"
   ]
  },
  {
   "cell_type": "code",
   "execution_count": 4,
   "id": "d6207a05",
   "metadata": {},
   "outputs": [
    {
     "name": "stdout",
     "output_type": "stream",
     "text": [
      "-1.284366511861733\n"
     ]
    },
    {
     "name": "stderr",
     "output_type": "stream",
     "text": [
      "/Users/aa406165/Git/qiskit-core/qiskit/quantum_info/states/statevector.py:444: DeprecationWarning: The SparsePauliOp.table method is deprecated as of Qiskit Terra 0.19.0 and will be removed no sooner than 3 months after the releasedate. Use SparsePauliOp.paulis method instead.\n",
      "  for z, x, coeff in zip(oper.table.Z, oper.table.X, oper.coeffs)\n"
     ]
    }
   ],
   "source": [
    "from qiskit.quantum_info import Statevector\n",
    "\n",
    "expval = Statevector(ansatz.bind_parameters([0, 1, 1, 2, 3, 5])).expectation_value(\n",
    "    observable.primitive\n",
    ")\n",
    "print(expval.real)"
   ]
  },
  {
   "cell_type": "markdown",
   "id": "c780008a",
   "metadata": {},
   "source": [
    "## ExpectationValue class"
   ]
  },
  {
   "cell_type": "code",
   "execution_count": 5,
   "id": "6c2fb712",
   "metadata": {},
   "outputs": [],
   "source": [
    "from qiskit.evaluators import PauliExpectationValue"
   ]
  },
  {
   "cell_type": "markdown",
   "id": "c225b01f",
   "metadata": {},
   "source": [
    "### PauliExpectationValue\n",
    "\n",
    "Evaluate the expectation value by sampling. This supports both AerSimulator and IBMQ backends."
   ]
  },
  {
   "cell_type": "code",
   "execution_count": 6,
   "id": "6d792657",
   "metadata": {},
   "outputs": [],
   "source": [
    "from qiskit.providers.aer import AerSimulator\n",
    "\n",
    "backend = AerSimulator()"
   ]
  },
  {
   "cell_type": "code",
   "execution_count": 7,
   "id": "3371bd7d",
   "metadata": {
    "tags": []
   },
   "outputs": [
    {
     "data": {
      "text/plain": [
       "ExpectationValueResult(value=-1.263619750229793, variance=0.303678732575533, confidence_interval=(-1.29253282456233, -1.234706675897256))"
      ]
     },
     "execution_count": 7,
     "metadata": {},
     "output_type": "execute_result"
    }
   ],
   "source": [
    "expval = PauliExpectationValue(ansatz, observable, backend=backend)\n",
    "expval.evaluate([0, 1, 1, 2, 3, 5], shos=1000)"
   ]
  },
  {
   "cell_type": "code",
   "execution_count": 8,
   "id": "87b95888",
   "metadata": {},
   "outputs": [
    {
     "data": {
      "text/plain": [
       "ExpectationValueResult(value=-1.2751031157644306, variance=0.30593696641366713, confidence_interval=(-1.3041070672235413, -1.2460991643053199))"
      ]
     },
     "execution_count": 8,
     "metadata": {},
     "output_type": "execute_result"
    }
   ],
   "source": [
    "# pre-binding\n",
    "\n",
    "circuit = ansatz.bind_parameters([0, 1, 1, 2, 3, 5])\n",
    "expval = PauliExpectationValue(circuit, observable, backend=backend)\n",
    "expval.evaluate()"
   ]
  },
  {
   "cell_type": "code",
   "execution_count": 9,
   "id": "048ec369",
   "metadata": {},
   "outputs": [
    {
     "data": {
      "text/plain": [
       "ExpectationValueArrayResult(values=array([-1.27769394, -1.32240884]), variances=array([0.3030364 , 0.24212723]), confidence_intervals=array([[-1.29456278, -1.2608251 ],\n",
       "       [-1.3371496 , -1.30766809]]))"
      ]
     },
     "execution_count": 9,
     "metadata": {},
     "output_type": "execute_result"
    }
   ],
   "source": [
    "# multi prameters\n",
    "\n",
    "expval = PauliExpectationValue(ansatz, observable, backend=backend)\n",
    "expval.evaluate([[0, 1, 1, 2, 3, 5], [1, 1, 2, 3, 5, 8]], shots=3000)"
   ]
  },
  {
   "cell_type": "code",
   "execution_count": 10,
   "id": "d255c054",
   "metadata": {},
   "outputs": [
    {
     "data": {
      "text/plain": [
       "ExpectationValueArrayResult(values=array([-1.28988318, -1.32140738]), variances=array([0.30035609, 0.24389652]), confidence_intervals=array([[-1.30004626, -1.27972009],\n",
       "       [-1.33036994, -1.31244482]]))"
      ]
     },
     "execution_count": 10,
     "metadata": {},
     "output_type": "execute_result"
    }
   ],
   "source": [
    "# can pass ndarray\n",
    "expval = PauliExpectationValue(ansatz, observable, backend=backend)\n",
    "expval.evaluate(np.array([[0, 1, 1, 2, 3, 5], [1, 1, 2, 3, 5, 8]]), shots=8192)"
   ]
  },
  {
   "cell_type": "markdown",
   "id": "d8c66b5a",
   "metadata": {},
   "source": [
    "### Exact simulation by SaveExpectationValueVariance"
   ]
  },
  {
   "cell_type": "code",
   "execution_count": 11,
   "id": "e43c426c",
   "metadata": {},
   "outputs": [],
   "source": [
    "from qiskit.evaluators import ExactExpectationValue"
   ]
  },
  {
   "cell_type": "code",
   "execution_count": 12,
   "id": "6b06953b",
   "metadata": {},
   "outputs": [
    {
     "data": {
      "text/plain": [
       "ExpectationValueResult(value=-1.2843665118617325, variance=0.26528532962023577, confidence_interval=None)"
      ]
     },
     "execution_count": 12,
     "metadata": {},
     "output_type": "execute_result"
    }
   ],
   "source": [
    "expval = ExactExpectationValue(ansatz, observable, backend=backend)\n",
    "expval.evaluate([0, 1, 1, 2, 3, 5])"
   ]
  },
  {
   "cell_type": "code",
   "execution_count": 13,
   "id": "d6b58811",
   "metadata": {},
   "outputs": [
    {
     "data": {
      "text/plain": [
       "ExpectationValueArrayResult(values=array([-1.28436651, -1.31875263]), variances=array([0.26528533, 0.42691205]), confidence_intervals=array([None, None], dtype=object))"
      ]
     },
     "execution_count": 13,
     "metadata": {},
     "output_type": "execute_result"
    }
   ],
   "source": [
    "expval = ExactExpectationValue(ansatz, observable, backend=backend)\n",
    "expval.evaluate(np.array([[0, 1, 1, 2, 3, 5], [1, 1, 2, 3, 5, 8]]))"
   ]
  },
  {
   "cell_type": "markdown",
   "id": "c6818301",
   "metadata": {},
   "source": [
    "### Transpiled Circuits"
   ]
  },
  {
   "cell_type": "code",
   "execution_count": 14,
   "id": "23687a4f",
   "metadata": {},
   "outputs": [
    {
     "name": "stdout",
     "output_type": "stream",
     "text": [
      "ExpectationValueResult(value=-1.2399118010914065, variance=0.32139624486300367, confidence_interval=(-1.269630658827474, -1.2101929433553391))\n",
      "global phase: π\n",
      "                                                                »\n",
      "ancilla_0 -> 0 ─────────────────────────────────────────────────»\n",
      "                                                                »\n",
      "ancilla_1 -> 1 ─────────────────────────────────────────────────»\n",
      "               ┌────┐┌──────────────┐┌────┐┌────────┐┌───┐┌────┐»\n",
      "      q_1 -> 2 ┤ √X ├┤ Rz(θ[1] + π) ├┤ √X ├┤ Rz(3π) ├┤ X ├┤ √X ├»\n",
      "               ├────┤├──────────────┤├────┤├────────┤└─┬─┘├────┤»\n",
      "      q_0 -> 3 ┤ √X ├┤ Rz(θ[0] + π) ├┤ √X ├┤ Rz(3π) ├──■──┤ √X ├»\n",
      "               └────┘└──────────────┘└────┘└────────┘     └────┘»\n",
      "ancilla_2 -> 4 ─────────────────────────────────────────────────»\n",
      "                                                                »\n",
      "          c: 2/═════════════════════════════════════════════════»\n",
      "                                                                »\n",
      "«                                                                          »\n",
      "«ancilla_0 -> 0 ───────────────────────────────────────────────────────────»\n",
      "«                                                                          »\n",
      "«ancilla_1 -> 1 ───────────────────────────────────────────────────────────»\n",
      "«               ┌──────────────┐┌────┐┌────────┐┌───┐┌────┐┌──────────────┐»\n",
      "«      q_1 -> 2 ┤ Rz(θ[3] + π) ├┤ √X ├┤ Rz(3π) ├┤ X ├┤ √X ├┤ Rz(θ[5] + π) ├»\n",
      "«               ├──────────────┤├────┤├────────┤└─┬─┘├────┤├──────────────┤»\n",
      "«      q_0 -> 3 ┤ Rz(θ[2] + π) ├┤ √X ├┤ Rz(3π) ├──■──┤ √X ├┤ Rz(θ[4] + π) ├»\n",
      "«               └──────────────┘└────┘└────────┘     └────┘└──────────────┘»\n",
      "«ancilla_2 -> 4 ───────────────────────────────────────────────────────────»\n",
      "«                                                                          »\n",
      "«          c: 2/═══════════════════════════════════════════════════════════»\n",
      "«                                                                          »\n",
      "«                                     \n",
      "«ancilla_0 -> 0 ──────────────────────\n",
      "«                                     \n",
      "«ancilla_1 -> 1 ──────────────────────\n",
      "«               ┌────┐┌────────┐   ┌─┐\n",
      "«      q_1 -> 2 ┤ √X ├┤ Rz(3π) ├───┤M├\n",
      "«               ├────┤├────────┤┌─┐└╥┘\n",
      "«      q_0 -> 3 ┤ √X ├┤ Rz(3π) ├┤M├─╫─\n",
      "«               └────┘└────────┘└╥┘ ║ \n",
      "«ancilla_2 -> 4 ─────────────────╫──╫─\n",
      "«                                ║  ║ \n",
      "«          c: 2/═════════════════╩══╩═\n",
      "«                                0  1 \n",
      "global phase: π\n",
      "                                                                »\n",
      "ancilla_0 -> 0 ─────────────────────────────────────────────────»\n",
      "                                                                »\n",
      "ancilla_1 -> 1 ─────────────────────────────────────────────────»\n",
      "               ┌────┐┌──────────────┐┌────┐┌────────┐┌───┐┌────┐»\n",
      "      q_1 -> 2 ┤ √X ├┤ Rz(θ[1] + π) ├┤ √X ├┤ Rz(3π) ├┤ X ├┤ √X ├»\n",
      "               ├────┤├──────────────┤├────┤├────────┤└─┬─┘├────┤»\n",
      "      q_0 -> 3 ┤ √X ├┤ Rz(θ[0] + π) ├┤ √X ├┤ Rz(3π) ├──■──┤ √X ├»\n",
      "               └────┘└──────────────┘└────┘└────────┘     └────┘»\n",
      "ancilla_2 -> 4 ─────────────────────────────────────────────────»\n",
      "                                                                »\n",
      "          c: 2/═════════════════════════════════════════════════»\n",
      "                                                                »\n",
      "«                                                                          »\n",
      "«ancilla_0 -> 0 ───────────────────────────────────────────────────────────»\n",
      "«                                                                          »\n",
      "«ancilla_1 -> 1 ───────────────────────────────────────────────────────────»\n",
      "«               ┌──────────────┐┌────┐┌────────┐┌───┐┌────┐┌──────────────┐»\n",
      "«      q_1 -> 2 ┤ Rz(θ[3] + π) ├┤ √X ├┤ Rz(3π) ├┤ X ├┤ √X ├┤ Rz(θ[5] + π) ├»\n",
      "«               ├──────────────┤├────┤├────────┤└─┬─┘├────┤├──────────────┤»\n",
      "«      q_0 -> 3 ┤ Rz(θ[2] + π) ├┤ √X ├┤ Rz(3π) ├──■──┤ √X ├┤ Rz(θ[4] + π) ├»\n",
      "«               └──────────────┘└────┘└────────┘     └────┘└──────────────┘»\n",
      "«ancilla_2 -> 4 ───────────────────────────────────────────────────────────»\n",
      "«                                                                          »\n",
      "«          c: 2/═══════════════════════════════════════════════════════════»\n",
      "«                                                                          »\n",
      "«                                     \n",
      "«ancilla_0 -> 0 ──────────────────────\n",
      "«                                     \n",
      "«ancilla_1 -> 1 ──────────────────────\n",
      "«               ┌────┐┌────────┐   ┌─┐\n",
      "«      q_1 -> 2 ┤ √X ├┤ Rz(3π) ├───┤M├\n",
      "«               ├────┤├────────┤┌─┐└╥┘\n",
      "«      q_0 -> 3 ┤ √X ├┤ Rz(3π) ├┤M├─╫─\n",
      "«               └────┘└────────┘└╥┘ ║ \n",
      "«ancilla_2 -> 4 ─────────────────╫──╫─\n",
      "«                                ║  ║ \n",
      "«          c: 2/═════════════════╩══╩═\n",
      "«                                0  1 \n",
      "global phase: π\n",
      "                                                                »\n",
      "ancilla_0 -> 0 ─────────────────────────────────────────────────»\n",
      "                                                                »\n",
      "ancilla_1 -> 1 ─────────────────────────────────────────────────»\n",
      "               ┌────┐┌──────────────┐┌────┐┌────────┐┌───┐┌────┐»\n",
      "      q_1 -> 2 ┤ √X ├┤ Rz(θ[1] + π) ├┤ √X ├┤ Rz(3π) ├┤ X ├┤ √X ├»\n",
      "               ├────┤├──────────────┤├────┤├────────┤└─┬─┘├────┤»\n",
      "      q_0 -> 3 ┤ √X ├┤ Rz(θ[0] + π) ├┤ √X ├┤ Rz(3π) ├──■──┤ √X ├»\n",
      "               └────┘└──────────────┘└────┘└────────┘     └────┘»\n",
      "ancilla_2 -> 4 ─────────────────────────────────────────────────»\n",
      "                                                                »\n",
      "          c: 2/═════════════════════════════════════════════════»\n",
      "                                                                »\n",
      "«                                                                          »\n",
      "«ancilla_0 -> 0 ───────────────────────────────────────────────────────────»\n",
      "«                                                                          »\n",
      "«ancilla_1 -> 1 ───────────────────────────────────────────────────────────»\n",
      "«               ┌──────────────┐┌────┐┌────────┐┌───┐┌────┐┌──────────────┐»\n",
      "«      q_1 -> 2 ┤ Rz(θ[3] + π) ├┤ √X ├┤ Rz(3π) ├┤ X ├┤ √X ├┤ Rz(θ[5] + π) ├»\n",
      "«               ├──────────────┤├────┤├────────┤└─┬─┘├────┤├──────────────┤»\n",
      "«      q_0 -> 3 ┤ Rz(θ[2] + π) ├┤ √X ├┤ Rz(3π) ├──■──┤ √X ├┤ Rz(θ[4] + π) ├»\n",
      "«               └──────────────┘└────┘└────────┘     └────┘└──────────────┘»\n",
      "«ancilla_2 -> 4 ───────────────────────────────────────────────────────────»\n",
      "«                                                                          »\n",
      "«          c: 2/═══════════════════════════════════════════════════════════»\n",
      "«                                                                          »\n",
      "«                                     \n",
      "«ancilla_0 -> 0 ──────────────────────\n",
      "«                                     \n",
      "«ancilla_1 -> 1 ──────────────────────\n",
      "«               ┌────┐┌────────┐   ┌─┐\n",
      "«      q_1 -> 2 ┤ √X ├┤ Rz(3π) ├───┤M├\n",
      "«               ├────┤├────────┤┌─┐└╥┘\n",
      "«      q_0 -> 3 ┤ √X ├┤ Rz(3π) ├┤M├─╫─\n",
      "«               └────┘└────────┘└╥┘ ║ \n",
      "«ancilla_2 -> 4 ─────────────────╫──╫─\n",
      "«                                ║  ║ \n",
      "«          c: 2/═════════════════╩══╩═\n",
      "«                                0  1 \n",
      "global phase: π\n",
      "                                                                »\n",
      "ancilla_0 -> 0 ─────────────────────────────────────────────────»\n",
      "                                                                »\n",
      "ancilla_1 -> 1 ─────────────────────────────────────────────────»\n",
      "               ┌────┐┌──────────────┐┌────┐┌────────┐┌───┐┌────┐»\n",
      "      q_1 -> 2 ┤ √X ├┤ Rz(θ[1] + π) ├┤ √X ├┤ Rz(3π) ├┤ X ├┤ √X ├»\n",
      "               ├────┤├──────────────┤├────┤├────────┤└─┬─┘├────┤»\n",
      "      q_0 -> 3 ┤ √X ├┤ Rz(θ[0] + π) ├┤ √X ├┤ Rz(3π) ├──■──┤ √X ├»\n",
      "               └────┘└──────────────┘└────┘└────────┘     └────┘»\n",
      "ancilla_2 -> 4 ─────────────────────────────────────────────────»\n",
      "                                                                »\n",
      "          c: 2/═════════════════════════════════════════════════»\n",
      "                                                                »\n",
      "«                                                                          »\n",
      "«ancilla_0 -> 0 ───────────────────────────────────────────────────────────»\n",
      "«                                                                          »\n",
      "«ancilla_1 -> 1 ───────────────────────────────────────────────────────────»\n",
      "«               ┌──────────────┐┌────┐┌────────┐┌───┐┌────┐┌──────────────┐»\n",
      "«      q_1 -> 2 ┤ Rz(θ[3] + π) ├┤ √X ├┤ Rz(3π) ├┤ X ├┤ √X ├┤ Rz(θ[5] + π) ├»\n",
      "«               ├──────────────┤├────┤├────────┤└─┬─┘├────┤├──────────────┤»\n",
      "«      q_0 -> 3 ┤ Rz(θ[2] + π) ├┤ √X ├┤ Rz(3π) ├──■──┤ √X ├┤ Rz(θ[4] + π) ├»\n",
      "«               └──────────────┘└────┘└────────┘     └────┘└──────────────┘»\n",
      "«ancilla_2 -> 4 ───────────────────────────────────────────────────────────»\n",
      "«                                                                          »\n",
      "«          c: 2/═══════════════════════════════════════════════════════════»\n",
      "«                                                                          »\n",
      "«                                     \n",
      "«ancilla_0 -> 0 ──────────────────────\n",
      "«                                     \n",
      "«ancilla_1 -> 1 ──────────────────────\n",
      "«               ┌────┐┌────────┐   ┌─┐\n",
      "«      q_1 -> 2 ┤ √X ├┤ Rz(3π) ├───┤M├\n",
      "«               ├────┤├────────┤┌─┐└╥┘\n",
      "«      q_0 -> 3 ┤ √X ├┤ Rz(3π) ├┤M├─╫─\n",
      "«               └────┘└────────┘└╥┘ ║ \n",
      "«ancilla_2 -> 4 ─────────────────╫──╫─\n",
      "«                                ║  ║ \n",
      "«          c: 2/═════════════════╩══╩═\n",
      "«                                0  1 \n",
      "global phase: π\n",
      "                                                                »\n",
      "ancilla_0 -> 0 ─────────────────────────────────────────────────»\n",
      "                                                                »\n",
      "ancilla_1 -> 1 ─────────────────────────────────────────────────»\n",
      "               ┌────┐┌──────────────┐┌────┐┌────────┐┌───┐┌────┐»\n",
      "      q_1 -> 2 ┤ √X ├┤ Rz(θ[1] + π) ├┤ √X ├┤ Rz(3π) ├┤ X ├┤ √X ├»\n",
      "               ├────┤├──────────────┤├────┤├────────┤└─┬─┘├────┤»\n",
      "      q_0 -> 3 ┤ √X ├┤ Rz(θ[0] + π) ├┤ √X ├┤ Rz(3π) ├──■──┤ √X ├»\n",
      "               └────┘└──────────────┘└────┘└────────┘     └────┘»\n",
      "ancilla_2 -> 4 ─────────────────────────────────────────────────»\n",
      "                                                                »\n",
      "          c: 2/═════════════════════════════════════════════════»\n",
      "                                                                »\n",
      "«                                                                          »\n",
      "«ancilla_0 -> 0 ───────────────────────────────────────────────────────────»\n",
      "«                                                                          »\n",
      "«ancilla_1 -> 1 ───────────────────────────────────────────────────────────»\n",
      "«               ┌──────────────┐┌────┐┌────────┐┌───┐┌────┐┌──────────────┐»\n",
      "«      q_1 -> 2 ┤ Rz(θ[3] + π) ├┤ √X ├┤ Rz(3π) ├┤ X ├┤ √X ├┤ Rz(θ[5] + π) ├»\n",
      "«               ├──────────────┤├────┤├────────┤└─┬─┘├────┤├──────────────┤»\n",
      "«      q_0 -> 3 ┤ Rz(θ[2] + π) ├┤ √X ├┤ Rz(3π) ├──■──┤ √X ├┤ Rz(θ[4] + π) ├»\n",
      "«               └──────────────┘└────┘└────────┘     └────┘└──────────────┘»\n",
      "«ancilla_2 -> 4 ───────────────────────────────────────────────────────────»\n",
      "«                                                                          »\n",
      "«          c: 2/═══════════════════════════════════════════════════════════»\n",
      "«                                                                          »\n",
      "«                                                                 \n",
      "«ancilla_0 -> 0 ──────────────────────────────────────────────────\n",
      "«                                                                 \n",
      "«ancilla_1 -> 1 ──────────────────────────────────────────────────\n",
      "«               ┌────┐┌────────┐┌─────────┐┌────┐┌─────────┐   ┌─┐\n",
      "«      q_1 -> 2 ┤ √X ├┤ Rz(3π) ├┤ Rz(π/2) ├┤ √X ├┤ Rz(π/2) ├───┤M├\n",
      "«               ├────┤├────────┤├─────────┤├────┤├─────────┤┌─┐└╥┘\n",
      "«      q_0 -> 3 ┤ √X ├┤ Rz(3π) ├┤ Rz(π/2) ├┤ √X ├┤ Rz(π/2) ├┤M├─╫─\n",
      "«               └────┘└────────┘└─────────┘└────┘└─────────┘└╥┘ ║ \n",
      "«ancilla_2 -> 4 ─────────────────────────────────────────────╫──╫─\n",
      "«                                                            ║  ║ \n",
      "«          c: 2/═════════════════════════════════════════════╩══╩═\n",
      "«                                                            0  1 \n"
     ]
    }
   ],
   "source": [
    "from qiskit.test.mock import FakeBogota\n",
    "\n",
    "backend = AerSimulator.from_backend(FakeBogota())\n",
    "\n",
    "expval = PauliExpectationValue(ansatz, observable, backend=backend)\n",
    "expval.set_transpile_options(initial_layout=[3, 2])\n",
    "print(expval.evaluate([0, 1, 1, 2, 3, 5]))\n",
    "for circ in expval.transpiled_circuits:\n",
    "    print(circ)"
   ]
  },
  {
   "cell_type": "markdown",
   "id": "5ce4e58e",
   "metadata": {},
   "source": [
    "### Transpile options and Run options"
   ]
  },
  {
   "cell_type": "code",
   "execution_count": 15,
   "id": "aab93ae6",
   "metadata": {},
   "outputs": [
    {
     "data": {
      "text/plain": [
       "ExpectationValueResult(value=-1.258376866290244, variance=0.31346857626923974, confidence_interval=(-1.2613477903234689, -1.255405942257019))"
      ]
     },
     "execution_count": 15,
     "metadata": {},
     "output_type": "execute_result"
    }
   ],
   "source": [
    "expval = PauliExpectationValue(ansatz, observable, backend=backend)\n",
    "# setter\n",
    "expval.set_transpile_options(optimization_level=2)\n",
    "expval.set_run_options(shots=100_000)\n",
    "expval.evaluate([0, 1, 1, 2, 3, 5])"
   ]
  },
  {
   "cell_type": "code",
   "execution_count": 16,
   "id": "c1219e64",
   "metadata": {},
   "outputs": [
    {
     "data": {
      "text/plain": [
       "ExpectationValueResult(value=-1.2511288466508719, variance=0.3133545552948115, confidence_interval=(-1.2615092317745646, -1.240748461527179))"
      ]
     },
     "execution_count": 16,
     "metadata": {},
     "output_type": "execute_result"
    }
   ],
   "source": [
    "# Method chain\n",
    "expval.set_run_options(shots=8192).evaluate([0, 1, 1, 2, 3, 5])"
   ]
  },
  {
   "cell_type": "code",
   "execution_count": 17,
   "id": "c4969613",
   "metadata": {},
   "outputs": [
    {
     "data": {
      "text/plain": [
       "ExpectationValueResult(value=-1.2738504033690927, variance=0.31611486850504716, confidence_interval=(-1.3283165449888366, -1.2193842617493489))"
      ]
     },
     "execution_count": 17,
     "metadata": {},
     "output_type": "execute_result"
    }
   ],
   "source": [
    "# evaluate's option\n",
    "expval.evaluate([0, 1, 1, 2, 3, 5], shots=300)"
   ]
  },
  {
   "cell_type": "markdown",
   "id": "ce1404a5",
   "metadata": {},
   "source": [
    "### Composite Evaluator"
   ]
  },
  {
   "cell_type": "code",
   "execution_count": 18,
   "id": "bcc1853c",
   "metadata": {},
   "outputs": [],
   "source": [
    "from qiskit.evaluators import JointEvaluator"
   ]
  },
  {
   "cell_type": "code",
   "execution_count": 19,
   "id": "03086105",
   "metadata": {},
   "outputs": [
    {
     "data": {
      "text/plain": [
       "5"
      ]
     },
     "execution_count": 19,
     "metadata": {},
     "output_type": "execute_result"
    }
   ],
   "source": [
    "len(expval.transpiled_circuits)"
   ]
  },
  {
   "cell_type": "code",
   "execution_count": 20,
   "id": "e19f8e4b",
   "metadata": {},
   "outputs": [],
   "source": [
    "joint_evaluator = JointEvaluator([expval, expval, expval])  # can be different evaluator"
   ]
  },
  {
   "cell_type": "code",
   "execution_count": 21,
   "id": "c63b51e3",
   "metadata": {},
   "outputs": [
    {
     "data": {
      "text/plain": [
       "15"
      ]
     },
     "execution_count": 21,
     "metadata": {},
     "output_type": "execute_result"
    }
   ],
   "source": [
    "len(joint_evaluator.transpiled_circuits)  # 3 × 3"
   ]
  },
  {
   "cell_type": "code",
   "execution_count": 22,
   "id": "bc55f15b",
   "metadata": {},
   "outputs": [
    {
     "data": {
      "text/plain": [
       "CompositeResult(items=[ExpectationValueResult(value=-1.2528964012602428, variance=0.11814465820420435, confidence_interval=(-1.2636377067105846, -1.242155095809901)), ExpectationValueResult(value=-1.2528964012602428, variance=0.11814465820420435, confidence_interval=(-1.2636377067105846, -1.242155095809901)), ExpectationValueResult(value=-1.2528964012602428, variance=0.11814465820420435, confidence_interval=(-1.2636377067105846, -1.242155095809901))])"
      ]
     },
     "execution_count": 22,
     "metadata": {},
     "output_type": "execute_result"
    }
   ],
   "source": [
    "joint_evaluator.evaluate([[0, 1, 1, 2, 3, 5], [1, 1, 2, 3, 5, 8], [1, 2, 3, 5, 8, 13]])"
   ]
  },
  {
   "cell_type": "markdown",
   "id": "e670ab40",
   "metadata": {},
   "source": [
    "### Readout error mitigation"
   ]
  },
  {
   "cell_type": "code",
   "execution_count": 23,
   "id": "4c2c239a",
   "metadata": {},
   "outputs": [
    {
     "name": "stdout",
     "output_type": "stream",
     "text": [
      "w/o mitigation shots=4000, result=ExpectationValueResult(value=-1.2567305619532785, variance=0.31317540565690255, confidence_interval=(-1.271580175778457, -1.2418809481281))\n",
      "w/ tensored mitigation shots=4000, result=ExpectationValueResult(value=-1.278259083872444, variance=0.2983091313985497, confidence_interval=(-1.2927626885789347, -1.263755479165953))\n",
      "w/ M3 mitigation shots=4000, result=ExpectationValueResult(value=-1.2789456420976917, variance=0.302783122281774, confidence_interval=(-1.2935537564498927, -1.2643375277454907))\n"
     ]
    }
   ],
   "source": [
    "from qiskit.evaluators.backends import ReadoutErrorMitigation\n",
    "\n",
    "backend = AerSimulator.from_backend(FakeBogota())\n",
    "mit_tensored = ReadoutErrorMitigation(\n",
    "    backend, mitigation=\"tensored\", refresh=600, shots=2000, mit_pattern=[[0], [1]]\n",
    ")\n",
    "mit_mthree = ReadoutErrorMitigation(\n",
    "    backend, mitigation=\"mthree\", refresh=600, shots=2000, qubits=[0, 1]\n",
    ")\n",
    "expval_raw = PauliExpectationValue(ansatz, observable, backend=backend)\n",
    "expval_tensored = PauliExpectationValue(ansatz, observable, backend=mit_tensored)\n",
    "expval_mthree = PauliExpectationValue(ansatz, observable, backend=mit_mthree)\n",
    "shots = 4000\n",
    "print(\n",
    "    f\"w/o mitigation shots={shots}, result={expval_raw.evaluate([0, 1, 1, 2, 3, 5], shots=shots)}\"\n",
    ")\n",
    "print(\n",
    "    f\"w/ tensored mitigation shots={shots}, result={expval_tensored.evaluate([0, 1, 1, 2, 3, 5], shots=shots)}\"\n",
    ")\n",
    "print(\n",
    "    f\"w/ M3 mitigation shots={shots}, result={expval_mthree.evaluate([0, 1, 1, 2, 3, 5], shots=shots)}\"\n",
    ")"
   ]
  },
  {
   "cell_type": "markdown",
   "id": "d7dd2b85",
   "metadata": {},
   "source": [
    "### Gradient of expectation value"
   ]
  },
  {
   "cell_type": "code",
   "execution_count": 24,
   "id": "c965bbff",
   "metadata": {},
   "outputs": [],
   "source": [
    "from qiskit.evaluators.expectation_value.expectation_value_gradient import (\n",
    "    FiniteDiffGradient,\n",
    "    ParameterShiftGradient,\n",
    ")"
   ]
  },
  {
   "cell_type": "code",
   "execution_count": 25,
   "id": "e42b8463",
   "metadata": {
    "tags": []
   },
   "outputs": [
    {
     "name": "stdout",
     "output_type": "stream",
     "text": [
      "fin diff of exact [ 0.28213347  0.42656751  0.20442583  0.42656749 -0.17291453  0.0589814 ]\n",
      "param shift of exact [ 0.28213349  0.42656754  0.20442588  0.42656754 -0.17291452  0.05898141]\n",
      "fin diff w/o mit [0.32659224 0.69278855 0.25397074 0.75346883 0.03862138 0.23463255]\n",
      "param shift w/o mit [ 0.24004867  0.37858695  0.18421508  0.37300477 -0.13684331  0.07460206]\n",
      "fin diff w/  mit [ 0.43973398  0.76978544  0.30424064  0.64577515 -0.26589061  0.17901179]\n",
      "param shift w/  mit [ 0.25545302  0.41783316  0.20019311  0.3974433  -0.16552306  0.06749017]\n"
     ]
    }
   ],
   "source": [
    "parameters = [0, 1, 1, 2, 3, 5]\n",
    "\n",
    "exact_expval = ExactExpectationValue(ansatz, observable, backend=AerSimulator())\n",
    "exact_findiff = FiniteDiffGradient(exact_expval, 1e-8)\n",
    "print(f\"fin diff of exact {exact_findiff.evaluate(parameters).values}\")\n",
    "\n",
    "exact_expval = ExactExpectationValue(ansatz, observable, backend=AerSimulator())\n",
    "exact_findiff = ParameterShiftGradient(exact_expval)\n",
    "print(f\"param shift of exact {exact_findiff.evaluate([0, 1, 1, 2, 3, 5]).values}\")\n",
    "\n",
    "shots = 2000\n",
    "findiff = FiniteDiffGradient(expval_raw, 1e-1)\n",
    "paramshift = ParameterShiftGradient(expval_raw)\n",
    "print(f\"fin diff w/o mit {findiff.evaluate(parameters, shots=shots).values}\")\n",
    "print(\n",
    "    f\"param shift w/o mit {paramshift.evaluate(parameters, shots=shots).values}\"\n",
    ")\n",
    "\n",
    "findiff = FiniteDiffGradient(expval_mthree, 1e-1)\n",
    "paramshift = ParameterShiftGradient(expval_mthree)\n",
    "print(f\"fin diff w/  mit {findiff.evaluate([0, 1, 1, 2, 3, 5], shots=shots).values}\")\n",
    "print(\n",
    "    f\"param shift w/  mit {paramshift.evaluate(parameters, shots=shots).values}\"\n",
    ")"
   ]
  },
  {
   "cell_type": "markdown",
   "id": "7e3837f0",
   "metadata": {},
   "source": [
    "### VQE by Scipy optimizer"
   ]
  },
  {
   "cell_type": "code",
   "execution_count": 28,
   "id": "da3968f3",
   "metadata": {},
   "outputs": [
    {
     "name": "stdout",
     "output_type": "stream",
     "text": [
      "      fun: -1.881383447399938\n",
      " hess_inv: array([[ 1.74054526, -0.14962923, -0.10736193, -0.18102418, -0.28687537,\n",
      "         1.14259697],\n",
      "       [-0.14962923,  0.72981147, -0.77497584, -0.26850474,  0.11715862,\n",
      "        -0.02541937],\n",
      "       [-0.10736193, -0.77497584,  2.32054439,  0.41741422,  0.72945468,\n",
      "        -0.51775336],\n",
      "       [-0.18102418, -0.26850474,  0.41741422,  0.93635391, -0.06061401,\n",
      "         0.25127455],\n",
      "       [-0.28687537,  0.11715862,  0.72945468, -0.06061401,  0.58249384,\n",
      "        -0.62957824],\n",
      "       [ 1.14259697, -0.02541937, -0.51775336,  0.25127455, -0.62957824,\n",
      "         1.96824137]])\n",
      "      jac: array([-0.02265453,  0.0098548 ,  0.02013367,  0.0089057 , -0.02982063,\n",
      "       -0.01668424])\n",
      "  message: 'Desired error not necessarily achieved due to precision loss.'\n",
      "     nfev: 49\n",
      "      nit: 11\n",
      "     njev: 32\n",
      "   status: 2\n",
      "  success: False\n",
      "        x: array([ 0.59130994, -1.00354165, -1.84094146, -1.09497792,  0.77445326,\n",
      "        0.9096065 ])\n"
     ]
    }
   ],
   "source": [
    "from scipy.optimize import minimize\n",
    "\n",
    "shots = 1000\n",
    "expval = PauliExpectationValue(ansatz, observable, backend=AerSimulator(), append=True)\n",
    "paramshift = ParameterShiftGradient(expval)\n",
    "# this may take a long time...\n",
    "result = minimize(\n",
    "    lambda x: expval.evaluate(x, shots=shots).value,\n",
    "    np.zeros(6),\n",
    "    jac=lambda x: paramshift.evaluate(x, shots=shots).values,\n",
    ")\n",
    "print(result)"
   ]
  },
  {
   "cell_type": "code",
   "execution_count": 29,
   "id": "a3e4e891-e380-4490-a230-901593d48174",
   "metadata": {},
   "outputs": [
    {
     "data": {
      "image/png": "[encoded data removed]",
      "text/plain": [
       "<Figure size 864x576 with 1 Axes>"
      ]
     },
     "metadata": {
      "needs_background": "light"
     },
     "output_type": "display_data"
    }
   ],
   "source": [
    "import matplotlib.pyplot as plt\n",
    "from qiskit.evaluators.results import ExpectationValueResult\n",
    "\n",
    "plt.figure(figsize=(12, 8))\n",
    "y = [h.value for h in expval.history if isinstance(h, ExpectationValueResult)]\n",
    "x = list(range(len(y)))\n",
    "yerr = np.array(\n",
    "    [\n",
    "        tuple(abs(c - h.value) for c in h.confidence_interval)\n",
    "        for h in expval.history\n",
    "        if isinstance(h, ExpectationValueResult)\n",
    "    ]\n",
    ").transpose()\n",
    "plt.plot(y, color=\"blue\")\n",
    "plt.errorbar(\n",
    "    x,\n",
    "    y,\n",
    "    yerr=yerr,\n",
    "    capsize=5,\n",
    "    fmt=\"o\",\n",
    "    markersize=8,\n",
    "    ecolor=\"blue\",\n",
    "    markeredgecolor=\"blue\",\n",
    "    color=\"w\",\n",
    ")\n",
    "plt.xlabel(\"Eval count\")\n",
    "plt.ylabel(\"Energy\")\n",
    "plt.show()"
   ]
  },
  {
   "cell_type": "code",
   "execution_count": null,
   "id": "54a14a7a-e3cf-4833-97f5-25366117976d",
   "metadata": {},
   "outputs": [],
   "source": []
  }
 ],
 "metadata": {
  "interpreter": {
   "hash": "5e4e4c11f881147a334259b58ba9612deb3e7d7392f1658006398e861f6e4956"
  },
  "kernelspec": {
   "display_name": "Terra",
   "language": "python",
   "name": "terra"
  },
  "language_info": {
   "codemirror_mode": {
    "name": "ipython",
    "version": 3
   },
   "file_extension": ".py",
   "mimetype": "text/x-python",
   "name": "python",
   "nbconvert_exporter": "python",
   "pygments_lexer": "ipython3",
   "version": "3.9.4"
  }
 },
 "nbformat": 4,
 "nbformat_minor": 5
}
