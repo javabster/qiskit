{
 "cells": [
  {
   "cell_type": "code",
   "execution_count": 1,
   "id": "e2c3d0f4",
   "metadata": {
    "tags": []
   },
   "outputs": [],
   "source": [
    "%load_ext autoreload\n",
    "%autoreload 2"
   ]
  },
  {
   "cell_type": "markdown",
   "id": "5485c7d2",
   "metadata": {},
   "source": [
    "# ExpectationValue"
   ]
  },
  {
   "cell_type": "code",
   "execution_count": 2,
   "id": "53454a61",
   "metadata": {},
   "outputs": [],
   "source": [
    "import numpy as np"
   ]
  },
  {
   "cell_type": "code",
   "execution_count": 3,
   "id": "2af11a78",
   "metadata": {},
   "outputs": [
    {
     "name": "stdout",
     "output_type": "stream",
     "text": [
      "observable\n",
      " 1.0 * XX\n",
      "+ 2.0 * YY\n",
      "+ 3.0 * ZZ\n",
      "ansatz\n",
      "      ┌──────────┐     ┌──────────┐     ┌──────────┐\n",
      "q_0: ┤ Ry(θ[0]) ├──■──┤ Ry(θ[2]) ├──■──┤ Ry(θ[4]) ├\n",
      "     ├──────────┤┌─┴─┐├──────────┤┌─┴─┐├──────────┤\n",
      "q_1: ┤ Ry(θ[1]) ├┤ X ├┤ Ry(θ[3]) ├┤ X ├┤ Ry(θ[5]) ├\n",
      "     └──────────┘└───┘└──────────┘└───┘└──────────┘\n"
     ]
    }
   ],
   "source": [
    "from qiskit.circuit.library import RealAmplitudes\n",
    "from qiskit.opflow import PauliSumOp\n",
    "\n",
    "observable = PauliSumOp.from_list([(\"XX\", 1), (\"YY\", 2), (\"ZZ\", 3)])\n",
    "print(\"observable\\n\", observable)\n",
    "\n",
    "ansatz = RealAmplitudes(num_qubits=2, reps=2)\n",
    "print(\"ansatz\\n\", ansatz)"
   ]
  },
  {
   "cell_type": "code",
   "execution_count": 4,
   "id": "acee2aa2",
   "metadata": {},
   "outputs": [
    {
     "name": "stdout",
     "output_type": "stream",
     "text": [
      "1.8420921273153719\n"
     ]
    },
    {
     "name": "stderr",
     "output_type": "stream",
     "text": [
      "/Users/ima/tasks/1_2021/qiskit/terra/qiskit/quantum_info/states/statevector.py:444: DeprecationWarning: The SparsePauliOp.table method is deprecated as of Qiskit Terra 0.19.0 and will be removed no sooner than 3 months after the releasedate. Use SparsePauliOp.paulis method instead.\n",
      "  for z, x, coeff in zip(oper.table.Z, oper.table.X, oper.coeffs)\n"
     ]
    }
   ],
   "source": [
    "from qiskit.quantum_info import Statevector\n",
    "\n",
    "expval = Statevector(ansatz.bind_parameters([0, 1, 1, 2, 3, 5])).expectation_value(\n",
    "    observable.primitive\n",
    ")\n",
    "print(expval.real)"
   ]
  },
  {
   "cell_type": "markdown",
   "id": "79e6d92d",
   "metadata": {},
   "source": [
    "## ExpectationValue class"
   ]
  },
  {
   "cell_type": "code",
   "execution_count": 5,
   "id": "0938d0ab",
   "metadata": {},
   "outputs": [],
   "source": [
    "from qiskit.evaluators import PauliExpectationValue"
   ]
  },
  {
   "cell_type": "markdown",
   "id": "2d0026e1",
   "metadata": {},
   "source": [
    "### PauliExpectationValue\n",
    "\n",
    "Evaluate the expectation value by sampling. This supports both AerSimulator and IBMQ backends."
   ]
  },
  {
   "cell_type": "code",
   "execution_count": 6,
   "id": "58ffdb65",
   "metadata": {},
   "outputs": [],
   "source": [
    "from qiskit.providers.aer import AerSimulator\n",
    "\n",
    "backend = AerSimulator()"
   ]
  },
  {
   "cell_type": "code",
   "execution_count": 7,
   "id": "c728a8c3",
   "metadata": {
    "tags": []
   },
   "outputs": [
    {
     "name": "stderr",
     "output_type": "stream",
     "text": [
      "no max_experiments for backend 'aer_simulator'. Set 1000000 as max_experiments.\n"
     ]
    },
    {
     "data": {
      "text/plain": [
       "ExpectationValueResult(value=1.84765625, variance=11.072105407714844, confidence_interval=(1.6896409070896277, 2.0056715929103723))"
      ]
     },
     "execution_count": 7,
     "metadata": {},
     "output_type": "execute_result"
    }
   ],
   "source": [
    "expval = PauliExpectationValue(ansatz, observable, backend=backend)\n",
    "expval.evaluate([0, 1, 1, 2, 3, 5], shos=1000)"
   ]
  },
  {
   "cell_type": "code",
   "execution_count": 8,
   "id": "6432525d",
   "metadata": {},
   "outputs": [
    {
     "name": "stderr",
     "output_type": "stream",
     "text": [
      "no max_experiments for backend 'aer_simulator'. Set 1000000 as max_experiments.\n"
     ]
    },
    {
     "data": {
      "text/plain": [
       "ExpectationValueResult(value=1.9453125, variance=10.988372802734375, confidence_interval=(1.7880903253842175, 2.1025346746157823))"
      ]
     },
     "execution_count": 8,
     "metadata": {},
     "output_type": "execute_result"
    }
   ],
   "source": [
    "# pre-binding\n",
    "\n",
    "circuit = ansatz.bind_parameters([0, 1, 1, 2, 3, 5])\n",
    "expval = PauliExpectationValue(circuit, observable, backend=backend)\n",
    "expval.evaluate()"
   ]
  },
  {
   "cell_type": "code",
   "execution_count": 9,
   "id": "3155ae4b",
   "metadata": {},
   "outputs": [
    {
     "name": "stderr",
     "output_type": "stream",
     "text": [
      "no max_experiments for backend 'aer_simulator'. Set 1000000 as max_experiments.\n"
     ]
    },
    {
     "data": {
      "text/plain": [
       "ExpectationValueArrayResult(values=array([1.87333333, 0.13066667]), variances=array([11.07357689, 10.33122844]), confidence_intervals=array([[1.78082897, 1.9658377 ],\n",
       "       [0.03751989, 0.22381344]]))"
      ]
     },
     "execution_count": 9,
     "metadata": {},
     "output_type": "execute_result"
    }
   ],
   "source": [
    "# multi prameters\n",
    "\n",
    "expval = PauliExpectationValue(ansatz, observable, backend=backend)\n",
    "expval.evaluate([[0, 1, 1, 2, 3, 5], [1, 1, 2, 3, 5, 8]], shots=3000)"
   ]
  },
  {
   "cell_type": "code",
   "execution_count": 10,
   "id": "a359f015",
   "metadata": {},
   "outputs": [
    {
     "name": "stderr",
     "output_type": "stream",
     "text": [
      "no max_experiments for backend 'aer_simulator'. Set 1000000 as max_experiments.\n"
     ]
    },
    {
     "data": {
      "text/plain": [
       "ExpectationValueArrayResult(values=array([1.8527832 , 0.15209961]), variances=array([11.13814348, 10.56786078]), confidence_intervals=array([[1.79654633, 1.90902008],\n",
       "       [0.09517763, 0.20902159]]))"
      ]
     },
     "execution_count": 10,
     "metadata": {},
     "output_type": "execute_result"
    }
   ],
   "source": [
    "# can pass ndarray\n",
    "expval = PauliExpectationValue(ansatz, observable, backend=backend)\n",
    "expval.evaluate(np.array([[0, 1, 1, 2, 3, 5], [1, 1, 2, 3, 5, 8]]), shots=8192)"
   ]
  },
  {
   "cell_type": "markdown",
   "id": "ef5c06e5",
   "metadata": {},
   "source": [
    "### Exact simulation by SaveExpectationValueVariance"
   ]
  },
  {
   "cell_type": "code",
   "execution_count": 11,
   "id": "0f674e90",
   "metadata": {},
   "outputs": [],
   "source": [
    "from qiskit.evaluators import ExactExpectationValue"
   ]
  },
  {
   "cell_type": "code",
   "execution_count": 12,
   "id": "076d0bae",
   "metadata": {},
   "outputs": [
    {
     "data": {
      "text/plain": [
       "ExpectationValueResult(value=1.8420921273153708, variance=6.432763522806668, confidence_interval=None)"
      ]
     },
     "execution_count": 12,
     "metadata": {},
     "output_type": "execute_result"
    }
   ],
   "source": [
    "expval = ExactExpectationValue(ansatz, observable, backend=backend)\n",
    "expval.evaluate([0, 1, 1, 2, 3, 5])"
   ]
  },
  {
   "cell_type": "code",
   "execution_count": 13,
   "id": "3aaa505c",
   "metadata": {},
   "outputs": [
    {
     "data": {
      "text/plain": [
       "ExpectationValueArrayResult(values=array([1.84209213, 0.15611897]), variances=array([6.43276352, 5.35681431]), confidence_intervals=array([None, None], dtype=object))"
      ]
     },
     "execution_count": 13,
     "metadata": {},
     "output_type": "execute_result"
    }
   ],
   "source": [
    "expval = ExactExpectationValue(ansatz, observable, backend=backend)\n",
    "expval.evaluate(np.array([[0, 1, 1, 2, 3, 5], [1, 1, 2, 3, 5, 8]]))"
   ]
  },
  {
   "cell_type": "markdown",
   "id": "f17f9cc4",
   "metadata": {},
   "source": [
    "### Transpiled Circuits"
   ]
  },
  {
   "cell_type": "code",
   "execution_count": 14,
   "id": "a4128963",
   "metadata": {},
   "outputs": [
    {
     "name": "stdout",
     "output_type": "stream",
     "text": [
      "global phase: π\n",
      "                                                                »\n",
      "ancilla_0 -> 0 ─────────────────────────────────────────────────»\n",
      "                                                                »\n",
      "ancilla_1 -> 1 ─────────────────────────────────────────────────»\n",
      "               ┌────┐┌──────────────┐┌────┐┌────────┐┌───┐┌────┐»\n",
      "      q_1 -> 2 ┤ √X ├┤ Rz(θ[1] + π) ├┤ √X ├┤ Rz(3π) ├┤ X ├┤ √X ├»\n",
      "               ├────┤├──────────────┤├────┤├────────┤└─┬─┘├────┤»\n",
      "      q_0 -> 3 ┤ √X ├┤ Rz(θ[0] + π) ├┤ √X ├┤ Rz(3π) ├──■──┤ √X ├»\n",
      "               └────┘└──────────────┘└────┘└────────┘     └────┘»\n",
      "ancilla_2 -> 4 ─────────────────────────────────────────────────»\n",
      "                                                                »\n",
      "         c4: 2/═════════════════════════════════════════════════»\n",
      "                                                                »\n",
      "«                                                                          »\n",
      "«ancilla_0 -> 0 ───────────────────────────────────────────────────────────»\n",
      "«                                                                          »\n",
      "«ancilla_1 -> 1 ───────────────────────────────────────────────────────────»\n",
      "«               ┌──────────────┐┌────┐┌────────┐┌───┐┌────┐┌──────────────┐»\n",
      "«      q_1 -> 2 ┤ Rz(θ[3] + π) ├┤ √X ├┤ Rz(3π) ├┤ X ├┤ √X ├┤ Rz(θ[5] + π) ├»\n",
      "«               ├──────────────┤├────┤├────────┤└─┬─┘├────┤├──────────────┤»\n",
      "«      q_0 -> 3 ┤ Rz(θ[2] + π) ├┤ √X ├┤ Rz(3π) ├──■──┤ √X ├┤ Rz(θ[4] + π) ├»\n",
      "«               └──────────────┘└────┘└────────┘     └────┘└──────────────┘»\n",
      "«ancilla_2 -> 4 ───────────────────────────────────────────────────────────»\n",
      "«                                                                          »\n",
      "«         c4: 2/═══════════════════════════════════════════════════════════»\n",
      "«                                                                          »\n",
      "«                                                                 \n",
      "«ancilla_0 -> 0 ──────────────────────────────────────────────────\n",
      "«                                                                 \n",
      "«ancilla_1 -> 1 ──────────────────────────────────────────────────\n",
      "«               ┌────┐┌────────┐┌─────────┐┌────┐┌─────────┐   ┌─┐\n",
      "«      q_1 -> 2 ┤ √X ├┤ Rz(3π) ├┤ Rz(π/2) ├┤ √X ├┤ Rz(π/2) ├───┤M├\n",
      "«               ├────┤├────────┤├─────────┤├────┤├─────────┤┌─┐└╥┘\n",
      "«      q_0 -> 3 ┤ √X ├┤ Rz(3π) ├┤ Rz(π/2) ├┤ √X ├┤ Rz(π/2) ├┤M├─╫─\n",
      "«               └────┘└────────┘└─────────┘└────┘└─────────┘└╥┘ ║ \n",
      "«ancilla_2 -> 4 ─────────────────────────────────────────────╫──╫─\n",
      "«                                                            ║  ║ \n",
      "«         c4: 2/═════════════════════════════════════════════╩══╩═\n",
      "«                                                            0  1 \n",
      "{'basis': 'XX', 'coeff': 1.0}\n",
      "\n",
      "global phase: π\n",
      "                                                                »\n",
      "ancilla_0 -> 0 ─────────────────────────────────────────────────»\n",
      "                                                                »\n",
      "ancilla_1 -> 1 ─────────────────────────────────────────────────»\n",
      "               ┌────┐┌──────────────┐┌────┐┌────────┐┌───┐┌────┐»\n",
      "      q_1 -> 2 ┤ √X ├┤ Rz(θ[1] + π) ├┤ √X ├┤ Rz(3π) ├┤ X ├┤ √X ├»\n",
      "               ├────┤├──────────────┤├────┤├────────┤└─┬─┘├────┤»\n",
      "      q_0 -> 3 ┤ √X ├┤ Rz(θ[0] + π) ├┤ √X ├┤ Rz(3π) ├──■──┤ √X ├»\n",
      "               └────┘└──────────────┘└────┘└────────┘     └────┘»\n",
      "ancilla_2 -> 4 ─────────────────────────────────────────────────»\n",
      "                                                                »\n",
      "         c4: 2/═════════════════════════════════════════════════»\n",
      "                                                                »\n",
      "«                                                                          »\n",
      "«ancilla_0 -> 0 ───────────────────────────────────────────────────────────»\n",
      "«                                                                          »\n",
      "«ancilla_1 -> 1 ───────────────────────────────────────────────────────────»\n",
      "«               ┌──────────────┐┌────┐┌────────┐┌───┐┌────┐┌──────────────┐»\n",
      "«      q_1 -> 2 ┤ Rz(θ[3] + π) ├┤ √X ├┤ Rz(3π) ├┤ X ├┤ √X ├┤ Rz(θ[5] + π) ├»\n",
      "«               ├──────────────┤├────┤├────────┤└─┬─┘├────┤├──────────────┤»\n",
      "«      q_0 -> 3 ┤ Rz(θ[2] + π) ├┤ √X ├┤ Rz(3π) ├──■──┤ √X ├┤ Rz(θ[4] + π) ├»\n",
      "«               └──────────────┘└────┘└────────┘     └────┘└──────────────┘»\n",
      "«ancilla_2 -> 4 ───────────────────────────────────────────────────────────»\n",
      "«                                                                          »\n",
      "«         c4: 2/═══════════════════════════════════════════════════════════»\n",
      "«                                                                          »\n",
      "«                                                      \n",
      "«ancilla_0 -> 0 ───────────────────────────────────────\n",
      "«                                                      \n",
      "«ancilla_1 -> 1 ───────────────────────────────────────\n",
      "«               ┌────┐┌────────┐┌────┐┌─────────┐   ┌─┐\n",
      "«      q_1 -> 2 ┤ √X ├┤ Rz(3π) ├┤ √X ├┤ Rz(π/2) ├───┤M├\n",
      "«               ├────┤├────────┤├────┤├─────────┤┌─┐└╥┘\n",
      "«      q_0 -> 3 ┤ √X ├┤ Rz(3π) ├┤ √X ├┤ Rz(π/2) ├┤M├─╫─\n",
      "«               └────┘└────────┘└────┘└─────────┘└╥┘ ║ \n",
      "«ancilla_2 -> 4 ──────────────────────────────────╫──╫─\n",
      "«                                                 ║  ║ \n",
      "«         c4: 2/══════════════════════════════════╩══╩═\n",
      "«                                                 0  1 \n",
      "{'basis': 'YY', 'coeff': 2.0}\n",
      "\n",
      "global phase: π\n",
      "                                                                »\n",
      "ancilla_0 -> 0 ─────────────────────────────────────────────────»\n",
      "                                                                »\n",
      "ancilla_1 -> 1 ─────────────────────────────────────────────────»\n",
      "               ┌────┐┌──────────────┐┌────┐┌────────┐┌───┐┌────┐»\n",
      "      q_1 -> 2 ┤ √X ├┤ Rz(θ[1] + π) ├┤ √X ├┤ Rz(3π) ├┤ X ├┤ √X ├»\n",
      "               ├────┤├──────────────┤├────┤├────────┤└─┬─┘├────┤»\n",
      "      q_0 -> 3 ┤ √X ├┤ Rz(θ[0] + π) ├┤ √X ├┤ Rz(3π) ├──■──┤ √X ├»\n",
      "               └────┘└──────────────┘└────┘└────────┘     └────┘»\n",
      "ancilla_2 -> 4 ─────────────────────────────────────────────────»\n",
      "                                                                »\n",
      "         c4: 2/═════════════════════════════════════════════════»\n",
      "                                                                »\n",
      "«                                                                          »\n",
      "«ancilla_0 -> 0 ───────────────────────────────────────────────────────────»\n",
      "«                                                                          »\n",
      "«ancilla_1 -> 1 ───────────────────────────────────────────────────────────»\n",
      "«               ┌──────────────┐┌────┐┌────────┐┌───┐┌────┐┌──────────────┐»\n",
      "«      q_1 -> 2 ┤ Rz(θ[3] + π) ├┤ √X ├┤ Rz(3π) ├┤ X ├┤ √X ├┤ Rz(θ[5] + π) ├»\n",
      "«               ├──────────────┤├────┤├────────┤└─┬─┘├────┤├──────────────┤»\n",
      "«      q_0 -> 3 ┤ Rz(θ[2] + π) ├┤ √X ├┤ Rz(3π) ├──■──┤ √X ├┤ Rz(θ[4] + π) ├»\n",
      "«               └──────────────┘└────┘└────────┘     └────┘└──────────────┘»\n",
      "«ancilla_2 -> 4 ───────────────────────────────────────────────────────────»\n",
      "«                                                                          »\n",
      "«         c4: 2/═══════════════════════════════════════════════════════════»\n",
      "«                                                                          »\n",
      "«                                     \n",
      "«ancilla_0 -> 0 ──────────────────────\n",
      "«                                     \n",
      "«ancilla_1 -> 1 ──────────────────────\n",
      "«               ┌────┐┌────────┐   ┌─┐\n",
      "«      q_1 -> 2 ┤ √X ├┤ Rz(3π) ├───┤M├\n",
      "«               ├────┤├────────┤┌─┐└╥┘\n",
      "«      q_0 -> 3 ┤ √X ├┤ Rz(3π) ├┤M├─╫─\n",
      "«               └────┘└────────┘└╥┘ ║ \n",
      "«ancilla_2 -> 4 ─────────────────╫──╫─\n",
      "«                                ║  ║ \n",
      "«         c4: 2/═════════════════╩══╩═\n",
      "«                                0  1 \n",
      "{'basis': 'ZZ', 'coeff': 3.0}\n",
      "\n",
      "ExpectationValueResult(value=1.341796875, variance=12.611431121826172, confidence_interval=(1.1661147100568412, 1.5174790399431588))\n"
     ]
    }
   ],
   "source": [
    "from qiskit.test.mock import FakeBogota\n",
    "\n",
    "backend = AerSimulator.from_backend(FakeBogota())\n",
    "\n",
    "expval = PauliExpectationValue(ansatz, observable, backend=backend)\n",
    "expval.set_transpile_options(initial_layout=[3, 2])\n",
    "for circ in expval.transpiled_circuits:\n",
    "    print(circ)\n",
    "    print(circ.metadata)\n",
    "    print()\n",
    "print(expval.evaluate([0, 1, 1, 2, 3, 5]))"
   ]
  },
  {
   "cell_type": "markdown",
   "id": "ad8e29f8",
   "metadata": {},
   "source": [
    "### Transpile options and Run options"
   ]
  },
  {
   "cell_type": "code",
   "execution_count": 15,
   "id": "8184fa63",
   "metadata": {},
   "outputs": [
    {
     "data": {
      "text/plain": [
       "ExpectationValueResult(value=1.1833734963853253, variance=12.776249008490854, confidence_interval=(1.165449013944694, 1.2012979788259566))"
      ]
     },
     "execution_count": 15,
     "metadata": {},
     "output_type": "execute_result"
    }
   ],
   "source": [
    "expval = PauliExpectationValue(ansatz, observable, backend=backend)\n",
    "# setter\n",
    "expval.set_transpile_options(optimization_level=2)\n",
    "expval.set_run_options(shots=100_000)\n",
    "expval.evaluate([0, 1, 1, 2, 3, 5])"
   ]
  },
  {
   "cell_type": "code",
   "execution_count": 16,
   "id": "7919b965",
   "metadata": {},
   "outputs": [
    {
     "data": {
      "text/plain": [
       "ExpectationValueResult(value=1.168212890625, variance=12.758465230464935, confidence_interval=(1.1056568133433762, 1.2307689679066238))"
      ]
     },
     "execution_count": 16,
     "metadata": {},
     "output_type": "execute_result"
    }
   ],
   "source": [
    "# Method chain\n",
    "expval.set_run_options(shots=8192).evaluate([0, 1, 1, 2, 3, 5])"
   ]
  },
  {
   "cell_type": "code",
   "execution_count": 17,
   "id": "bee4e607",
   "metadata": {},
   "outputs": [
    {
     "data": {
      "text/plain": [
       "ExpectationValueResult(value=1.1866666666666665, variance=12.703377777777778, confidence_interval=(0.8607444915023681, 1.512588841830965))"
      ]
     },
     "execution_count": 17,
     "metadata": {},
     "output_type": "execute_result"
    }
   ],
   "source": [
    "# evaluate's option\n",
    "expval.evaluate([0, 1, 1, 2, 3, 5], shots=300)"
   ]
  },
  {
   "cell_type": "markdown",
   "id": "aa8c146e",
   "metadata": {},
   "source": [
    "### Composite Evaluator"
   ]
  },
  {
   "cell_type": "code",
   "execution_count": 18,
   "id": "bd19f3bd",
   "metadata": {},
   "outputs": [],
   "source": [
    "from qiskit.evaluators import JointEvaluator"
   ]
  },
  {
   "cell_type": "code",
   "execution_count": 19,
   "id": "9bdf69c5",
   "metadata": {},
   "outputs": [
    {
     "data": {
      "text/plain": [
       "3"
      ]
     },
     "execution_count": 19,
     "metadata": {},
     "output_type": "execute_result"
    }
   ],
   "source": [
    "len(expval.transpiled_circuits)"
   ]
  },
  {
   "cell_type": "code",
   "execution_count": 20,
   "id": "47503aa9",
   "metadata": {},
   "outputs": [],
   "source": [
    "joint_evaluator = JointEvaluator([expval, expval, expval])  # can be different evaluator"
   ]
  },
  {
   "cell_type": "code",
   "execution_count": 21,
   "id": "87fd8067",
   "metadata": {},
   "outputs": [
    {
     "data": {
      "text/plain": [
       "9"
      ]
     },
     "execution_count": 21,
     "metadata": {},
     "output_type": "execute_result"
    }
   ],
   "source": [
    "len(joint_evaluator.transpiled_circuits)  # 3 × 3"
   ]
  },
  {
   "cell_type": "code",
   "execution_count": 22,
   "id": "45fcd694",
   "metadata": {},
   "outputs": [
    {
     "data": {
      "text/plain": [
       "CompositeResult(items=[ExpectationValueResult(value=1.19091796875, variance=12.800391912460327, confidence_interval=(1.1282004069837166, 1.2536355305162834)), ExpectationValueResult(value=1.19091796875, variance=12.800391912460327, confidence_interval=(1.1282004069837166, 1.2536355305162834)), ExpectationValueResult(value=1.19091796875, variance=12.800391912460327, confidence_interval=(1.1282004069837166, 1.2536355305162834))])"
      ]
     },
     "execution_count": 22,
     "metadata": {},
     "output_type": "execute_result"
    }
   ],
   "source": [
    "joint_evaluator.evaluate([[0, 1, 1, 2, 3, 5], [1, 1, 2, 3, 5, 8], [1, 2, 3, 5, 8, 13]])"
   ]
  },
  {
   "cell_type": "markdown",
   "id": "c9820922",
   "metadata": {},
   "source": [
    "### Readout error mitigation"
   ]
  },
  {
   "cell_type": "code",
   "execution_count": 23,
   "id": "d5ff674c",
   "metadata": {},
   "outputs": [
    {
     "name": "stdout",
     "output_type": "stream",
     "text": [
      "w/o mitigation shots=2000, result=ExpectationValueResult(value=1.251, variance=12.780410999999999, confidence_interval=(1.1241444207813454, 1.3778555792186544))\n",
      "w/  mitigation shots=2000, result=ExpectationValueResult(value=1.3008475460143756, variance=12.538071538402928, confidence_interval=(1.1756829842352605, 1.4260121077934906))\n"
     ]
    }
   ],
   "source": [
    "from qiskit.evaluators.backends import ReadoutErrorMitigation\n",
    "\n",
    "backend = AerSimulator.from_backend(FakeBogota())\n",
    "mit = ReadoutErrorMitigation(\n",
    "    backend, mitigation=\"tensored\", refresh=600, shots=2000, mit_pattern=[[0], [1]]\n",
    ")\n",
    "expval_raw = PauliExpectationValue(ansatz, observable, backend=backend)\n",
    "expval_mit = PauliExpectationValue(ansatz, observable, backend=mit)\n",
    "shots = 2000\n",
    "print(\n",
    "    f\"w/o mitigation shots={shots}, result={expval_raw.evaluate([0, 1, 1, 2, 3, 5], shots=shots)}\"\n",
    ")\n",
    "print(\n",
    "    f\"w/  mitigation shots={shots}, result={expval_mit.evaluate([0, 1, 1, 2, 3, 5], shots=shots)}\"\n",
    ")"
   ]
  },
  {
   "cell_type": "markdown",
   "id": "7850dc7c",
   "metadata": {},
   "source": [
    "### Gradient of expectation value"
   ]
  },
  {
   "cell_type": "code",
   "execution_count": 24,
   "id": "19d0c608",
   "metadata": {},
   "outputs": [],
   "source": [
    "from qiskit.evaluators.expectation_value.expectation_value_gradient import FiniteDiffGradient, ParameterShiftGradient"
   ]
  },
  {
   "cell_type": "code",
   "execution_count": 25,
   "id": "54303792",
   "metadata": {},
   "outputs": [
    {
     "name": "stdout",
     "output_type": "stream",
     "text": [
      "fin diff w/o mit [-1.4  -1.75 -0.25 -0.87 -0.54 -0.93]\n",
      "param shift w/o mit [0.099  1.403  0.7745 1.3005 0.941  1.4915]\n",
      "fin diff w/  mit [-1.29058112  0.21874482 -0.70796302 -0.8627791  -1.15390334  1.86511967]\n",
      "param shift w/  mit [0.16088677 1.56708761 0.78777228 1.40973804 1.21876092 1.75961842]\n"
     ]
    }
   ],
   "source": [
    "# exact_expval = ExactExpectationValue(ansatz, observable, backend=AerSimulator())\n",
    "# exact_findiff = FiniteDiffGradient(exact_expval, 1e-8)\n",
    "# print(f\"fin diff of exact {exact_findiff.evaluate([0, 1, 1, 2, 3, 5]).values}\")\n",
    "\n",
    "shots = 2000\n",
    "findiff = FiniteDiffGradient(expval_raw, 1e-1)\n",
    "paramshift = ParameterShiftGradient(expval_raw)\n",
    "print(f\"fin diff w/o mit {findiff.evaluate([0, 1, 1, 2, 3, 5], shots=shots).values}\")\n",
    "print(f\"param shift w/o mit {paramshift.evaluate([0, 1, 1, 2, 3, 5], shots=shots).values}\")\n",
    "\n",
    "findiff = FiniteDiffGradient(expval_mit, 1e-1)\n",
    "paramshift = ParameterShiftGradient(expval_mit)\n",
    "print(f\"fin diff w/  mit {findiff.evaluate([0, 1, 1, 2, 3, 5], shots=shots).values}\")\n",
    "print(f\"param shift w/  mit {paramshift.evaluate([0, 1, 1, 2, 3, 5], shots=shots).values}\")\n"
   ]
  },
  {
   "cell_type": "markdown",
   "id": "abb00119",
   "metadata": {},
   "source": [
    "### Scipy optimizer"
   ]
  },
  {
   "cell_type": "code",
   "execution_count": 26,
   "id": "c1358216",
   "metadata": {},
   "outputs": [
    {
     "name": "stderr",
     "output_type": "stream",
     "text": [
      "no max_experiments for backend 'aer_simulator'. Set 1000000 as max_experiments.\n"
     ]
    },
    {
     "name": "stdout",
     "output_type": "stream",
     "text": [
      "      fun: -4.609263861759417\n",
      " hess_inv: array([[ 0.20515557, -0.23576343, -0.0484571 ,  0.20094939,  0.03524248,\n",
      "        -0.14764537],\n",
      "       [-0.23576343,  0.75165856,  0.43825389, -0.75034371, -0.77853314,\n",
      "         0.13959995],\n",
      "       [-0.0484571 ,  0.43825389,  0.48110665, -0.61393319, -0.7352592 ,\n",
      "         0.06838818],\n",
      "       [ 0.20094939, -0.75034371, -0.61393319,  1.18642541,  1.14208052,\n",
      "        -0.19590744],\n",
      "       [ 0.03524248, -0.77853314, -0.7352592 ,  1.14208052,  1.60009024,\n",
      "         0.01585804],\n",
      "       [-0.14764537,  0.13959995,  0.06838818, -0.19590744,  0.01585804,\n",
      "         0.30897136]])\n",
      "      jac: array([ 0.004 ,  0.3395, -0.1235,  0.31  ,  0.34  , -0.295 ])\n",
      "  message: 'Desired error not necessarily achieved due to precision loss.'\n",
      "     nfev: 50\n",
      "      nit: 9\n",
      "     njev: 32\n",
      "   status: 2\n",
      "  success: False\n",
      "        x: array([-1.62739621,  1.81345777,  3.21381643, -1.46110082, -2.33609977,\n",
      "        0.96455941])\n"
     ]
    }
   ],
   "source": [
    "from scipy.optimize import minimize\n",
    "shot = 10000\n",
    "backend = AerSimulator()\n",
    "expval = PauliExpectationValue(ansatz, observable, backend=backend)\n",
    "paramshift = ParameterShiftGradient(expval)\n",
    "# this may take a long time...\n",
    "result = minimize(lambda x: expval_mit.evaluate(x, shots=shots).value, np.zeros(6),\n",
    "                  jac=lambda x: paramshift.evaluate(x, shots=shots).values)\n",
    "print(result)"
   ]
  },
  {
   "cell_type": "code",
   "execution_count": null,
   "id": "a7a45b3e",
   "metadata": {},
   "outputs": [],
   "source": []
  }
 ],
 "metadata": {
  "interpreter": {
   "hash": "5e4e4c11f881147a334259b58ba9612deb3e7d7392f1658006398e861f6e4956"
  },
  "kernelspec": {
   "display_name": "Python 3 (ipykernel)",
   "language": "python",
   "name": "python3"
  },
  "language_info": {
   "codemirror_mode": {
    "name": "ipython",
    "version": 3
   },
   "file_extension": ".py",
   "mimetype": "text/x-python",
   "name": "python",
   "nbconvert_exporter": "python",
   "pygments_lexer": "ipython3",
   "version": "3.9.7"
  }
 },
 "nbformat": 4,
 "nbformat_minor": 5
}
