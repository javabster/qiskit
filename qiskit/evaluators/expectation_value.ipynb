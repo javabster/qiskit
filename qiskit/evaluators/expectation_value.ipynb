{
 "cells": [
  {
   "cell_type": "markdown",
   "id": "21e62c44",
   "metadata": {},
   "source": [
    "# New expectation value design PoC\n",
    "\n",
    "Takashi Imamichi and Ikko Hamamura (IBM Research - Tokyo)"
   ]
  },
  {
   "cell_type": "markdown",
   "id": "a02345fd",
   "metadata": {},
   "source": [
    "## Motivation\n",
    "\n",
    "We would like to realize a generic and simple interface for expectation values and their gradients.\n",
    "It it necessary to be simple enough to incorporate various features and backends.\n",
    "This could eventually be provided as Qiskit Runtime.\n",
    "Other primitives, e.g., fidelity and histogram, will be covered by other proposals.\n",
    "\n",
    "The current workflow with opflow to get an expectation value is as follows.\n",
    "```python\n",
    "# define the expectation value\n",
    "state = StateFn(...) # can be a circuit-based state or defined via a statevector or dictionary\n",
    "operator = # some opflow operator, e.g. PauliSumOp\n",
    "expectation = StateFn(operator, is_measurement=True) @ state\n",
    "\n",
    "# define how to evaluate\n",
    "expectation_converter = # method to evaluate the expected value, e.g. PauliExpectation, CVaRExpectation, AerPauliExpectation, ...\n",
    "circuit_sampler = CircuitSampler(backend)  # backend or simulator to execute the circuits\n",
    "\n",
    "# constructs opflow objects needed to evaluate the expectation value\n",
    "# e.g. creates circuits to measure in different Pauli bases\n",
    "converted = expectation_converter.convert(expectation) \n",
    "\n",
    "# evaluate the circuits (optionally with parameters, if the state had free parameters so far)\n",
    "sampled = circuit_sampler.convert(converted, parameters)\n",
    "\n",
    "# get final result\n",
    "result = sampled.eval()\n",
    "```\n",
    "\n",
    "Reference: [Expectation value re-design #6864](https://github.com/Qiskit/qiskit-terra/issues/6864)\n",
    "\n",
    "We propose a new design of the expectation value to make it generic and simple.\n",
    "Essentially, we aim at the following workflow.\n",
    "\n",
    "```python\n",
    "operator = ...\n",
    "state = ...\n",
    "expval = ExpectationValue(state, operator, backend)\n",
    "result = expval.evaluate(parameters).value\n",
    "```\n",
    "\n",
    "### Planned Features\n",
    "\n",
    "- Grouping algorithms of operators, `AbelienGrouper` (tensor product basis grouper) and grouper with entanglement measurements\n",
    "- Readout error mitigation algorithms, e.g., Complete mitigator, CTMP mitigator, [M3 mitigation](https://github.com/Qiskit-Partners/mthree)\n",
    "- Gate error mitigation, e.g., zero noise extrapolation\n",
    "- Classical shadow\n",
    "- Entanglement forging\n",
    "- Num. shots / circuits beyond backend/provider limit\n",
    "- On-chip parallelization\n",
    "- Bootstrap (sampling from probability distribution obtained from backend)\n",
    "- Merge shots (execute the same circuits again and merge the shots to realize a larger number of shots)"
   ]
  },
  {
   "cell_type": "markdown",
   "id": "b78a5565",
   "metadata": {},
   "source": [
    "## Outline of the new design\n",
    "\n",
    "We propose an abstract class for expectation value and gradient.\n",
    "An instance will be initialized with the following objects:\n",
    "\n",
    "- `state` $\\psi(\\theta)$: a (parametrized) quantum circuit or a state vector to be converted into a quantum circuit.\n",
    "- `observable` $H$: for simplicity, we allow opflow `PauliSumOp` (primitive is `SparsePauliOp`) or quantum_info operator `BaseOperator` that is compatible with `SparsePauliOp`.\n",
    "- `backend`: Either `IBMQBackend` or `AerSimulator`. We don't support legacy simulator backends and BasicAer.\n",
    "- (optional) `expval`: take an expectation value object as an input (e.g., gradient)\n",
    "\n",
    "Instances of this class are immutable.\n",
    "Users need to invoke the constructor to evaluate the expectation value of a different state or observable.\n",
    "\n",
    "Users use `ExpectationValue.evaluate(parameters)` to obtain the expectation value.\n",
    "The internal workflow consists of phases:\n",
    "\n",
    "1. `ExpectationValue._preprocessing` generates quantum circuits corresponding to the pair of quantum state and observable. The circuits maybe left parametrized. This will be invoked on demand to avoid overhead of the constructor.\n",
    "2. `ExpectationValue.evaluate(parameters)` transpiles quantum circuits, puts parameter values to the transpiled circuits, and executes them on the backend.\n",
    "3. `ExpectationValue._postprocessing` interprets the results of the backend into an expectation value and other information as `ExpectationValueResult`.\n",
    "\n",
    "Note: we allow `ExpectationValue.evaluate(parameters)` to process a set of parameters and the output will be `ExpectationValueArrayResult`. See an example later.\n",
    "\n",
    "`ExpectationValueGradient` may have the same interface and/or it may take `ExpectationValue` object as an input of the constructor."
   ]
  },
  {
   "cell_type": "markdown",
   "id": "da17b65c",
   "metadata": {},
   "source": [
    "## Current status as PoC\n",
    "\n",
    "The following classes and features have been implemented.\n",
    "\n",
    "Expectation value classes\n",
    "- `PauliExpectationValue`: expectation value for shot-based backends (both AerBackend and IBMQBackend) \n",
    "- `ExactExpectationValue`: exact expectation value with `SaveExpectationValueVariance` instruction supported only by Aer\n",
    "\n",
    "Gradient of expectation value classes\n",
    "- `FiniteDiffGradient`: finite difference gradient\n",
    "- `ParameterShiftGradient`: parameter shift rule for the simple cases (parameters appears only once and they have coefficient 1)\n",
    "\n",
    "Features\n",
    "- Separate transpilation of ansatz and Pauli strings\n",
    "  - A parameterized circuit corresponding to an ansatz is usually shared by Pauli strings that comprise the observable. This technique reduces the duplicate transpile of the shared part.\n",
    "  - [transpile ansatz and pauli-lists separately in VQE #6454](https://github.com/Qiskit/qiskit-terra/pull/6454)\n",
    "- Take a history of evaluations so that users can make a plot of optimization\n",
    "  - Optimization algorithms e.g., [Scipy.opimize.minimize](https://docs.scipy.org/doc/scipy/reference/generated/scipy.optimize.minimize.html), should take care of the history. But, [OptimizeResult](https://docs.scipy.org/doc/scipy/reference/generated/scipy.optimize.OptimizeResult.html#scipy.optimize.OptimizeResult) is not enough to include standard deviation and confidence interval of expectation values.\n",
    "- Backend wrapper\n",
    "  - Retry of job submission in case of cancel and/or network error\n",
    "  - Split circuits if the size is larger than `max_experiments`\n",
    "  - Copy circutis to realize users-set `shots` that is more than `max_shots`\n",
    "  - Readout error mitigation (tensored, complete, M3)\n",
    "    - Periodical calibration, e.g., calibration every 30 minutes\n",
    "\n",
    "Questions\n",
    "- Why does expval take care of backend as backend wrapper?\n",
    "  - `QuantumInstance` of terra and `IBMQJobManager` (ManagedJob) of IBMQ provider can take care of only the split of circuits to satisfy `max_experiments`. But, as far as we know, there is no feature to realize `shots` more than `max_shots`. If this feature is implemented as part of IBMQ provider, it cannot be used for other backends, e.g., AQT and IonQ. Should it be part of terra?\n",
    "  - We experimentally implemented preemptive readout error mitigation calibration, i.e., we put the calibration job between a set of jobs generated by the split or copy of circuits\n",
    "\n",
    "TODOs\n",
    "- Finalize the interface of the design\n",
    "- Make a PR"
   ]
  },
  {
   "cell_type": "code",
   "execution_count": 1,
   "id": "05da73c4",
   "metadata": {
    "tags": []
   },
   "outputs": [],
   "source": [
    "%load_ext autoreload\n",
    "%autoreload 2"
   ]
  },
  {
   "cell_type": "markdown",
   "id": "cdf67779",
   "metadata": {},
   "source": [
    "# ExpectationValue"
   ]
  },
  {
   "cell_type": "code",
   "execution_count": 2,
   "id": "fc97bb99",
   "metadata": {},
   "outputs": [],
   "source": [
    "import numpy as np"
   ]
  },
  {
   "cell_type": "code",
   "execution_count": 3,
   "id": "6104c3e9",
   "metadata": {},
   "outputs": [
    {
     "name": "stdout",
     "output_type": "stream",
     "text": [
      "observable\n",
      "-1.052373245772859 * II\n",
      "+ 0.39793742484318045 * IZ\n",
      "- 0.39793742484318045 * ZI\n",
      "- 0.01128010425623538 * ZZ\n",
      "+ 0.18093119978423156 * XX\n",
      "\n",
      "ansatz\n",
      "     ┌──────────┐     ┌──────────┐     ┌──────────┐\n",
      "q_0: ┤ Ry(θ[0]) ├──■──┤ Ry(θ[2]) ├──■──┤ Ry(θ[4]) ├\n",
      "     ├──────────┤┌─┴─┐├──────────┤┌─┴─┐├──────────┤\n",
      "q_1: ┤ Ry(θ[1]) ├┤ X ├┤ Ry(θ[3]) ├┤ X ├┤ Ry(θ[5]) ├\n",
      "     └──────────┘└───┘└──────────┘└───┘└──────────┘\n"
     ]
    }
   ],
   "source": [
    "from qiskit.circuit.library import RealAmplitudes\n",
    "from qiskit.opflow import PauliSumOp\n",
    "\n",
    "observable = PauliSumOp.from_list(\n",
    "    [\n",
    "        (\"II\", -1.052373245772859),\n",
    "        (\"IZ\", 0.39793742484318045),\n",
    "        (\"ZI\", -0.39793742484318045),\n",
    "        (\"ZZ\", -0.01128010425623538),\n",
    "        (\"XX\", 0.18093119978423156),\n",
    "    ]\n",
    ")\n",
    "print(\"observable\")\n",
    "print(observable)\n",
    "\n",
    "ansatz = RealAmplitudes(num_qubits=2, reps=2)\n",
    "print(\"\\nansatz\")\n",
    "print(ansatz)"
   ]
  },
  {
   "cell_type": "code",
   "execution_count": 4,
   "id": "ce866e21",
   "metadata": {},
   "outputs": [
    {
     "name": "stdout",
     "output_type": "stream",
     "text": [
      "-1.284366511861733\n"
     ]
    }
   ],
   "source": [
    "from qiskit.quantum_info import Statevector\n",
    "\n",
    "expval = Statevector(ansatz.bind_parameters([0, 1, 1, 2, 3, 5])).expectation_value(\n",
    "    observable.primitive\n",
    ")\n",
    "print(expval.real)"
   ]
  },
  {
   "cell_type": "markdown",
   "id": "3e5bc903",
   "metadata": {},
   "source": [
    "## ExpectationValue class"
   ]
  },
  {
   "cell_type": "code",
   "execution_count": 5,
   "id": "2dd0c134",
   "metadata": {},
   "outputs": [],
   "source": [
    "from qiskit.evaluators import PauliExpectationValue"
   ]
  },
  {
   "cell_type": "markdown",
   "id": "01eba673",
   "metadata": {},
   "source": [
    "### PauliExpectationValue\n",
    "\n",
    "Evaluate the expectation value by sampling. This supports both AerSimulator and IBMQ backends."
   ]
  },
  {
   "cell_type": "code",
   "execution_count": 6,
   "id": "578ae95d",
   "metadata": {},
   "outputs": [],
   "source": [
    "from qiskit.providers.aer import AerSimulator\n",
    "\n",
    "backend = AerSimulator()"
   ]
  },
  {
   "cell_type": "code",
   "execution_count": 7,
   "id": "624c2fc9",
   "metadata": {
    "tags": []
   },
   "outputs": [
    {
     "data": {
      "text/plain": [
       "ExpectationValueResult(value=-1.3090452151141128, variance=0.2929364567040282, confidence_interval=(-1.3374360865664126, -1.280654343661813))"
      ]
     },
     "execution_count": 7,
     "metadata": {},
     "output_type": "execute_result"
    }
   ],
   "source": [
    "expval = PauliExpectationValue(ansatz, observable, backend=backend)\n",
    "expval.evaluate([0, 1, 1, 2, 3, 5], shos=1000)"
   ]
  },
  {
   "cell_type": "code",
   "execution_count": 8,
   "id": "49e070be",
   "metadata": {},
   "outputs": [
    {
     "data": {
      "text/plain": [
       "ExpectationValueResult(value=-1.256153158472551, variance=0.30499498728783486, confidence_interval=(-1.285131798990718, -1.2271745179543838))"
      ]
     },
     "execution_count": 8,
     "metadata": {},
     "output_type": "execute_result"
    }
   ],
   "source": [
    "# pre-binding\n",
    "\n",
    "circuit = ansatz.bind_parameters([0, 1, 1, 2, 3, 5])\n",
    "expval = PauliExpectationValue(circuit, observable, backend=backend)\n",
    "expval.evaluate()"
   ]
  },
  {
   "cell_type": "code",
   "execution_count": 9,
   "id": "18535167",
   "metadata": {},
   "outputs": [
    {
     "data": {
      "text/plain": [
       "ExpectationValueArrayResult(values=array([-1.28587174, -1.31600685]), variances=array([0.30081447, 0.24277642]), confidence_intervals=array([[-1.30267805, -1.26906544],\n",
       "       [-1.33074819, -1.30126552]]))"
      ]
     },
     "execution_count": 9,
     "metadata": {},
     "output_type": "execute_result"
    }
   ],
   "source": [
    "# multi prameters\n",
    "\n",
    "expval = PauliExpectationValue(ansatz, observable, backend=backend)\n",
    "expval.evaluate([[0, 1, 1, 2, 3, 5], [1, 1, 2, 3, 5, 8]], shots=3000)"
   ]
  },
  {
   "cell_type": "code",
   "execution_count": 10,
   "id": "18ed7ddc",
   "metadata": {},
   "outputs": [
    {
     "data": {
      "text/plain": [
       "ExpectationValueArrayResult(values=array([-1.28534728, -1.32029638]), variances=array([0.29789012, 0.24187595]), confidence_intervals=array([[-1.29547265, -1.2752219 ],\n",
       "       [-1.32920899, -1.31138377]]))"
      ]
     },
     "execution_count": 10,
     "metadata": {},
     "output_type": "execute_result"
    }
   ],
   "source": [
    "# can pass ndarray\n",
    "expval = PauliExpectationValue(ansatz, observable, backend=backend)\n",
    "expval.evaluate(np.array([[0, 1, 1, 2, 3, 5], [1, 1, 2, 3, 5, 8]]), shots=8192)"
   ]
  },
  {
   "cell_type": "markdown",
   "id": "257787d2",
   "metadata": {},
   "source": [
    "### Exact simulation by SaveExpectationValueVariance"
   ]
  },
  {
   "cell_type": "code",
   "execution_count": 11,
   "id": "e602573e",
   "metadata": {},
   "outputs": [],
   "source": [
    "from qiskit.evaluators import ExactExpectationValue"
   ]
  },
  {
   "cell_type": "code",
   "execution_count": 12,
   "id": "a795bd78",
   "metadata": {},
   "outputs": [
    {
     "data": {
      "text/plain": [
       "ExpectationValueResult(value=-1.2843665118617325, variance=0.26528532962023577, confidence_interval=None)"
      ]
     },
     "execution_count": 12,
     "metadata": {},
     "output_type": "execute_result"
    }
   ],
   "source": [
    "expval = ExactExpectationValue(ansatz, observable, backend=backend)\n",
    "expval.evaluate([0, 1, 1, 2, 3, 5])"
   ]
  },
  {
   "cell_type": "code",
   "execution_count": 13,
   "id": "60687fe8",
   "metadata": {},
   "outputs": [
    {
     "data": {
      "text/plain": [
       "ExpectationValueArrayResult(values=array([-1.28436651, -1.31875263]), variances=array([0.26528533, 0.42691205]), confidence_intervals=array([None, None], dtype=object))"
      ]
     },
     "execution_count": 13,
     "metadata": {},
     "output_type": "execute_result"
    }
   ],
   "source": [
    "expval = ExactExpectationValue(ansatz, observable, backend=backend)\n",
    "expval.evaluate(np.array([[0, 1, 1, 2, 3, 5], [1, 1, 2, 3, 5, 8]]))"
   ]
  },
  {
   "cell_type": "markdown",
   "id": "1c94c403",
   "metadata": {},
   "source": [
    "### Transpiled Circuits"
   ]
  },
  {
   "cell_type": "code",
   "execution_count": 14,
   "id": "3e1a8842",
   "metadata": {},
   "outputs": [
    {
     "name": "stdout",
     "output_type": "stream",
     "text": [
      "ExpectationValueResult(value=-1.229056867318688, variance=0.3282842584672735, confidence_interval=(-1.2590653410871118, -1.199048393550264))\n",
      "global phase: π\n",
      "                                                                »\n",
      "ancilla_0 -> 0 ─────────────────────────────────────────────────»\n",
      "                                                                »\n",
      "ancilla_1 -> 1 ─────────────────────────────────────────────────»\n",
      "               ┌────┐┌──────────────┐┌────┐┌────────┐┌───┐┌────┐»\n",
      "      q_1 -> 2 ┤ √X ├┤ Rz(θ[1] + π) ├┤ √X ├┤ Rz(3π) ├┤ X ├┤ √X ├»\n",
      "               ├────┤├──────────────┤├────┤├────────┤└─┬─┘├────┤»\n",
      "      q_0 -> 3 ┤ √X ├┤ Rz(θ[0] + π) ├┤ √X ├┤ Rz(3π) ├──■──┤ √X ├»\n",
      "               └────┘└──────────────┘└────┘└────────┘     └────┘»\n",
      "ancilla_2 -> 4 ─────────────────────────────────────────────────»\n",
      "                                                                »\n",
      "          c: 2/═════════════════════════════════════════════════»\n",
      "                                                                »\n",
      "«                                                                          »\n",
      "«ancilla_0 -> 0 ───────────────────────────────────────────────────────────»\n",
      "«                                                                          »\n",
      "«ancilla_1 -> 1 ───────────────────────────────────────────────────────────»\n",
      "«               ┌──────────────┐┌────┐┌────────┐┌───┐┌────┐┌──────────────┐»\n",
      "«      q_1 -> 2 ┤ Rz(θ[3] + π) ├┤ √X ├┤ Rz(3π) ├┤ X ├┤ √X ├┤ Rz(θ[5] + π) ├»\n",
      "«               ├──────────────┤├────┤├────────┤└─┬─┘├────┤├──────────────┤»\n",
      "«      q_0 -> 3 ┤ Rz(θ[2] + π) ├┤ √X ├┤ Rz(3π) ├──■──┤ √X ├┤ Rz(θ[4] + π) ├»\n",
      "«               └──────────────┘└────┘└────────┘     └────┘└──────────────┘»\n",
      "«ancilla_2 -> 4 ───────────────────────────────────────────────────────────»\n",
      "«                                                                          »\n",
      "«          c: 2/═══════════════════════════════════════════════════════════»\n",
      "«                                                                          »\n",
      "«                                     \n",
      "«ancilla_0 -> 0 ──────────────────────\n",
      "«                                     \n",
      "«ancilla_1 -> 1 ──────────────────────\n",
      "«               ┌────┐┌────────┐   ┌─┐\n",
      "«      q_1 -> 2 ┤ √X ├┤ Rz(3π) ├───┤M├\n",
      "«               ├────┤├────────┤┌─┐└╥┘\n",
      "«      q_0 -> 3 ┤ √X ├┤ Rz(3π) ├┤M├─╫─\n",
      "«               └────┘└────────┘└╥┘ ║ \n",
      "«ancilla_2 -> 4 ─────────────────╫──╫─\n",
      "«                                ║  ║ \n",
      "«          c: 2/═════════════════╩══╩═\n",
      "«                                0  1 \n"
     ]
    }
   ],
   "source": [
    "from qiskit.test.mock import FakeBogota\n",
    "\n",
    "backend = AerSimulator.from_backend(FakeBogota())\n",
    "\n",
    "expval = PauliExpectationValue(ansatz, observable, backend=backend)\n",
    "expval.set_transpile_options(initial_layout=[3, 2])\n",
    "print(expval.evaluate([0, 1, 1, 2, 3, 5]))\n",
    "print(expval.transpiled_circuits[0])"
   ]
  },
  {
   "cell_type": "markdown",
   "id": "82a30637",
   "metadata": {},
   "source": [
    "### Transpile options and Run options"
   ]
  },
  {
   "cell_type": "code",
   "execution_count": 15,
   "id": "b663b5ef",
   "metadata": {},
   "outputs": [
    {
     "data": {
      "text/plain": [
       "ExpectationValueResult(value=-1.2557707473717863, variance=0.3140474927185698, confidence_interval=(-1.258744480123419, -1.2527970146201535))"
      ]
     },
     "execution_count": 15,
     "metadata": {},
     "output_type": "execute_result"
    }
   ],
   "source": [
    "expval = PauliExpectationValue(ansatz, observable, backend=backend)\n",
    "# setter\n",
    "expval.set_transpile_options(optimization_level=2)\n",
    "expval.set_run_options(shots=100_000)\n",
    "expval.evaluate([0, 1, 1, 2, 3, 5])"
   ]
  },
  {
   "cell_type": "code",
   "execution_count": 16,
   "id": "2d5b5c32",
   "metadata": {},
   "outputs": [
    {
     "data": {
      "text/plain": [
       "ExpectationValueResult(value=-1.2514271441790514, variance=0.312249002680351, confidence_interval=(-1.261788769581975, -1.241065518776128))"
      ]
     },
     "execution_count": 16,
     "metadata": {},
     "output_type": "execute_result"
    }
   ],
   "source": [
    "# Method chain\n",
    "expval.set_run_options(shots=8192).evaluate([0, 1, 1, 2, 3, 5])"
   ]
  },
  {
   "cell_type": "code",
   "execution_count": 17,
   "id": "45d115db",
   "metadata": {},
   "outputs": [
    {
     "data": {
      "text/plain": [
       "ExpectationValueResult(value=-1.2648693515865685, variance=0.3071962385278164, confidence_interval=(-1.3185700597706362, -1.2111686434025009))"
      ]
     },
     "execution_count": 17,
     "metadata": {},
     "output_type": "execute_result"
    }
   ],
   "source": [
    "# evaluate's option\n",
    "expval.evaluate([0, 1, 1, 2, 3, 5], shots=300)"
   ]
  },
  {
   "cell_type": "markdown",
   "id": "ec7791bb",
   "metadata": {},
   "source": [
    "### Composite Evaluator"
   ]
  },
  {
   "cell_type": "code",
   "execution_count": 18,
   "id": "60e1deaa",
   "metadata": {},
   "outputs": [],
   "source": [
    "from qiskit.evaluators import JointEvaluator"
   ]
  },
  {
   "cell_type": "code",
   "execution_count": 19,
   "id": "c7bff8ef",
   "metadata": {},
   "outputs": [
    {
     "data": {
      "text/plain": [
       "5"
      ]
     },
     "execution_count": 19,
     "metadata": {},
     "output_type": "execute_result"
    }
   ],
   "source": [
    "len(expval.transpiled_circuits)"
   ]
  },
  {
   "cell_type": "code",
   "execution_count": 20,
   "id": "c2b25c81",
   "metadata": {},
   "outputs": [],
   "source": [
    "joint_evaluator = JointEvaluator([expval, expval, expval])  # can be different evaluators"
   ]
  },
  {
   "cell_type": "code",
   "execution_count": 21,
   "id": "43412a24",
   "metadata": {},
   "outputs": [
    {
     "data": {
      "text/plain": [
       "15"
      ]
     },
     "execution_count": 21,
     "metadata": {},
     "output_type": "execute_result"
    }
   ],
   "source": [
    "len(joint_evaluator.transpiled_circuits)  # 5 × 3"
   ]
  },
  {
   "cell_type": "code",
   "execution_count": 22,
   "id": "cf8466ff",
   "metadata": {},
   "outputs": [
    {
     "data": {
      "text/plain": [
       "CompositeResult(items=[ExpectationValueResult(value=-1.2225847614772662, variance=0.1293822340124302, confidence_interval=(-1.233825305854776, -1.2113442170997566)), ExpectationValueResult(value=-1.2225847614772662, variance=0.1293822340124302, confidence_interval=(-1.233825305854776, -1.2113442170997566)), ExpectationValueResult(value=-1.2225847614772662, variance=0.1293822340124302, confidence_interval=(-1.233825305854776, -1.2113442170997566))])"
      ]
     },
     "execution_count": 22,
     "metadata": {},
     "output_type": "execute_result"
    }
   ],
   "source": [
    "joint_evaluator.evaluate([[0, 1, 1, 2, 3, 5], [1, 1, 2, 3, 5, 8], [1, 2, 3, 5, 8, 13]])"
   ]
  },
  {
   "cell_type": "markdown",
   "id": "9185b9ae",
   "metadata": {},
   "source": [
    "### Large number of shots"
   ]
  },
  {
   "cell_type": "code",
   "execution_count": 23,
   "id": "620b76bb",
   "metadata": {},
   "outputs": [
    {
     "name": "stdout",
     "output_type": "stream",
     "text": [
      "max_shots 8192\n",
      "Number of shots specified: 10000 exceeds max_shots property of the backend: 8192.\n"
     ]
    }
   ],
   "source": [
    "try:\n",
    "    from qiskit import QuantumCircuit, QiskitError\n",
    "    qc = QuantumCircuit(1, 1)\n",
    "    qc.h(0)\n",
    "    qc.measure(0, 0)\n",
    "    from qiskit import IBMQ\n",
    "    prov = IBMQ.load_account()\n",
    "    ibmq_qasm_sim = prov.get_backend('ibmq_qasm_simulator')\n",
    "    print(f\"max_shots {backend.configuration().max_shots}\")\n",
    "    ibmq_qasm_sim.run(qc, shots=10000).result().get_counts()\n",
    "except QiskitError as ex:\n",
    "    print(ex.message)"
   ]
  },
  {
   "cell_type": "code",
   "execution_count": 24,
   "id": "9cb73555",
   "metadata": {},
   "outputs": [
    {
     "data": {
      "text/plain": [
       "ExpectationValueResult(value=-1.279642458359693, variance=0.30132634549004206, confidence_interval=(-1.2888592619592862, -1.2704256547600998))"
      ]
     },
     "execution_count": 24,
     "metadata": {},
     "output_type": "execute_result"
    }
   ],
   "source": [
    "expval = PauliExpectationValue(ansatz, observable, backend=ibmq_qasm_sim)\n",
    "expval.evaluate([0, 1, 1, 2, 3, 5], shots=10000)"
   ]
  },
  {
   "cell_type": "markdown",
   "id": "88234028",
   "metadata": {},
   "source": [
    "### Readout error mitigation"
   ]
  },
  {
   "cell_type": "code",
   "execution_count": 25,
   "id": "c992bb1f",
   "metadata": {},
   "outputs": [
    {
     "name": "stdout",
     "output_type": "stream",
     "text": [
      "w/o mitigation shots=4000, result=ExpectationValueResult(value=-1.2539715800812163, variance=0.3131978742749878, confidence_interval=(-1.2688219868279305, -1.2391211733345022))\n",
      "w/ tensored mitigation shots=4000, result=ExpectationValueResult(value=-1.2789565750502807, variance=0.30084923799808627, confidence_interval=(-1.2935157940164108, -1.2643973560841506))\n",
      "w/ M3 mitigation shots=4000, result=ExpectationValueResult(value=-1.2740247575689032, variance=0.3094163780471677, confidence_interval=(-1.2887847972438802, -1.2592647178939262))\n"
     ]
    }
   ],
   "source": [
    "from qiskit.evaluators.backends import ReadoutErrorMitigation\n",
    "\n",
    "backend = AerSimulator.from_backend(FakeBogota())\n",
    "mit_tensored = ReadoutErrorMitigation(\n",
    "    backend, mitigation=\"tensored\", refresh=600, shots=2000, mit_pattern=[[0], [1]]\n",
    ")\n",
    "mit_mthree = ReadoutErrorMitigation(\n",
    "    backend, mitigation=\"mthree\", refresh=600, shots=2000, qubits=[0, 1]\n",
    ")\n",
    "expval_raw = PauliExpectationValue(ansatz, observable, backend=backend)\n",
    "expval_tensored = PauliExpectationValue(ansatz, observable, backend=mit_tensored)\n",
    "expval_mthree = PauliExpectationValue(ansatz, observable, backend=mit_mthree)\n",
    "shots = 4000\n",
    "print(\n",
    "    f\"w/o mitigation shots={shots}, result={expval_raw.evaluate([0, 1, 1, 2, 3, 5], shots=shots)}\"\n",
    ")\n",
    "print(\n",
    "    f\"w/ tensored mitigation shots={shots}, result={expval_tensored.evaluate([0, 1, 1, 2, 3, 5], shots=shots)}\"\n",
    ")\n",
    "print(\n",
    "    f\"w/ M3 mitigation shots={shots}, result={expval_mthree.evaluate([0, 1, 1, 2, 3, 5], shots=shots)}\"\n",
    ")"
   ]
  },
  {
   "cell_type": "markdown",
   "id": "ce3810ee",
   "metadata": {},
   "source": [
    "### Gradient of expectation value"
   ]
  },
  {
   "cell_type": "code",
   "execution_count": 26,
   "id": "3070586b",
   "metadata": {},
   "outputs": [],
   "source": [
    "from qiskit.evaluators.expectation_value.expectation_value_gradient import (\n",
    "    FiniteDiffGradient,\n",
    "    ParameterShiftGradient,\n",
    ")"
   ]
  },
  {
   "cell_type": "code",
   "execution_count": 27,
   "id": "06c9d4ac",
   "metadata": {
    "tags": []
   },
   "outputs": [
    {
     "name": "stdout",
     "output_type": "stream",
     "text": [
      "fin diff of exact [ 0.28213347  0.42656751  0.20442583  0.42656749 -0.17291453  0.0589814 ]\n",
      "param shift of exact [ 0.28213349  0.42656754  0.20442588  0.42656754 -0.17291452  0.05898141]\n",
      "fin diff w/o mit [0.24276288 0.33920397 0.24693898 0.44056231 0.05959707 0.18628365]\n",
      "param shift w/o mit [ 0.2473884   0.38792887  0.18725038  0.38899983 -0.1524645   0.05920414]\n",
      "fin diff w/  mit [-0.01153736  0.34432605  0.02761394  0.63358013 -0.45319615 -0.13065322]\n",
      "param shift w/  mit [ 0.24080155  0.40950011  0.20454139  0.40935914 -0.18788055  0.06674949]\n"
     ]
    }
   ],
   "source": [
    "parameters = [0, 1, 1, 2, 3, 5]\n",
    "\n",
    "exact_expval = ExactExpectationValue(ansatz, observable, backend=AerSimulator())\n",
    "exact_findiff = FiniteDiffGradient(exact_expval, 1e-8)\n",
    "print(f\"fin diff of exact {exact_findiff.evaluate(parameters).values}\")\n",
    "\n",
    "exact_expval = ExactExpectationValue(ansatz, observable, backend=AerSimulator())\n",
    "exact_findiff = ParameterShiftGradient(exact_expval)\n",
    "print(f\"param shift of exact {exact_findiff.evaluate([0, 1, 1, 2, 3, 5]).values}\")\n",
    "\n",
    "shots = 2000\n",
    "findiff = FiniteDiffGradient(expval_raw, 1e-1)\n",
    "paramshift = ParameterShiftGradient(expval_raw)\n",
    "print(f\"fin diff w/o mit {findiff.evaluate(parameters, shots=shots).values}\")\n",
    "print(\n",
    "    f\"param shift w/o mit {paramshift.evaluate(parameters, shots=shots).values}\"\n",
    ")\n",
    "\n",
    "findiff = FiniteDiffGradient(expval_mthree, 1e-1)\n",
    "paramshift = ParameterShiftGradient(expval_mthree)\n",
    "print(f\"fin diff w/  mit {findiff.evaluate([0, 1, 1, 2, 3, 5], shots=shots).values}\")\n",
    "print(\n",
    "    f\"param shift w/  mit {paramshift.evaluate(parameters, shots=shots).values}\"\n",
    ")"
   ]
  },
  {
   "cell_type": "markdown",
   "id": "ced77786",
   "metadata": {},
   "source": [
    "### VQE by Scipy optimizer"
   ]
  },
  {
   "cell_type": "code",
   "execution_count": 28,
   "id": "7dd56dfc",
   "metadata": {},
   "outputs": [
    {
     "name": "stdout",
     "output_type": "stream",
     "text": [
      "      fun: -1.8716390800982925\n",
      " hess_inv: array([[ 0.79980568,  0.09619403, -0.68134073, -0.41687586, -0.20758577,\n",
      "         0.08736102],\n",
      "       [ 0.09619403,  1.16165312, -0.86639612,  0.11098744, -0.16646312,\n",
      "         0.74212281],\n",
      "       [-0.68134073, -0.86639612,  2.92412964,  0.07790992,  0.3354051 ,\n",
      "        -0.87919697],\n",
      "       [-0.41687586,  0.11098744,  0.07790992,  1.78083046, -0.22509244,\n",
      "        -0.08284862],\n",
      "       [-0.20758577, -0.16646312,  0.3354051 , -0.22509244,  0.57828575,\n",
      "        -0.23407747],\n",
      "       [ 0.08736102,  0.74212281, -0.87919697, -0.08284862, -0.23407747,\n",
      "         1.30542924]])\n",
      "      jac: array([-0.01040114,  0.02259698,  0.00731785, -0.00322002,  0.00156595,\n",
      "        0.00793328])\n",
      "  message: 'Desired error not necessarily achieved due to precision loss.'\n",
      "     nfev: 59\n",
      "      nit: 11\n",
      "     njev: 47\n",
      "   status: 2\n",
      "  success: False\n",
      "        x: array([-0.69468899,  0.9953469 , -2.04976232,  1.46469354, -0.56056225,\n",
      "       -0.54999708])\n"
     ]
    }
   ],
   "source": [
    "from scipy.optimize import minimize\n",
    "\n",
    "shots = 1000\n",
    "expval = PauliExpectationValue(ansatz, observable, backend=AerSimulator(), append=True)\n",
    "paramshift = ParameterShiftGradient(expval)\n",
    "# this may take a long time...\n",
    "result = minimize(\n",
    "    lambda x: expval.evaluate(x, shots=shots).value,\n",
    "    np.zeros(6),\n",
    "    jac=lambda x: paramshift.evaluate(x, shots=shots).values,\n",
    ")\n",
    "print(result)"
   ]
  },
  {
   "cell_type": "code",
   "execution_count": 29,
   "id": "71a0aed0",
   "metadata": {},
   "outputs": [
    {
     "data": {
      "image/png": "[encoded data removed]",
      "text/plain": [
       "<Figure size 864x576 with 1 Axes>"
      ]
     },
     "metadata": {
      "needs_background": "light"
     },
     "output_type": "display_data"
    }
   ],
   "source": [
    "import matplotlib.pyplot as plt\n",
    "from qiskit.evaluators.results import ExpectationValueResult\n",
    "\n",
    "plt.figure(figsize=(12, 8))\n",
    "y = [h.value for h in expval.history if isinstance(h, ExpectationValueResult)]\n",
    "x = list(range(len(y)))\n",
    "yerr = np.array(\n",
    "    [\n",
    "        tuple(abs(c - h.value) for c in h.confidence_interval)\n",
    "        for h in expval.history\n",
    "        if isinstance(h, ExpectationValueResult)\n",
    "    ]\n",
    ").transpose()\n",
    "plt.plot(y, color=\"blue\")\n",
    "plt.errorbar(\n",
    "    x,\n",
    "    y,\n",
    "    yerr=yerr,\n",
    "    capsize=5,\n",
    "    fmt=\"o\",\n",
    "    markersize=8,\n",
    "    ecolor=\"blue\",\n",
    "    markeredgecolor=\"blue\",\n",
    "    color=\"w\",\n",
    ")\n",
    "plt.xlabel(\"Eval count\")\n",
    "plt.ylabel(\"Energy\")\n",
    "plt.show()"
   ]
  },
  {
   "cell_type": "code",
   "execution_count": null,
   "id": "ba66ef99",
   "metadata": {},
   "outputs": [],
   "source": []
  }
 ],
 "metadata": {
  "interpreter": {
   "hash": "55198b233f406dc59b712acd847cdd7a571fa057c585d106ba05aad0d31ffb93"
  },
  "kernelspec": {
   "display_name": "Terra",
   "language": "python",
   "name": "terra"
  },
  "language_info": {
   "codemirror_mode": {
    "name": "ipython",
    "version": 3
   },
   "file_extension": ".py",
   "mimetype": "text/x-python",
   "name": "python",
   "nbconvert_exporter": "python",
   "pygments_lexer": "ipython3",
   "version": "3.9.4"
  }
 },
 "nbformat": 4,
 "nbformat_minor": 5
}
