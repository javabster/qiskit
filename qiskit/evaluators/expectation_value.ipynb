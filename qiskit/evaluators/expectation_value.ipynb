{
 "cells": [
  {
   "cell_type": "code",
   "execution_count": 1,
   "id": "1e757f1b",
   "metadata": {
    "tags": []
   },
   "outputs": [],
   "source": [
    "%load_ext autoreload\n",
    "%autoreload 2"
   ]
  },
  {
   "cell_type": "markdown",
   "id": "31bc9934",
   "metadata": {},
   "source": [
    "# ExpectationValue"
   ]
  },
  {
   "cell_type": "code",
   "execution_count": 2,
   "id": "fee95b3f",
   "metadata": {},
   "outputs": [
    {
     "name": "stdout",
     "output_type": "stream",
     "text": [
      "observable\n",
      " 1.0 * XX\n",
      "+ 2.0 * YY\n",
      "+ 3.0 * ZZ\n",
      "ansatz\n",
      "      ┌──────────┐     ┌──────────┐     ┌──────────┐\n",
      "q_0: ┤ Ry(θ[0]) ├──■──┤ Ry(θ[2]) ├──■──┤ Ry(θ[4]) ├\n",
      "     ├──────────┤┌─┴─┐├──────────┤┌─┴─┐├──────────┤\n",
      "q_1: ┤ Ry(θ[1]) ├┤ X ├┤ Ry(θ[3]) ├┤ X ├┤ Ry(θ[5]) ├\n",
      "     └──────────┘└───┘└──────────┘└───┘└──────────┘\n"
     ]
    }
   ],
   "source": [
    "from qiskit.circuit.library import RealAmplitudes\n",
    "from qiskit.opflow import PauliSumOp\n",
    "\n",
    "observable = PauliSumOp.from_list([(\"XX\", 1), (\"YY\", 2), (\"ZZ\", 3)])\n",
    "print(\"observable\\n\", observable)\n",
    "\n",
    "ansatz = RealAmplitudes(num_qubits=2, reps=2)\n",
    "print(\"ansatz\\n\", ansatz)"
   ]
  },
  {
   "cell_type": "code",
   "execution_count": 3,
   "id": "60af9f40",
   "metadata": {},
   "outputs": [
    {
     "name": "stdout",
     "output_type": "stream",
     "text": [
      "1.8420921273153719\n"
     ]
    },
    {
     "name": "stderr",
     "output_type": "stream",
     "text": [
      "/Users/aa406165/Git/qiskit-core/qiskit/quantum_info/states/statevector.py:444: DeprecationWarning: The SparsePauliOp.table method is deprecated as of Qiskit Terra 0.19.0 and will be removed no sooner than 3 months after the releasedate. Use SparsePauliOp.paulis method instead.\n",
      "  for z, x, coeff in zip(oper.table.Z, oper.table.X, oper.coeffs)\n"
     ]
    }
   ],
   "source": [
    "from qiskit.quantum_info import Statevector\n",
    "\n",
    "expval = Statevector(ansatz.bind_parameters([0, 1, 1, 2, 3, 5])).expectation_value(\n",
    "    observable.primitive\n",
    ")\n",
    "print(expval.real)"
   ]
  },
  {
   "cell_type": "markdown",
   "id": "16dd493e",
   "metadata": {},
   "source": [
    "## ExpectationValue class"
   ]
  },
  {
   "cell_type": "code",
   "execution_count": 4,
   "id": "8d3036e8",
   "metadata": {},
   "outputs": [],
   "source": [
    "from qiskit.evaluators import PauliExpectationValue"
   ]
  },
  {
   "cell_type": "markdown",
   "id": "ee720e69",
   "metadata": {},
   "source": [
    "### PauliExpectationValue\n",
    "\n",
    "Evaluate the expectation value by sampling. This supports both AerSimulator and IBMQ backends."
   ]
  },
  {
   "cell_type": "code",
   "execution_count": 5,
   "id": "e60ada70",
   "metadata": {},
   "outputs": [],
   "source": [
    "from qiskit.providers.aer import AerSimulator\n",
    "backend = AerSimulator()"
   ]
  },
  {
   "cell_type": "code",
   "execution_count": 6,
   "id": "3989c189",
   "metadata": {},
   "outputs": [
    {
     "name": "stderr",
     "output_type": "stream",
     "text": [
      "no max_experiments for this backend: aer_simulator\n"
     ]
    },
    {
     "data": {
      "text/plain": [
       "ExpectationValueResult(value=1.872, variance=11.089767111111112, confidence_interval=[(1.7793853418573446, 1.9646146581426556)])"
      ]
     },
     "execution_count": 6,
     "metadata": {},
     "output_type": "execute_result"
    }
   ],
   "source": [
    "expval = PauliExpectationValue(ansatz, observable, backend=backend)\n",
    "expval.evaluate([0, 1, 1, 2, 3, 5], shots=3000)"
   ]
  },
  {
   "cell_type": "code",
   "execution_count": 7,
   "id": "5e244ee2",
   "metadata": {},
   "outputs": [
    {
     "name": "stderr",
     "output_type": "stream",
     "text": [
      "no max_experiments for this backend: aer_simulator\n"
     ]
    },
    {
     "data": {
      "text/plain": [
       "ExpectationValueResult(value=1.85546875, variance=11.089408874511719, confidence_interval=[(1.6973055017137109, 2.0136319982862894)])"
      ]
     },
     "execution_count": 7,
     "metadata": {},
     "output_type": "execute_result"
    }
   ],
   "source": [
    "# pre-binding\n",
    "\n",
    "circuit = ansatz.bind_parameters([0, 1, 1, 2, 3, 5])\n",
    "expval = PauliExpectationValue(circuit, observable, backend=backend)\n",
    "expval.evaluate()"
   ]
  },
  {
   "cell_type": "code",
   "execution_count": 8,
   "id": "39627b38-e650-4ba8-b295-a68563a33905",
   "metadata": {},
   "outputs": [
    {
     "name": "stderr",
     "output_type": "stream",
     "text": [
      "no max_experiments for this backend: aer_simulator\n"
     ]
    },
    {
     "data": {
      "text/plain": [
       "CompositeResult(items=[ExpectationValueResult(value=1.8233333333333335, variance=11.134490222222222, confidence_interval=[(1.7305018616536993, 1.9161648050129676)]), ExpectationValueResult(value=0.14133333333333353, variance=10.466404444444445, confidence_interval=[(0.04752071653852258, 0.2351459501281445)])])"
      ]
     },
     "execution_count": 8,
     "metadata": {},
     "output_type": "execute_result"
    }
   ],
   "source": [
    "# multi prameters\n",
    "\n",
    "expval = PauliExpectationValue(ansatz, observable, backend=backend)\n",
    "expval.evaluate([[0, 1, 1, 2, 3, 5], [1, 1, 2, 3, 5, 8]], shots=3000)"
   ]
  },
  {
   "cell_type": "markdown",
   "id": "78b2e0bf",
   "metadata": {},
   "source": [
    "### Exact simulation by SaveExpectationValueVariance"
   ]
  },
  {
   "cell_type": "code",
   "execution_count": 9,
   "id": "1f5dca21",
   "metadata": {},
   "outputs": [],
   "source": [
    "from qiskit.evaluators import ExactExpectationValue"
   ]
  },
  {
   "cell_type": "code",
   "execution_count": 10,
   "id": "3ed3d334",
   "metadata": {},
   "outputs": [
    {
     "name": "stdout",
     "output_type": "stream",
     "text": [
      "CPU times: user 6.93 ms, sys: 749 µs, total: 7.68 ms\n",
      "Wall time: 7.14 ms\n"
     ]
    },
    {
     "data": {
      "text/plain": [
       "ExpectationValueResult(value=1.8420921273153708, variance=6.432763522806668, confidence_interval=None)"
      ]
     },
     "execution_count": 10,
     "metadata": {},
     "output_type": "execute_result"
    }
   ],
   "source": [
    "expval = ExactExpectationValue(ansatz, observable, backend=backend)\n",
    "%time expval.evaluate([0, 1, 1, 2, 3, 5])"
   ]
  },
  {
   "cell_type": "code",
   "execution_count": 11,
   "id": "c7e99470",
   "metadata": {},
   "outputs": [
    {
     "name": "stdout",
     "output_type": "stream",
     "text": [
      "CPU times: user 2.44 ms, sys: 597 µs, total: 3.03 ms\n",
      "Wall time: 2.63 ms\n"
     ]
    },
    {
     "data": {
      "text/plain": [
       "ExpectationValueResult(value=0.15611896641425527, variance=5.356814314603938, confidence_interval=None)"
      ]
     },
     "execution_count": 11,
     "metadata": {},
     "output_type": "execute_result"
    }
   ],
   "source": [
    "%time expval.evaluate([1, 1, 2, 3, 5, 8])"
   ]
  },
  {
   "cell_type": "markdown",
   "id": "7ed181f7-7463-4432-b5f6-c40ddfe4330e",
   "metadata": {},
   "source": [
    "### Transpiled Circuits"
   ]
  },
  {
   "cell_type": "code",
   "execution_count": 12,
   "id": "5cb7102e-117f-42b9-b41f-c22f1f6ef179",
   "metadata": {},
   "outputs": [
    {
     "name": "stdout",
     "output_type": "stream",
     "text": [
      "global phase: π\n",
      "               ┌────┐┌──────────────┐┌────┐┌────────┐     ┌────┐»\n",
      "      q_0 -> 0 ┤ √X ├┤ Rz(θ[0] + π) ├┤ √X ├┤ Rz(3π) ├──■──┤ √X ├»\n",
      "               ├────┤├──────────────┤├────┤├────────┤┌─┴─┐├────┤»\n",
      "      q_1 -> 1 ┤ √X ├┤ Rz(θ[1] + π) ├┤ √X ├┤ Rz(3π) ├┤ X ├┤ √X ├»\n",
      "               └────┘└──────────────┘└────┘└────────┘└───┘└────┘»\n",
      "ancilla_0 -> 2 ─────────────────────────────────────────────────»\n",
      "                                                                »\n",
      "ancilla_1 -> 3 ─────────────────────────────────────────────────»\n",
      "                                                                »\n",
      "ancilla_2 -> 4 ─────────────────────────────────────────────────»\n",
      "                                                                »\n",
      "         c9: 2/═════════════════════════════════════════════════»\n",
      "                                                                »\n",
      "«               ┌──────────────┐┌────┐┌────────┐     ┌────┐┌──────────────┐»\n",
      "«      q_0 -> 0 ┤ Rz(θ[2] + π) ├┤ √X ├┤ Rz(3π) ├──■──┤ √X ├┤ Rz(θ[4] + π) ├»\n",
      "«               ├──────────────┤├────┤├────────┤┌─┴─┐├────┤├──────────────┤»\n",
      "«      q_1 -> 1 ┤ Rz(θ[3] + π) ├┤ √X ├┤ Rz(3π) ├┤ X ├┤ √X ├┤ Rz(θ[5] + π) ├»\n",
      "«               └──────────────┘└────┘└────────┘└───┘└────┘└──────────────┘»\n",
      "«ancilla_0 -> 2 ───────────────────────────────────────────────────────────»\n",
      "«                                                                          »\n",
      "«ancilla_1 -> 3 ───────────────────────────────────────────────────────────»\n",
      "«                                                                          »\n",
      "«ancilla_2 -> 4 ───────────────────────────────────────────────────────────»\n",
      "«                                                                          »\n",
      "«         c9: 2/═══════════════════════════════════════════════════════════»\n",
      "«                                                                          »\n",
      "«               ┌────┐┌────────┐┌───┐┌─┐   \n",
      "«      q_0 -> 0 ┤ √X ├┤ Rz(3π) ├┤ H ├┤M├───\n",
      "«               ├────┤├────────┤├───┤└╥┘┌─┐\n",
      "«      q_1 -> 1 ┤ √X ├┤ Rz(3π) ├┤ H ├─╫─┤M├\n",
      "«               └────┘└────────┘└───┘ ║ └╥┘\n",
      "«ancilla_0 -> 2 ──────────────────────╫──╫─\n",
      "«                                     ║  ║ \n",
      "«ancilla_1 -> 3 ──────────────────────╫──╫─\n",
      "«                                     ║  ║ \n",
      "«ancilla_2 -> 4 ──────────────────────╫──╫─\n",
      "«                                     ║  ║ \n",
      "«         c9: 2/══════════════════════╩══╩═\n",
      "«                                     0  1 \n",
      "{'basis': 'XX', 'coeff': 1.0}\n",
      "\n",
      "global phase: π\n",
      "               ┌────┐┌──────────────┐┌────┐┌────────┐     ┌────┐»\n",
      "      q_0 -> 0 ┤ √X ├┤ Rz(θ[0] + π) ├┤ √X ├┤ Rz(3π) ├──■──┤ √X ├»\n",
      "               ├────┤├──────────────┤├────┤├────────┤┌─┴─┐├────┤»\n",
      "      q_1 -> 1 ┤ √X ├┤ Rz(θ[1] + π) ├┤ √X ├┤ Rz(3π) ├┤ X ├┤ √X ├»\n",
      "               └────┘└──────────────┘└────┘└────────┘└───┘└────┘»\n",
      "ancilla_0 -> 2 ─────────────────────────────────────────────────»\n",
      "                                                                »\n",
      "ancilla_1 -> 3 ─────────────────────────────────────────────────»\n",
      "                                                                »\n",
      "ancilla_2 -> 4 ─────────────────────────────────────────────────»\n",
      "                                                                »\n",
      "        c10: 2/═════════════════════════════════════════════════»\n",
      "                                                                »\n",
      "«               ┌──────────────┐┌────┐┌────────┐     ┌────┐┌──────────────┐»\n",
      "«      q_0 -> 0 ┤ Rz(θ[2] + π) ├┤ √X ├┤ Rz(3π) ├──■──┤ √X ├┤ Rz(θ[4] + π) ├»\n",
      "«               ├──────────────┤├────┤├────────┤┌─┴─┐├────┤├──────────────┤»\n",
      "«      q_1 -> 1 ┤ Rz(θ[3] + π) ├┤ √X ├┤ Rz(3π) ├┤ X ├┤ √X ├┤ Rz(θ[5] + π) ├»\n",
      "«               └──────────────┘└────┘└────────┘└───┘└────┘└──────────────┘»\n",
      "«ancilla_0 -> 2 ───────────────────────────────────────────────────────────»\n",
      "«                                                                          »\n",
      "«ancilla_1 -> 3 ───────────────────────────────────────────────────────────»\n",
      "«                                                                          »\n",
      "«ancilla_2 -> 4 ───────────────────────────────────────────────────────────»\n",
      "«                                                                          »\n",
      "«        c10: 2/═══════════════════════════════════════════════════════════»\n",
      "«                                                                          »\n",
      "«               ┌────┐┌────────┐┌─────┐┌───┐┌─┐   \n",
      "«      q_0 -> 0 ┤ √X ├┤ Rz(3π) ├┤ Sdg ├┤ H ├┤M├───\n",
      "«               ├────┤├────────┤├─────┤├───┤└╥┘┌─┐\n",
      "«      q_1 -> 1 ┤ √X ├┤ Rz(3π) ├┤ Sdg ├┤ H ├─╫─┤M├\n",
      "«               └────┘└────────┘└─────┘└───┘ ║ └╥┘\n",
      "«ancilla_0 -> 2 ─────────────────────────────╫──╫─\n",
      "«                                            ║  ║ \n",
      "«ancilla_1 -> 3 ─────────────────────────────╫──╫─\n",
      "«                                            ║  ║ \n",
      "«ancilla_2 -> 4 ─────────────────────────────╫──╫─\n",
      "«                                            ║  ║ \n",
      "«        c10: 2/═════════════════════════════╩══╩═\n",
      "«                                            0  1 \n",
      "{'basis': 'YY', 'coeff': 2.0}\n",
      "\n",
      "global phase: π\n",
      "               ┌────┐┌──────────────┐┌────┐┌────────┐     ┌────┐»\n",
      "      q_0 -> 0 ┤ √X ├┤ Rz(θ[0] + π) ├┤ √X ├┤ Rz(3π) ├──■──┤ √X ├»\n",
      "               ├────┤├──────────────┤├────┤├────────┤┌─┴─┐├────┤»\n",
      "      q_1 -> 1 ┤ √X ├┤ Rz(θ[1] + π) ├┤ √X ├┤ Rz(3π) ├┤ X ├┤ √X ├»\n",
      "               └────┘└──────────────┘└────┘└────────┘└───┘└────┘»\n",
      "ancilla_0 -> 2 ─────────────────────────────────────────────────»\n",
      "                                                                »\n",
      "ancilla_1 -> 3 ─────────────────────────────────────────────────»\n",
      "                                                                »\n",
      "ancilla_2 -> 4 ─────────────────────────────────────────────────»\n",
      "                                                                »\n",
      "        c11: 2/═════════════════════════════════════════════════»\n",
      "                                                                »\n",
      "«               ┌──────────────┐┌────┐┌────────┐     ┌────┐┌──────────────┐»\n",
      "«      q_0 -> 0 ┤ Rz(θ[2] + π) ├┤ √X ├┤ Rz(3π) ├──■──┤ √X ├┤ Rz(θ[4] + π) ├»\n",
      "«               ├──────────────┤├────┤├────────┤┌─┴─┐├────┤├──────────────┤»\n",
      "«      q_1 -> 1 ┤ Rz(θ[3] + π) ├┤ √X ├┤ Rz(3π) ├┤ X ├┤ √X ├┤ Rz(θ[5] + π) ├»\n",
      "«               └──────────────┘└────┘└────────┘└───┘└────┘└──────────────┘»\n",
      "«ancilla_0 -> 2 ───────────────────────────────────────────────────────────»\n",
      "«                                                                          »\n",
      "«ancilla_1 -> 3 ───────────────────────────────────────────────────────────»\n",
      "«                                                                          »\n",
      "«ancilla_2 -> 4 ───────────────────────────────────────────────────────────»\n",
      "«                                                                          »\n",
      "«        c11: 2/═══════════════════════════════════════════════════════════»\n",
      "«                                                                          »\n",
      "«               ┌────┐┌────────┐┌─┐   \n",
      "«      q_0 -> 0 ┤ √X ├┤ Rz(3π) ├┤M├───\n",
      "«               ├────┤├────────┤└╥┘┌─┐\n",
      "«      q_1 -> 1 ┤ √X ├┤ Rz(3π) ├─╫─┤M├\n",
      "«               └────┘└────────┘ ║ └╥┘\n",
      "«ancilla_0 -> 2 ─────────────────╫──╫─\n",
      "«                                ║  ║ \n",
      "«ancilla_1 -> 3 ─────────────────╫──╫─\n",
      "«                                ║  ║ \n",
      "«ancilla_2 -> 4 ─────────────────╫──╫─\n",
      "«                                ║  ║ \n",
      "«        c11: 2/═════════════════╩══╩═\n",
      "«                                0  1 \n",
      "{'basis': 'ZZ', 'coeff': 3.0}\n",
      "\n",
      "ExpectationValueResult(value=1.60546875, variance=11.905769348144531, confidence_interval=[(1.436997450051616, 1.773940049948384)])\n"
     ]
    }
   ],
   "source": [
    "from qiskit.test.mock import FakeBogota\n",
    "\n",
    "backend = AerSimulator.from_backend(FakeBogota())\n",
    "\n",
    "expval = PauliExpectationValue(ansatz, observable, backend=backend)\n",
    "# expval.set_transpile_options(initial_layout=[1, 2])\n",
    "for circ in expval.transpiled_circuits:\n",
    "    print(circ)\n",
    "    print(circ.metadata)\n",
    "    print()\n",
    "print(expval.evaluate([0, 1, 1, 2, 3, 5]))"
   ]
  },
  {
   "cell_type": "markdown",
   "id": "a262bc31",
   "metadata": {},
   "source": [
    "### Transpile options and Run options"
   ]
  },
  {
   "cell_type": "code",
   "execution_count": 13,
   "id": "40ffcc90",
   "metadata": {},
   "outputs": [
    {
     "data": {
      "text/plain": [
       "ExpectationValueResult(value=1.5202442124039985, variance=12.0102925618336, confidence_interval=[(1.5148204914048522, 1.5256679334031449)])"
      ]
     },
     "execution_count": 13,
     "metadata": {},
     "output_type": "execute_result"
    }
   ],
   "source": [
    "expval = PauliExpectationValue(ansatz, observable, backend=backend)\n",
    "# setter\n",
    "expval.set_transpile_options(optimization_level=2)\n",
    "expval.set_run_options(shots=1_000_000)\n",
    "expval.evaluate([0, 1, 1, 2, 3, 5])"
   ]
  },
  {
   "cell_type": "code",
   "execution_count": 14,
   "id": "3d56d394",
   "metadata": {},
   "outputs": [
    {
     "data": {
      "text/plain": [
       "ExpectationValueResult(value=1.564697265625, variance=11.957832276821136, confidence_interval=[(1.504947057782532, 1.624447473467468)])"
      ]
     },
     "execution_count": 14,
     "metadata": {},
     "output_type": "execute_result"
    }
   ],
   "source": [
    "# Method chain\n",
    "expval.set_run_options(shots=8192).evaluate([0, 1, 1, 2, 3, 5])"
   ]
  },
  {
   "cell_type": "code",
   "execution_count": 15,
   "id": "075c0124",
   "metadata": {},
   "outputs": [
    {
     "data": {
      "text/plain": [
       "ExpectationValueResult(value=1.7, variance=11.834800000000001, confidence_interval=[(1.3898410777894128, 2.010158922210587)])"
      ]
     },
     "execution_count": 15,
     "metadata": {},
     "output_type": "execute_result"
    }
   ],
   "source": [
    "# evaluate's option\n",
    "expval.evaluate([0, 1, 1, 2, 3, 5], shots=300)"
   ]
  },
  {
   "cell_type": "markdown",
   "id": "59e716ee-e63d-4437-8287-3709d18c2e29",
   "metadata": {},
   "source": [
    "### Composite Evaluator"
   ]
  },
  {
   "cell_type": "code",
   "execution_count": 16,
   "id": "d73181d0-fe07-44d5-9045-0736f6a3f1d5",
   "metadata": {},
   "outputs": [],
   "source": [
    "from qiskit.evaluators import JointEvaluator"
   ]
  },
  {
   "cell_type": "code",
   "execution_count": 17,
   "id": "2e4ed8f5-6992-4abe-92d7-84ec94494fff",
   "metadata": {},
   "outputs": [
    {
     "data": {
      "text/plain": [
       "3"
      ]
     },
     "execution_count": 17,
     "metadata": {},
     "output_type": "execute_result"
    }
   ],
   "source": [
    "len(expval.transpiled_circuits)"
   ]
  },
  {
   "cell_type": "code",
   "execution_count": 18,
   "id": "48ad721a-2a0f-4a60-8e8c-bb19eb60d9a1",
   "metadata": {},
   "outputs": [],
   "source": [
    "joint_evaluator = JointEvaluator([expval, expval, expval])"
   ]
  },
  {
   "cell_type": "code",
   "execution_count": 19,
   "id": "a45de43c-0062-4310-b31c-50e23fcfb263",
   "metadata": {},
   "outputs": [
    {
     "data": {
      "text/plain": [
       "9"
      ]
     },
     "execution_count": 19,
     "metadata": {},
     "output_type": "execute_result"
    }
   ],
   "source": [
    "len(joint_evaluator.transpiled_circuits) # 3 × 3"
   ]
  },
  {
   "cell_type": "code",
   "execution_count": 20,
   "id": "b239bc6d-28b7-425d-b088-57bf74ed9802",
   "metadata": {},
   "outputs": [
    {
     "data": {
      "text/plain": [
       "CompositeResult(items=[ExpectationValueResult(value=1.49609375, variance=12.035192966461182, confidence_interval=[(1.4360796528496154, 1.5561078471503846)]), ExpectationValueResult(value=1.57958984375, variance=11.982572674751282, confidence_interval=[(1.5197124510748754, 1.6394672364251246)]), ExpectationValueResult(value=1.530029296875, variance=11.991350591182709, confidence_interval=[(1.4701739004807295, 1.5898846932692705)])])"
      ]
     },
     "execution_count": 20,
     "metadata": {},
     "output_type": "execute_result"
    }
   ],
   "source": [
    "joint_evaluator.evaluate([0, 1, 1, 2, 3, 5])"
   ]
  },
  {
   "cell_type": "code",
   "execution_count": 21,
   "id": "d1822194-5230-4725-8695-d1f182643313",
   "metadata": {},
   "outputs": [
    {
     "data": {
      "text/plain": [
       "CompositeResult(items=[ExpectationValueResult(value=1.498779296875, variance=12.051943480968475, confidence_interval=[(1.438702943477702, 1.558855650272298)]), ExpectationValueResult(value=0.180908203125, variance=11.619910180568695, confidence_interval=[(0.12106406448502109, 0.2407523417649789)]), ExpectationValueResult(value=0.962890625, variance=12.399816393852234, confidence_interval=[(0.9015053379061587, 1.0242759120938414)])])"
      ]
     },
     "execution_count": 21,
     "metadata": {},
     "output_type": "execute_result"
    }
   ],
   "source": [
    "joint_evaluator.evaluate([[0, 1, 1, 2, 3, 5], [1, 1, 2, 3, 5, 8], [1, 2, 3, 5, 8, 13]])"
   ]
  },
  {
   "cell_type": "markdown",
   "id": "0efdd073",
   "metadata": {},
   "source": [
    "### Mitigator"
   ]
  },
  {
   "cell_type": "code",
   "execution_count": 22,
   "id": "49b6629b",
   "metadata": {},
   "outputs": [
    {
     "name": "stdout",
     "output_type": "stream",
     "text": [
      "w/o mitigation shots=2000, result=ExpectationValueResult(value=1.5090000000000001, variance=11.951699, confidence_interval=[(1.3882004653590592, 1.629799534640941)])\n",
      "w/  mitigation shots=2000, result=ExpectationValueResult(value=1.6670654250242893, variance=11.527989265818757, confidence_interval=[(1.5497912112226877, 1.784339638825891)])\n"
     ]
    }
   ],
   "source": [
    "from qiskit.evaluators.backends import ReadoutErrorMitigation\n",
    "\n",
    "backend = AerSimulator.from_backend(FakeBogota())\n",
    "mit = ReadoutErrorMitigation(backend, mitigation=\"tensored\", refresh=1, shots=2000, mit_pattern=[[0], [1]])\n",
    "expval_raw = PauliExpectationValue(ansatz, observable, backend=backend)\n",
    "expval_mit = PauliExpectationValue(ansatz, observable, backend=mit)\n",
    "shots = 2000\n",
    "print(f\"w/o mitigation shots={shots}, result={expval_raw.evaluate([0, 1, 1, 2, 3, 5], shots=shots)}\")\n",
    "print(f\"w/  mitigation shots={shots}, result={expval_mit.evaluate([0, 1, 1, 2, 3, 5], shots=shots)}\")"
   ]
  },
  {
   "cell_type": "code",
   "execution_count": null,
   "id": "fd4ce213",
   "metadata": {},
   "outputs": [],
   "source": []
  }
 ],
 "metadata": {
  "interpreter": {
   "hash": "55198b233f406dc59b712acd847cdd7a571fa057c585d106ba05aad0d31ffb93"
  },
  "kernelspec": {
   "display_name": "Terra",
   "language": "python",
   "name": "terra"
  },
  "language_info": {
   "codemirror_mode": {
    "name": "ipython",
    "version": 3
   },
   "file_extension": ".py",
   "mimetype": "text/x-python",
   "name": "python",
   "nbconvert_exporter": "python",
   "pygments_lexer": "ipython3",
   "version": "3.9.4"
  }
 },
 "nbformat": 4,
 "nbformat_minor": 5
}
