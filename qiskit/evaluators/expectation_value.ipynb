{
 "cells": [
  {
   "cell_type": "code",
   "execution_count": 1,
   "source": [
    "%load_ext autoreload\n",
    "%autoreload 2"
   ],
   "outputs": [],
   "metadata": {
    "tags": []
   }
  },
  {
   "cell_type": "markdown",
   "source": [
    "# ExpectationValue"
   ],
   "metadata": {}
  },
  {
   "cell_type": "code",
   "execution_count": 2,
   "source": [
    "from qiskit.circuit.library import RealAmplitudes\n",
    "from qiskit.opflow import PauliSumOp\n",
    "\n",
    "observable = PauliSumOp.from_list([(\"XX\", 1), (\"YY\", 2), (\"ZZ\", 3)])\n",
    "print(\"observable\\n\", observable)\n",
    "\n",
    "ansatz = RealAmplitudes(num_qubits=2, reps=2)\n",
    "print(\"ansatz\\n\", ansatz)"
   ],
   "outputs": [
    {
     "output_type": "stream",
     "name": "stdout",
     "text": [
      "observable\n",
      " 1.0 * XX\n",
      "+ 2.0 * YY\n",
      "+ 3.0 * ZZ\n",
      "ansatz\n",
      "      ┌──────────┐     ┌──────────┐     ┌──────────┐\n",
      "q_0: ┤ Ry(θ[0]) ├──■──┤ Ry(θ[2]) ├──■──┤ Ry(θ[4]) ├\n",
      "     ├──────────┤┌─┴─┐├──────────┤┌─┴─┐├──────────┤\n",
      "q_1: ┤ Ry(θ[1]) ├┤ X ├┤ Ry(θ[3]) ├┤ X ├┤ Ry(θ[5]) ├\n",
      "     └──────────┘└───┘└──────────┘└───┘└──────────┘\n"
     ]
    }
   ],
   "metadata": {}
  },
  {
   "cell_type": "code",
   "execution_count": 3,
   "source": [
    "from qiskit.quantum_info import Statevector\n",
    "\n",
    "expval = Statevector(ansatz.bind_parameters([0, 1, 1, 2, 3, 5])).expectation_value(\n",
    "    observable.primitive\n",
    ")\n",
    "print(expval.real)"
   ],
   "outputs": [
    {
     "output_type": "stream",
     "name": "stdout",
     "text": [
      "1.8420921273153719\n"
     ]
    }
   ],
   "metadata": {}
  },
  {
   "cell_type": "markdown",
   "source": [
    "## ExpectationValue class"
   ],
   "metadata": {}
  },
  {
   "cell_type": "code",
   "execution_count": 4,
   "source": [
    "from qiskit.evaluators import PauliExpectationValue"
   ],
   "outputs": [],
   "metadata": {}
  },
  {
   "cell_type": "markdown",
   "source": [
    "### PauliExpectationValue\n",
    "\n",
    "Evaluate the expectation value by sampling. This supports both AerSimulator and IBMQ backends."
   ],
   "metadata": {}
  },
  {
   "cell_type": "code",
   "execution_count": 5,
   "source": [
    "from qiskit.providers.aer import AerSimulator"
   ],
   "outputs": [],
   "metadata": {}
  },
  {
   "cell_type": "code",
   "execution_count": 6,
   "source": [
    "backend = AerSimulator()\n",
    "\n",
    "expval = PauliExpectationValue(ansatz, observable, backend=backend)\n",
    "\n",
    "expval.evaluate([0, 1, 1, 2, 3, 5], shots=3000)"
   ],
   "outputs": [
    {
     "output_type": "stream",
     "name": "stderr",
     "text": [
      "no max_experiments for this backend: aer_simulator\n"
     ]
    },
    {
     "output_type": "execute_result",
     "data": {
      "text/plain": [
       "ExpectationValueResult(value=array(1.81466667+0.j), variance=array(11.13181689+0.j), confidence_interval=[((1.7218892642251156+0j), (1.9074440691082177+0j))])"
      ]
     },
     "metadata": {},
     "execution_count": 6
    }
   ],
   "metadata": {}
  },
  {
   "cell_type": "code",
   "execution_count": 7,
   "source": [
    "# no parameter case\n",
    "\n",
    "circuit = ansatz.bind_parameters([0, 1, 1, 2, 3, 5])\n",
    "expval = PauliExpectationValue(circuit, observable, backend=backend)\n",
    "expval.evaluate()"
   ],
   "outputs": [
    {
     "output_type": "stream",
     "name": "stderr",
     "text": [
      "no max_experiments for this backend: aer_simulator\n"
     ]
    },
    {
     "output_type": "execute_result",
     "data": {
      "text/plain": [
       "ExpectationValueResult(value=array(1.796875+0.j), variance=array(11.24065399+0.j), confidence_interval=[((1.6360011012920497+0j), (1.9577488987079503+0j))])"
      ]
     },
     "metadata": {},
     "execution_count": 7
    }
   ],
   "metadata": {}
  },
  {
   "cell_type": "markdown",
   "source": [
    "### Exact simulation by SaveExpectationValueVariance"
   ],
   "metadata": {}
  },
  {
   "cell_type": "code",
   "execution_count": 8,
   "source": [
    "from qiskit.evaluators import ExactExpectationValue"
   ],
   "outputs": [],
   "metadata": {}
  },
  {
   "cell_type": "code",
   "execution_count": 9,
   "source": [
    "expval = ExactExpectationValue(ansatz, observable, backend=backend)\n",
    "%time expval.evaluate([0, 1, 1, 2, 3, 5])"
   ],
   "outputs": [
    {
     "output_type": "stream",
     "name": "stdout",
     "text": [
      "CPU times: user 42 ms, sys: 9.91 ms, total: 51.9 ms\n",
      "Wall time: 6.58 ms\n"
     ]
    },
    {
     "output_type": "execute_result",
     "data": {
      "text/plain": [
       "ExpectationValueResult(value=array(1.84209213), variance=array(6.43276352), confidence_interval=None)"
      ]
     },
     "metadata": {},
     "execution_count": 9
    }
   ],
   "metadata": {}
  },
  {
   "cell_type": "code",
   "execution_count": 10,
   "source": [
    "%time expval.evaluate([1, 1, 2, 3, 5, 8])"
   ],
   "outputs": [
    {
     "output_type": "stream",
     "name": "stdout",
     "text": [
      "CPU times: user 2.09 ms, sys: 1.24 ms, total: 3.32 ms\n",
      "Wall time: 2.54 ms\n"
     ]
    },
    {
     "output_type": "execute_result",
     "data": {
      "text/plain": [
       "ExpectationValueResult(value=array(0.15611897), variance=array(5.35681431), confidence_interval=None)"
      ]
     },
     "metadata": {},
     "execution_count": 10
    }
   ],
   "metadata": {}
  },
  {
   "cell_type": "markdown",
   "source": [
    "### Transpile options and Run options"
   ],
   "metadata": {}
  },
  {
   "cell_type": "code",
   "execution_count": 11,
   "source": [
    "expval = PauliExpectationValue(ansatz, observable, backend=backend)\n",
    "# setter\n",
    "expval.set_transpile_options(optimization_level=2)\n",
    "expval.set_run_options(shots=1_000_000)\n",
    "expval.evaluate([0, 1, 1, 2, 3, 5])"
   ],
   "outputs": [
    {
     "output_type": "stream",
     "name": "stderr",
     "text": [
      "no max_experiments for this backend: aer_simulator\n"
     ]
    },
    {
     "output_type": "execute_result",
     "data": {
      "text/plain": [
       "ExpectationValueResult(value=array(1.842808+0.j), variance=array(11.13573117+0.j), confidence_interval=[((1.8377203333117815+0j), (1.847895666688219+0j))])"
      ]
     },
     "metadata": {},
     "execution_count": 11
    }
   ],
   "metadata": {}
  },
  {
   "cell_type": "code",
   "execution_count": 12,
   "source": [
    "# Method chain\n",
    "expval.set_run_options(shots=8192).evaluate([0, 1, 1, 2, 3, 5])"
   ],
   "outputs": [
    {
     "output_type": "execute_result",
     "data": {
      "text/plain": [
       "ExpectationValueResult(value=array(1.84594727+0.j), variance=array(11.0951001+0.j), confidence_interval=[((1.7899597994185126+0j), (1.9019347318314874+0j))])"
      ]
     },
     "metadata": {},
     "execution_count": 12
    }
   ],
   "metadata": {}
  },
  {
   "cell_type": "code",
   "execution_count": 13,
   "source": [
    "# evaluate's option\n",
    "expval.evaluate([0, 1, 1, 2, 3, 5], shots=300)"
   ],
   "outputs": [
    {
     "output_type": "execute_result",
     "data": {
      "text/plain": [
       "ExpectationValueResult(value=array(1.9+0.j), variance=array(11.04884444+0.j), confidence_interval=[((1.6085270551649122+0j), (2.191472944835088+0j))])"
      ]
     },
     "metadata": {},
     "execution_count": 13
    }
   ],
   "metadata": {}
  },
  {
   "cell_type": "code",
   "execution_count": null,
   "source": [],
   "outputs": [],
   "metadata": {}
  },
  {
   "cell_type": "code",
   "execution_count": 14,
   "source": [
    "from qiskit.test.mock import FakeBogota\n",
    "\n",
    "backend = AerSimulator.from_backend(FakeBogota())\n",
    "\n",
    "expval = PauliExpectationValue(ansatz, observable, backend=backend)\n",
    "# expval.set_transpile_options(initial_layout=[1, 2])\n",
    "for circ in expval.transpiled_circuits:\n",
    "    print(circ)\n",
    "    print(circ.metadata)\n",
    "expval.evaluate([0, 1, 1, 2, 3, 5])"
   ],
   "outputs": [
    {
     "output_type": "stream",
     "name": "stdout",
     "text": [
      "global phase: π\n",
      "               ┌────┐┌──────────────┐┌────┐┌────────┐     ┌────┐»\n",
      "      q_0 -> 0 ┤ √X ├┤ Rz(θ[0] + π) ├┤ √X ├┤ Rz(3π) ├──■──┤ √X ├»\n",
      "               ├────┤├──────────────┤├────┤├────────┤┌─┴─┐├────┤»\n",
      "      q_1 -> 1 ┤ √X ├┤ Rz(θ[1] + π) ├┤ √X ├┤ Rz(3π) ├┤ X ├┤ √X ├»\n",
      "               └────┘└──────────────┘└────┘└────────┘└───┘└────┘»\n",
      "ancilla_0 -> 2 ─────────────────────────────────────────────────»\n",
      "                                                                »\n",
      "ancilla_1 -> 3 ─────────────────────────────────────────────────»\n",
      "                                                                »\n",
      "ancilla_2 -> 4 ─────────────────────────────────────────────────»\n",
      "                                                                »\n",
      "         c9: 2/═════════════════════════════════════════════════»\n",
      "                                                                »\n",
      "«               ┌──────────────┐┌────┐┌────────┐     ┌────┐┌──────────────┐»\n",
      "«      q_0 -> 0 ┤ Rz(θ[2] + π) ├┤ √X ├┤ Rz(3π) ├──■──┤ √X ├┤ Rz(θ[4] + π) ├»\n",
      "«               ├──────────────┤├────┤├────────┤┌─┴─┐├────┤├──────────────┤»\n",
      "«      q_1 -> 1 ┤ Rz(θ[3] + π) ├┤ √X ├┤ Rz(3π) ├┤ X ├┤ √X ├┤ Rz(θ[5] + π) ├»\n",
      "«               └──────────────┘└────┘└────────┘└───┘└────┘└──────────────┘»\n",
      "«ancilla_0 -> 2 ───────────────────────────────────────────────────────────»\n",
      "«                                                                          »\n",
      "«ancilla_1 -> 3 ───────────────────────────────────────────────────────────»\n",
      "«                                                                          »\n",
      "«ancilla_2 -> 4 ───────────────────────────────────────────────────────────»\n",
      "«                                                                          »\n",
      "«         c9: 2/═══════════════════════════════════════════════════════════»\n",
      "«                                                                          »\n",
      "«               ┌────┐┌────────┐┌───┐┌─┐   \n",
      "«      q_0 -> 0 ┤ √X ├┤ Rz(3π) ├┤ H ├┤M├───\n",
      "«               ├────┤├────────┤├───┤└╥┘┌─┐\n",
      "«      q_1 -> 1 ┤ √X ├┤ Rz(3π) ├┤ H ├─╫─┤M├\n",
      "«               └────┘└────────┘└───┘ ║ └╥┘\n",
      "«ancilla_0 -> 2 ──────────────────────╫──╫─\n",
      "«                                     ║  ║ \n",
      "«ancilla_1 -> 3 ──────────────────────╫──╫─\n",
      "«                                     ║  ║ \n",
      "«ancilla_2 -> 4 ──────────────────────╫──╫─\n",
      "«                                     ║  ║ \n",
      "«         c9: 2/══════════════════════╩══╩═\n",
      "«                                     0  1 \n",
      "{'basis': 'XX', 'coeff': (1+0j)}\n",
      "global phase: π\n",
      "               ┌────┐┌──────────────┐┌────┐┌────────┐     ┌────┐»\n",
      "      q_0 -> 0 ┤ √X ├┤ Rz(θ[0] + π) ├┤ √X ├┤ Rz(3π) ├──■──┤ √X ├»\n",
      "               ├────┤├──────────────┤├────┤├────────┤┌─┴─┐├────┤»\n",
      "      q_1 -> 1 ┤ √X ├┤ Rz(θ[1] + π) ├┤ √X ├┤ Rz(3π) ├┤ X ├┤ √X ├»\n",
      "               └────┘└──────────────┘└────┘└────────┘└───┘└────┘»\n",
      "ancilla_0 -> 2 ─────────────────────────────────────────────────»\n",
      "                                                                »\n",
      "ancilla_1 -> 3 ─────────────────────────────────────────────────»\n",
      "                                                                »\n",
      "ancilla_2 -> 4 ─────────────────────────────────────────────────»\n",
      "                                                                »\n",
      "        c10: 2/═════════════════════════════════════════════════»\n",
      "                                                                »\n",
      "«               ┌──────────────┐┌────┐┌────────┐     ┌────┐┌──────────────┐»\n",
      "«      q_0 -> 0 ┤ Rz(θ[2] + π) ├┤ √X ├┤ Rz(3π) ├──■──┤ √X ├┤ Rz(θ[4] + π) ├»\n",
      "«               ├──────────────┤├────┤├────────┤┌─┴─┐├────┤├──────────────┤»\n",
      "«      q_1 -> 1 ┤ Rz(θ[3] + π) ├┤ √X ├┤ Rz(3π) ├┤ X ├┤ √X ├┤ Rz(θ[5] + π) ├»\n",
      "«               └──────────────┘└────┘└────────┘└───┘└────┘└──────────────┘»\n",
      "«ancilla_0 -> 2 ───────────────────────────────────────────────────────────»\n",
      "«                                                                          »\n",
      "«ancilla_1 -> 3 ───────────────────────────────────────────────────────────»\n",
      "«                                                                          »\n",
      "«ancilla_2 -> 4 ───────────────────────────────────────────────────────────»\n",
      "«                                                                          »\n",
      "«        c10: 2/═══════════════════════════════════════════════════════════»\n",
      "«                                                                          »\n",
      "«               ┌────┐┌────────┐┌─────┐┌───┐┌─┐   \n",
      "«      q_0 -> 0 ┤ √X ├┤ Rz(3π) ├┤ Sdg ├┤ H ├┤M├───\n",
      "«               ├────┤├────────┤├─────┤├───┤└╥┘┌─┐\n",
      "«      q_1 -> 1 ┤ √X ├┤ Rz(3π) ├┤ Sdg ├┤ H ├─╫─┤M├\n",
      "«               └────┘└────────┘└─────┘└───┘ ║ └╥┘\n",
      "«ancilla_0 -> 2 ─────────────────────────────╫──╫─\n",
      "«                                            ║  ║ \n",
      "«ancilla_1 -> 3 ─────────────────────────────╫──╫─\n",
      "«                                            ║  ║ \n",
      "«ancilla_2 -> 4 ─────────────────────────────╫──╫─\n",
      "«                                            ║  ║ \n",
      "«        c10: 2/═════════════════════════════╩══╩═\n",
      "«                                            0  1 \n",
      "{'basis': 'YY', 'coeff': (2+0j)}\n",
      "global phase: π\n",
      "               ┌────┐┌──────────────┐┌────┐┌────────┐     ┌────┐»\n",
      "      q_0 -> 0 ┤ √X ├┤ Rz(θ[0] + π) ├┤ √X ├┤ Rz(3π) ├──■──┤ √X ├»\n",
      "               ├────┤├──────────────┤├────┤├────────┤┌─┴─┐├────┤»\n",
      "      q_1 -> 1 ┤ √X ├┤ Rz(θ[1] + π) ├┤ √X ├┤ Rz(3π) ├┤ X ├┤ √X ├»\n",
      "               └────┘└──────────────┘└────┘└────────┘└───┘└────┘»\n",
      "ancilla_0 -> 2 ─────────────────────────────────────────────────»\n",
      "                                                                »\n",
      "ancilla_1 -> 3 ─────────────────────────────────────────────────»\n",
      "                                                                »\n",
      "ancilla_2 -> 4 ─────────────────────────────────────────────────»\n",
      "                                                                »\n",
      "        c11: 2/═════════════════════════════════════════════════»\n",
      "                                                                »\n",
      "«               ┌──────────────┐┌────┐┌────────┐     ┌────┐┌──────────────┐»\n",
      "«      q_0 -> 0 ┤ Rz(θ[2] + π) ├┤ √X ├┤ Rz(3π) ├──■──┤ √X ├┤ Rz(θ[4] + π) ├»\n",
      "«               ├──────────────┤├────┤├────────┤┌─┴─┐├────┤├──────────────┤»\n",
      "«      q_1 -> 1 ┤ Rz(θ[3] + π) ├┤ √X ├┤ Rz(3π) ├┤ X ├┤ √X ├┤ Rz(θ[5] + π) ├»\n",
      "«               └──────────────┘└────┘└────────┘└───┘└────┘└──────────────┘»\n",
      "«ancilla_0 -> 2 ───────────────────────────────────────────────────────────»\n",
      "«                                                                          »\n",
      "«ancilla_1 -> 3 ───────────────────────────────────────────────────────────»\n",
      "«                                                                          »\n",
      "«ancilla_2 -> 4 ───────────────────────────────────────────────────────────»\n",
      "«                                                                          »\n",
      "«        c11: 2/═══════════════════════════════════════════════════════════»\n",
      "«                                                                          »\n",
      "«               ┌────┐┌────────┐┌─┐   \n",
      "«      q_0 -> 0 ┤ √X ├┤ Rz(3π) ├┤M├───\n",
      "«               ├────┤├────────┤└╥┘┌─┐\n",
      "«      q_1 -> 1 ┤ √X ├┤ Rz(3π) ├─╫─┤M├\n",
      "«               └────┘└────────┘ ║ └╥┘\n",
      "«ancilla_0 -> 2 ─────────────────╫──╫─\n",
      "«                                ║  ║ \n",
      "«ancilla_1 -> 3 ─────────────────╫──╫─\n",
      "«                                ║  ║ \n",
      "«ancilla_2 -> 4 ─────────────────╫──╫─\n",
      "«                                ║  ║ \n",
      "«        c11: 2/═════════════════╩══╩═\n",
      "«                                0  1 \n",
      "{'basis': 'ZZ', 'coeff': (3+0j)}\n"
     ]
    },
    {
     "output_type": "execute_result",
     "data": {
      "text/plain": [
       "ExpectationValueResult(value=array(1.55395508+0.j), variance=array(11.98341149+0.j), confidence_interval=[((1.4941127030665997+0j), (1.6137974531834003+0j))])"
      ]
     },
     "metadata": {},
     "execution_count": 14
    }
   ],
   "metadata": {}
  },
  {
   "cell_type": "markdown",
   "source": [
    "### Mitigator"
   ],
   "metadata": {}
  },
  {
   "cell_type": "code",
   "execution_count": 15,
   "source": [
    "from qiskit.evaluators.backends import ReadoutErrorMitigation\n",
    "\n",
    "backend = AerSimulator.from_backend(FakeBogota())\n",
    "mit = ReadoutErrorMitigation(backend, mitigation=\"tensored\", refresh=1, shots=2000, mit_pattern=[[0], [1]])\n",
    "expval_raw = PauliExpectationValue(ansatz, observable, backend=backend)\n",
    "expval_mit = PauliExpectationValue(ansatz, observable, backend=mit)\n",
    "shots = 2000\n",
    "print(f\"w/o mitigation shots={shots}, result={expval_raw.evaluate([0, 1, 1, 2, 3, 5], shots=shots)}\")\n",
    "print(f\"w/  mitigation shots={shots}, result={expval_mit.evaluate([0, 1, 1, 2, 3, 5], shots=shots)}\")"
   ],
   "outputs": [
    {
     "output_type": "stream",
     "name": "stdout",
     "text": [
      "w/o mitigation shots=2000, result=ExpectationValueResult(value=array(1.488+0.j), variance=array(12.100568+0.j), confidence_interval=[((1.3660514615773254+0j), (1.6099485384226742+0j))])\n",
      "w/  mitigation shots=2000, result=ExpectationValueResult(value=array(1.76213738+0.j), variance=array(11.41804634+0.j), confidence_interval=[((1.6456821109309265+0j), (1.8785926501482777+0j))])\n"
     ]
    }
   ],
   "metadata": {}
  },
  {
   "cell_type": "code",
   "execution_count": null,
   "source": [],
   "outputs": [],
   "metadata": {}
  }
 ],
 "metadata": {
  "kernelspec": {
   "name": "python3",
   "display_name": "Python 3.8.12 64-bit ('dev38': venv)"
  },
  "language_info": {
   "codemirror_mode": {
    "name": "ipython",
    "version": 3
   },
   "file_extension": ".py",
   "mimetype": "text/x-python",
   "name": "python",
   "nbconvert_exporter": "python",
   "pygments_lexer": "ipython3",
   "version": "3.8.12"
  },
  "interpreter": {
   "hash": "55198b233f406dc59b712acd847cdd7a571fa057c585d106ba05aad0d31ffb93"
  }
 },
 "nbformat": 4,
 "nbformat_minor": 5
}