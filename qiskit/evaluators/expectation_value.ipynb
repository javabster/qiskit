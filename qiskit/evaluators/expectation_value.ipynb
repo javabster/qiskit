{
 "cells": [
  {
   "cell_type": "code",
   "execution_count": 1,
   "id": "1e757f1b",
   "metadata": {
    "tags": []
   },
   "outputs": [],
   "source": [
    "%load_ext autoreload\n",
    "%autoreload 2"
   ]
  },
  {
   "cell_type": "markdown",
   "id": "31bc9934",
   "metadata": {},
   "source": [
    "# ExpectationValue"
   ]
  },
  {
   "cell_type": "code",
   "execution_count": 2,
   "id": "fee95b3f",
   "metadata": {},
   "outputs": [
    {
     "name": "stdout",
     "output_type": "stream",
     "text": [
      "observable\n",
      " 1.0 * XX\n",
      "+ 2.0 * YY\n",
      "+ 3.0 * ZZ\n",
      "ansatz\n",
      "      ┌──────────┐     ┌──────────┐     ┌──────────┐\n",
      "q_0: ┤ Ry(θ[0]) ├──■──┤ Ry(θ[2]) ├──■──┤ Ry(θ[4]) ├\n",
      "     ├──────────┤┌─┴─┐├──────────┤┌─┴─┐├──────────┤\n",
      "q_1: ┤ Ry(θ[1]) ├┤ X ├┤ Ry(θ[3]) ├┤ X ├┤ Ry(θ[5]) ├\n",
      "     └──────────┘└───┘└──────────┘└───┘└──────────┘\n"
     ]
    }
   ],
   "source": [
    "from qiskit.circuit.library import RealAmplitudes\n",
    "from qiskit.opflow import PauliSumOp\n",
    "\n",
    "observable = PauliSumOp.from_list([(\"XX\", 1), (\"YY\", 2), (\"ZZ\", 3)])\n",
    "print(\"observable\\n\", observable)\n",
    "\n",
    "ansatz = RealAmplitudes(num_qubits=2, reps=2)\n",
    "print(\"ansatz\\n\", ansatz)"
   ]
  },
  {
   "cell_type": "code",
   "execution_count": 3,
   "id": "60af9f40",
   "metadata": {},
   "outputs": [
    {
     "name": "stdout",
     "output_type": "stream",
     "text": [
      "1.8420921273153719\n"
     ]
    },
    {
     "name": "stderr",
     "output_type": "stream",
     "text": [
      "/Users/aa406165/Git/qiskit-core/qiskit/quantum_info/states/statevector.py:444: DeprecationWarning: The SparsePauliOp.table method is deprecated as of Qiskit Terra 0.19.0 and will be removed no sooner than 3 months after the releasedate. Use SparsePauliOp.paulis method instead.\n",
      "  for z, x, coeff in zip(oper.table.Z, oper.table.X, oper.coeffs)\n"
     ]
    }
   ],
   "source": [
    "from qiskit.quantum_info import Statevector\n",
    "\n",
    "expval = Statevector(ansatz.bind_parameters([0, 1, 1, 2, 3, 5])).expectation_value(\n",
    "    observable.primitive\n",
    ")\n",
    "print(expval.real)"
   ]
  },
  {
   "cell_type": "markdown",
   "id": "16dd493e",
   "metadata": {},
   "source": [
    "## ExpectationValue class"
   ]
  },
  {
   "cell_type": "code",
   "execution_count": 4,
   "id": "8d3036e8",
   "metadata": {},
   "outputs": [],
   "source": [
    "from qiskit.evaluators import PauliExpectationValue"
   ]
  },
  {
   "cell_type": "markdown",
   "id": "ee720e69",
   "metadata": {},
   "source": [
    "### PauliExpectationValue\n",
    "\n",
    "Evaluate the expectation value by sampling. This supports both AerSimulator and IBMQ backends."
   ]
  },
  {
   "cell_type": "code",
   "execution_count": 5,
   "id": "e60ada70",
   "metadata": {},
   "outputs": [],
   "source": [
    "from qiskit.providers.aer import AerSimulator\n",
    "backend = AerSimulator()"
   ]
  },
  {
   "cell_type": "code",
   "execution_count": 6,
   "id": "3989c189",
   "metadata": {},
   "outputs": [
    {
     "name": "stderr",
     "output_type": "stream",
     "text": [
      "no max_experiments for this backend: aer_simulator\n"
     ]
    },
    {
     "data": {
      "text/plain": [
       "ExpectationValueResult(value=(1.7786666666666666+0j), variance=(11.140155555555555+0j), confidence_interval=[((1.685911814800926+0j), (1.8714215185324072+0j))])"
      ]
     },
     "execution_count": 6,
     "metadata": {},
     "output_type": "execute_result"
    }
   ],
   "source": [
    "expval = PauliExpectationValue(ansatz, observable, backend=backend)\n",
    "expval.evaluate([0, 1, 1, 2, 3, 5], shots=3000)"
   ]
  },
  {
   "cell_type": "code",
   "execution_count": 7,
   "id": "5e244ee2",
   "metadata": {},
   "outputs": [
    {
     "name": "stderr",
     "output_type": "stream",
     "text": [
      "no max_experiments for this backend: aer_simulator\n"
     ]
    },
    {
     "data": {
      "text/plain": [
       "ExpectationValueResult(value=(1.859375+0j), variance=(11.079803466796875+0j), confidence_interval=[((1.7013771658005008+0j), (2.017372834199499+0j))])"
      ]
     },
     "execution_count": 7,
     "metadata": {},
     "output_type": "execute_result"
    }
   ],
   "source": [
    "# pre-binding\n",
    "\n",
    "circuit = ansatz.bind_parameters([0, 1, 1, 2, 3, 5])\n",
    "expval = PauliExpectationValue(circuit, observable, backend=backend)\n",
    "expval.evaluate()"
   ]
  },
  {
   "cell_type": "code",
   "execution_count": 8,
   "id": "39627b38-e650-4ba8-b295-a68563a33905",
   "metadata": {},
   "outputs": [
    {
     "name": "stderr",
     "output_type": "stream",
     "text": [
      "no max_experiments for this backend: aer_simulator\n"
     ]
    },
    {
     "name": "stdout",
     "output_type": "stream",
     "text": [
      "none\n"
     ]
    },
    {
     "data": {
      "text/plain": [
       "CompositeResult(items=[ExpectationValueResult(value=(1.8119999999999998+0j), variance=(11.076720000000002+0j), confidence_interval=[((1.7196992349721762+0j), (1.9043007650278234+0j))]), ExpectationValueResult(value=0.0, variance=0.0, confidence_interval=[(0.0, 0.0)])])"
      ]
     },
     "execution_count": 8,
     "metadata": {},
     "output_type": "execute_result"
    }
   ],
   "source": [
    "# multi prameters\n",
    "\n",
    "expval = PauliExpectationValue(ansatz, observable, backend=backend)\n",
    "expval.evaluate([[0, 1, 1, 2, 3, 5], [1, 1, 2, 3, 5, 8]], shots=3000)"
   ]
  },
  {
   "cell_type": "markdown",
   "id": "78b2e0bf",
   "metadata": {},
   "source": [
    "### Exact simulation by SaveExpectationValueVariance"
   ]
  },
  {
   "cell_type": "code",
   "execution_count": 9,
   "id": "1f5dca21",
   "metadata": {},
   "outputs": [],
   "source": [
    "from qiskit.evaluators import ExactExpectationValue"
   ]
  },
  {
   "cell_type": "code",
   "execution_count": 10,
   "id": "3ed3d334",
   "metadata": {},
   "outputs": [
    {
     "name": "stdout",
     "output_type": "stream",
     "text": [
      "CPU times: user 9.42 ms, sys: 704 µs, total: 10.1 ms\n",
      "Wall time: 10.1 ms\n"
     ]
    },
    {
     "data": {
      "text/plain": [
       "ExpectationValueResult(value=1.8420921273153708, variance=6.432763522806668, confidence_interval=None)"
      ]
     },
     "execution_count": 10,
     "metadata": {},
     "output_type": "execute_result"
    }
   ],
   "source": [
    "expval = ExactExpectationValue(ansatz, observable, backend=backend)\n",
    "%time expval.evaluate([0, 1, 1, 2, 3, 5])"
   ]
  },
  {
   "cell_type": "code",
   "execution_count": 11,
   "id": "c7e99470",
   "metadata": {},
   "outputs": [
    {
     "name": "stdout",
     "output_type": "stream",
     "text": [
      "CPU times: user 3.81 ms, sys: 996 µs, total: 4.81 ms\n",
      "Wall time: 4.54 ms\n"
     ]
    },
    {
     "data": {
      "text/plain": [
       "ExpectationValueResult(value=0.15611896641425527, variance=5.356814314603938, confidence_interval=None)"
      ]
     },
     "execution_count": 11,
     "metadata": {},
     "output_type": "execute_result"
    }
   ],
   "source": [
    "%time expval.evaluate([1, 1, 2, 3, 5, 8])"
   ]
  },
  {
   "cell_type": "markdown",
   "id": "7ed181f7-7463-4432-b5f6-c40ddfe4330e",
   "metadata": {},
   "source": [
    "### Transpiled Circuits"
   ]
  },
  {
   "cell_type": "code",
   "execution_count": 12,
   "id": "5cb7102e-117f-42b9-b41f-c22f1f6ef179",
   "metadata": {},
   "outputs": [
    {
     "name": "stdout",
     "output_type": "stream",
     "text": [
      "global phase: π\n",
      "               ┌────┐┌──────────────┐┌────┐┌────────┐     ┌────┐»\n",
      "      q_0 -> 0 ┤ √X ├┤ Rz(θ[0] + π) ├┤ √X ├┤ Rz(3π) ├──■──┤ √X ├»\n",
      "               ├────┤├──────────────┤├────┤├────────┤┌─┴─┐├────┤»\n",
      "      q_1 -> 1 ┤ √X ├┤ Rz(θ[1] + π) ├┤ √X ├┤ Rz(3π) ├┤ X ├┤ √X ├»\n",
      "               └────┘└──────────────┘└────┘└────────┘└───┘└────┘»\n",
      "ancilla_0 -> 2 ─────────────────────────────────────────────────»\n",
      "                                                                »\n",
      "ancilla_1 -> 3 ─────────────────────────────────────────────────»\n",
      "                                                                »\n",
      "ancilla_2 -> 4 ─────────────────────────────────────────────────»\n",
      "                                                                »\n",
      "         c9: 2/═════════════════════════════════════════════════»\n",
      "                                                                »\n",
      "«               ┌──────────────┐┌────┐┌────────┐     ┌────┐┌──────────────┐»\n",
      "«      q_0 -> 0 ┤ Rz(θ[2] + π) ├┤ √X ├┤ Rz(3π) ├──■──┤ √X ├┤ Rz(θ[4] + π) ├»\n",
      "«               ├──────────────┤├────┤├────────┤┌─┴─┐├────┤├──────────────┤»\n",
      "«      q_1 -> 1 ┤ Rz(θ[3] + π) ├┤ √X ├┤ Rz(3π) ├┤ X ├┤ √X ├┤ Rz(θ[5] + π) ├»\n",
      "«               └──────────────┘└────┘└────────┘└───┘└────┘└──────────────┘»\n",
      "«ancilla_0 -> 2 ───────────────────────────────────────────────────────────»\n",
      "«                                                                          »\n",
      "«ancilla_1 -> 3 ───────────────────────────────────────────────────────────»\n",
      "«                                                                          »\n",
      "«ancilla_2 -> 4 ───────────────────────────────────────────────────────────»\n",
      "«                                                                          »\n",
      "«         c9: 2/═══════════════════════════════════════════════════════════»\n",
      "«                                                                          »\n",
      "«               ┌────┐┌────────┐┌───┐┌─┐   \n",
      "«      q_0 -> 0 ┤ √X ├┤ Rz(3π) ├┤ H ├┤M├───\n",
      "«               ├────┤├────────┤├───┤└╥┘┌─┐\n",
      "«      q_1 -> 1 ┤ √X ├┤ Rz(3π) ├┤ H ├─╫─┤M├\n",
      "«               └────┘└────────┘└───┘ ║ └╥┘\n",
      "«ancilla_0 -> 2 ──────────────────────╫──╫─\n",
      "«                                     ║  ║ \n",
      "«ancilla_1 -> 3 ──────────────────────╫──╫─\n",
      "«                                     ║  ║ \n",
      "«ancilla_2 -> 4 ──────────────────────╫──╫─\n",
      "«                                     ║  ║ \n",
      "«         c9: 2/══════════════════════╩══╩═\n",
      "«                                     0  1 \n",
      "{'basis': 'XX', 'coeff': (1+0j)}\n",
      "\n",
      "global phase: π\n",
      "               ┌────┐┌──────────────┐┌────┐┌────────┐     ┌────┐»\n",
      "      q_0 -> 0 ┤ √X ├┤ Rz(θ[0] + π) ├┤ √X ├┤ Rz(3π) ├──■──┤ √X ├»\n",
      "               ├────┤├──────────────┤├────┤├────────┤┌─┴─┐├────┤»\n",
      "      q_1 -> 1 ┤ √X ├┤ Rz(θ[1] + π) ├┤ √X ├┤ Rz(3π) ├┤ X ├┤ √X ├»\n",
      "               └────┘└──────────────┘└────┘└────────┘└───┘└────┘»\n",
      "ancilla_0 -> 2 ─────────────────────────────────────────────────»\n",
      "                                                                »\n",
      "ancilla_1 -> 3 ─────────────────────────────────────────────────»\n",
      "                                                                »\n",
      "ancilla_2 -> 4 ─────────────────────────────────────────────────»\n",
      "                                                                »\n",
      "        c10: 2/═════════════════════════════════════════════════»\n",
      "                                                                »\n",
      "«               ┌──────────────┐┌────┐┌────────┐     ┌────┐┌──────────────┐»\n",
      "«      q_0 -> 0 ┤ Rz(θ[2] + π) ├┤ √X ├┤ Rz(3π) ├──■──┤ √X ├┤ Rz(θ[4] + π) ├»\n",
      "«               ├──────────────┤├────┤├────────┤┌─┴─┐├────┤├──────────────┤»\n",
      "«      q_1 -> 1 ┤ Rz(θ[3] + π) ├┤ √X ├┤ Rz(3π) ├┤ X ├┤ √X ├┤ Rz(θ[5] + π) ├»\n",
      "«               └──────────────┘└────┘└────────┘└───┘└────┘└──────────────┘»\n",
      "«ancilla_0 -> 2 ───────────────────────────────────────────────────────────»\n",
      "«                                                                          »\n",
      "«ancilla_1 -> 3 ───────────────────────────────────────────────────────────»\n",
      "«                                                                          »\n",
      "«ancilla_2 -> 4 ───────────────────────────────────────────────────────────»\n",
      "«                                                                          »\n",
      "«        c10: 2/═══════════════════════════════════════════════════════════»\n",
      "«                                                                          »\n",
      "«               ┌────┐┌────────┐┌─────┐┌───┐┌─┐   \n",
      "«      q_0 -> 0 ┤ √X ├┤ Rz(3π) ├┤ Sdg ├┤ H ├┤M├───\n",
      "«               ├────┤├────────┤├─────┤├───┤└╥┘┌─┐\n",
      "«      q_1 -> 1 ┤ √X ├┤ Rz(3π) ├┤ Sdg ├┤ H ├─╫─┤M├\n",
      "«               └────┘└────────┘└─────┘└───┘ ║ └╥┘\n",
      "«ancilla_0 -> 2 ─────────────────────────────╫──╫─\n",
      "«                                            ║  ║ \n",
      "«ancilla_1 -> 3 ─────────────────────────────╫──╫─\n",
      "«                                            ║  ║ \n",
      "«ancilla_2 -> 4 ─────────────────────────────╫──╫─\n",
      "«                                            ║  ║ \n",
      "«        c10: 2/═════════════════════════════╩══╩═\n",
      "«                                            0  1 \n",
      "{'basis': 'YY', 'coeff': (2+0j)}\n",
      "\n",
      "global phase: π\n",
      "               ┌────┐┌──────────────┐┌────┐┌────────┐     ┌────┐»\n",
      "      q_0 -> 0 ┤ √X ├┤ Rz(θ[0] + π) ├┤ √X ├┤ Rz(3π) ├──■──┤ √X ├»\n",
      "               ├────┤├──────────────┤├────┤├────────┤┌─┴─┐├────┤»\n",
      "      q_1 -> 1 ┤ √X ├┤ Rz(θ[1] + π) ├┤ √X ├┤ Rz(3π) ├┤ X ├┤ √X ├»\n",
      "               └────┘└──────────────┘└────┘└────────┘└───┘└────┘»\n",
      "ancilla_0 -> 2 ─────────────────────────────────────────────────»\n",
      "                                                                »\n",
      "ancilla_1 -> 3 ─────────────────────────────────────────────────»\n",
      "                                                                »\n",
      "ancilla_2 -> 4 ─────────────────────────────────────────────────»\n",
      "                                                                »\n",
      "        c11: 2/═════════════════════════════════════════════════»\n",
      "                                                                »\n",
      "«               ┌──────────────┐┌────┐┌────────┐     ┌────┐┌──────────────┐»\n",
      "«      q_0 -> 0 ┤ Rz(θ[2] + π) ├┤ √X ├┤ Rz(3π) ├──■──┤ √X ├┤ Rz(θ[4] + π) ├»\n",
      "«               ├──────────────┤├────┤├────────┤┌─┴─┐├────┤├──────────────┤»\n",
      "«      q_1 -> 1 ┤ Rz(θ[3] + π) ├┤ √X ├┤ Rz(3π) ├┤ X ├┤ √X ├┤ Rz(θ[5] + π) ├»\n",
      "«               └──────────────┘└────┘└────────┘└───┘└────┘└──────────────┘»\n",
      "«ancilla_0 -> 2 ───────────────────────────────────────────────────────────»\n",
      "«                                                                          »\n",
      "«ancilla_1 -> 3 ───────────────────────────────────────────────────────────»\n",
      "«                                                                          »\n",
      "«ancilla_2 -> 4 ───────────────────────────────────────────────────────────»\n",
      "«                                                                          »\n",
      "«        c11: 2/═══════════════════════════════════════════════════════════»\n",
      "«                                                                          »\n",
      "«               ┌────┐┌────────┐┌─┐   \n",
      "«      q_0 -> 0 ┤ √X ├┤ Rz(3π) ├┤M├───\n",
      "«               ├────┤├────────┤└╥┘┌─┐\n",
      "«      q_1 -> 1 ┤ √X ├┤ Rz(3π) ├─╫─┤M├\n",
      "«               └────┘└────────┘ ║ └╥┘\n",
      "«ancilla_0 -> 2 ─────────────────╫──╫─\n",
      "«                                ║  ║ \n",
      "«ancilla_1 -> 3 ─────────────────╫──╫─\n",
      "«                                ║  ║ \n",
      "«ancilla_2 -> 4 ─────────────────╫──╫─\n",
      "«                                ║  ║ \n",
      "«        c11: 2/═════════════════╩══╩═\n",
      "«                                0  1 \n",
      "{'basis': 'ZZ', 'coeff': (3+0j)}\n",
      "\n",
      "ExpectationValueResult(value=(1.580078125+0j), variance=(11.89931869506836+0j), confidence_interval=[((1.4117709915224863+0j), (1.7483852584775137+0j))])\n"
     ]
    }
   ],
   "source": [
    "from qiskit.test.mock import FakeBogota\n",
    "\n",
    "backend = AerSimulator.from_backend(FakeBogota())\n",
    "\n",
    "expval = PauliExpectationValue(ansatz, observable, backend=backend)\n",
    "# expval.set_transpile_options(initial_layout=[1, 2])\n",
    "for circ in expval.transpiled_circuits:\n",
    "    print(circ)\n",
    "    print(circ.metadata)\n",
    "    print()\n",
    "print(expval.evaluate([0, 1, 1, 2, 3, 5]))"
   ]
  },
  {
   "cell_type": "markdown",
   "id": "a262bc31",
   "metadata": {},
   "source": [
    "### Transpile options and Run options"
   ]
  },
  {
   "cell_type": "code",
   "execution_count": 13,
   "id": "40ffcc90",
   "metadata": {},
   "outputs": [
    {
     "data": {
      "text/plain": [
       "ExpectationValueResult(value=(1.5210701190765445+0j), variance=(12.011678548031021+0j), confidence_interval=[((1.5156457698115229+0j), (1.5264944683415662+0j))])"
      ]
     },
     "execution_count": 13,
     "metadata": {},
     "output_type": "execute_result"
    }
   ],
   "source": [
    "expval = PauliExpectationValue(ansatz, observable, backend=backend)\n",
    "# setter\n",
    "expval.set_transpile_options(optimization_level=2)\n",
    "expval.set_run_options(shots=1_000_000)\n",
    "expval.evaluate([0, 1, 1, 2, 3, 5])"
   ]
  },
  {
   "cell_type": "code",
   "execution_count": 14,
   "id": "3d56d394",
   "metadata": {},
   "outputs": [
    {
     "data": {
      "text/plain": [
       "ExpectationValueResult(value=(1.516357421875+0j), variance=(12.050503671169281+0j), confidence_interval=[((1.4562694077614355+0j), (1.5764454359885645+0j))])"
      ]
     },
     "execution_count": 14,
     "metadata": {},
     "output_type": "execute_result"
    }
   ],
   "source": [
    "# Method chain\n",
    "expval.set_run_options(shots=8192).evaluate([0, 1, 1, 2, 3, 5])"
   ]
  },
  {
   "cell_type": "code",
   "execution_count": 15,
   "id": "075c0124",
   "metadata": {},
   "outputs": [
    {
     "data": {
      "text/plain": [
       "ExpectationValueResult(value=(1.64+0j), variance=(12.009511111111111+0j), confidence_interval=[((1.326503196664666+0j), (1.9534968033353337+0j))])"
      ]
     },
     "execution_count": 15,
     "metadata": {},
     "output_type": "execute_result"
    }
   ],
   "source": [
    "# evaluate's option\n",
    "expval.evaluate([0, 1, 1, 2, 3, 5], shots=300)"
   ]
  },
  {
   "cell_type": "markdown",
   "id": "59e716ee-e63d-4437-8287-3709d18c2e29",
   "metadata": {},
   "source": [
    "### Composite Evaluator"
   ]
  },
  {
   "cell_type": "code",
   "execution_count": 16,
   "id": "d73181d0-fe07-44d5-9045-0736f6a3f1d5",
   "metadata": {},
   "outputs": [],
   "source": [
    "from qiskit.evaluators import JointEvaluator"
   ]
  },
  {
   "cell_type": "code",
   "execution_count": 17,
   "id": "2e4ed8f5-6992-4abe-92d7-84ec94494fff",
   "metadata": {},
   "outputs": [
    {
     "data": {
      "text/plain": [
       "3"
      ]
     },
     "execution_count": 17,
     "metadata": {},
     "output_type": "execute_result"
    }
   ],
   "source": [
    "len(expval.transpiled_circuits)"
   ]
  },
  {
   "cell_type": "code",
   "execution_count": 18,
   "id": "48ad721a-2a0f-4a60-8e8c-bb19eb60d9a1",
   "metadata": {},
   "outputs": [],
   "source": [
    "joint_evaluator = JointEvaluator([expval, expval, expval])"
   ]
  },
  {
   "cell_type": "code",
   "execution_count": 19,
   "id": "a45de43c-0062-4310-b31c-50e23fcfb263",
   "metadata": {},
   "outputs": [
    {
     "data": {
      "text/plain": [
       "9"
      ]
     },
     "execution_count": 19,
     "metadata": {},
     "output_type": "execute_result"
    }
   ],
   "source": [
    "len(joint_evaluator.transpiled_circuits) # 3 × 3"
   ]
  },
  {
   "cell_type": "code",
   "execution_count": 20,
   "id": "b239bc6d-28b7-425d-b088-57bf74ed9802",
   "metadata": {},
   "outputs": [
    {
     "data": {
      "text/plain": [
       "CompositeResult(items=[ExpectationValueResult(value=(1.556640625+0j), variance=(11.943098902702332+0j), confidence_interval=[((1.4969504728178185+0j), (1.6163307771821815+0j))]), ExpectationValueResult(value=(1.542724609375+0j), variance=(11.941121995449066+0j), confidence_interval=[((1.483053039379968+0j), (1.602396179370032+0j))]), ExpectationValueResult(value=(1.54443359375+0j), variance=(11.978637337684631+0j), confidence_interval=[((1.4846131380151335+0j), (1.6042540494848665+0j))])])"
      ]
     },
     "execution_count": 20,
     "metadata": {},
     "output_type": "execute_result"
    }
   ],
   "source": [
    "joint_evaluator.evaluate([0, 1, 1, 2, 3, 5])"
   ]
  },
  {
   "cell_type": "code",
   "execution_count": 21,
   "id": "d1822194-5230-4725-8695-d1f182643313",
   "metadata": {},
   "outputs": [
    {
     "data": {
      "text/plain": [
       "CompositeResult(items=[ExpectationValueResult(value=(1.507080078125+0j), variance=(12.055359065532684+0j), confidence_interval=[((1.4469819739206327+0j), (1.5671781823293673+0j))]), ExpectationValueResult(value=(0.243896484375+0j), variance=(11.714251935482025+0j), confidence_interval=[((0.18392719721659406+0j), (0.30386577153340594+0j))]), ExpectationValueResult(value=(0.841552734375+0j), variance=(12.361730754375458+0j), confidence_interval=[((0.7801707906113339+0j), (0.9029346781386661+0j))])])"
      ]
     },
     "execution_count": 21,
     "metadata": {},
     "output_type": "execute_result"
    }
   ],
   "source": [
    "joint_evaluator.evaluate([[0, 1, 1, 2, 3, 5], [1, 1, 2, 3, 5, 8], [1, 2, 3, 5, 8, 13]])"
   ]
  },
  {
   "cell_type": "markdown",
   "id": "0efdd073",
   "metadata": {},
   "source": [
    "### Mitigator"
   ]
  },
  {
   "cell_type": "code",
   "execution_count": 22,
   "id": "49b6629b",
   "metadata": {},
   "outputs": [
    {
     "name": "stdout",
     "output_type": "stream",
     "text": [
      "w/o mitigation shots=2000, result=ExpectationValueResult(value=(1.5380000000000003+0j), variance=(12.102556+0j), confidence_interval=[((1.41597261148584+0j), (1.6600273885141605+0j))])\n",
      "w/  mitigation shots=2000, result=ExpectationValueResult(value=(1.8415135056830598+0j), variance=(11.461711322019683+0j), confidence_interval=[((1.7242585449985073+0j), (1.9587684663676124+0j))])\n"
     ]
    }
   ],
   "source": [
    "from qiskit.evaluators.backends import ReadoutErrorMitigation\n",
    "\n",
    "backend = AerSimulator.from_backend(FakeBogota())\n",
    "mit = ReadoutErrorMitigation(backend, mitigation=\"tensored\", refresh=1, shots=2000, mit_pattern=[[0], [1]])\n",
    "expval_raw = PauliExpectationValue(ansatz, observable, backend=backend)\n",
    "expval_mit = PauliExpectationValue(ansatz, observable, backend=mit)\n",
    "shots = 2000\n",
    "print(f\"w/o mitigation shots={shots}, result={expval_raw.evaluate([0, 1, 1, 2, 3, 5], shots=shots)}\")\n",
    "print(f\"w/  mitigation shots={shots}, result={expval_mit.evaluate([0, 1, 1, 2, 3, 5], shots=shots)}\")"
   ]
  },
  {
   "cell_type": "code",
   "execution_count": null,
   "id": "fd4ce213",
   "metadata": {},
   "outputs": [],
   "source": []
  }
 ],
 "metadata": {
  "interpreter": {
   "hash": "55198b233f406dc59b712acd847cdd7a571fa057c585d106ba05aad0d31ffb93"
  },
  "kernelspec": {
   "display_name": "Terra",
   "language": "python",
   "name": "terra"
  },
  "language_info": {
   "codemirror_mode": {
    "name": "ipython",
    "version": 3
   },
   "file_extension": ".py",
   "mimetype": "text/x-python",
   "name": "python",
   "nbconvert_exporter": "python",
   "pygments_lexer": "ipython3",
   "version": "3.7.10"
  }
 },
 "nbformat": 4,
 "nbformat_minor": 5
}
