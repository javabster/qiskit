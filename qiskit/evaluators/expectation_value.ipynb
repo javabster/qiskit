{
 "cells": [
  {
   "cell_type": "code",
   "execution_count": 1,
   "id": "1e757f1b",
   "metadata": {
    "tags": []
   },
   "outputs": [],
   "source": [
    "%load_ext autoreload\n",
    "%autoreload 2"
   ]
  },
  {
   "cell_type": "markdown",
   "id": "31bc9934",
   "metadata": {},
   "source": [
    "# ExpectationValue"
   ]
  },
  {
   "cell_type": "code",
   "execution_count": 2,
   "id": "fee95b3f",
   "metadata": {},
   "outputs": [
    {
     "name": "stdout",
     "output_type": "stream",
     "text": [
      "observable\n",
      " 1.0 * XX\n",
      "+ 2.0 * YY\n",
      "+ 3.0 * ZZ\n",
      "ansatz\n",
      "      ┌──────────┐     ┌──────────┐     ┌──────────┐\n",
      "q_0: ┤ Ry(θ[0]) ├──■──┤ Ry(θ[2]) ├──■──┤ Ry(θ[4]) ├\n",
      "     ├──────────┤┌─┴─┐├──────────┤┌─┴─┐├──────────┤\n",
      "q_1: ┤ Ry(θ[1]) ├┤ X ├┤ Ry(θ[3]) ├┤ X ├┤ Ry(θ[5]) ├\n",
      "     └──────────┘└───┘└──────────┘└───┘└──────────┘\n"
     ]
    }
   ],
   "source": [
    "from qiskit.circuit.library import RealAmplitudes\n",
    "from qiskit.opflow import PauliSumOp\n",
    "\n",
    "observable = PauliSumOp.from_list([(\"XX\", 1), (\"YY\", 2), (\"ZZ\", 3)])\n",
    "print(\"observable\\n\", observable)\n",
    "\n",
    "ansatz = RealAmplitudes(num_qubits=2, reps=2)\n",
    "print(\"ansatz\\n\", ansatz)"
   ]
  },
  {
   "cell_type": "code",
   "execution_count": 3,
   "id": "60af9f40",
   "metadata": {},
   "outputs": [
    {
     "name": "stdout",
     "output_type": "stream",
     "text": [
      "1.8420921273153719\n"
     ]
    },
    {
     "name": "stderr",
     "output_type": "stream",
     "text": [
      "/Users/aa406165/Git/qiskit-core/qiskit/quantum_info/states/statevector.py:444: DeprecationWarning: The SparsePauliOp.table method is deprecated as of Qiskit Terra 0.19.0 and will be removed no sooner than 3 months after the releasedate. Use SparsePauliOp.paulis method instead.\n",
      "  for z, x, coeff in zip(oper.table.Z, oper.table.X, oper.coeffs)\n"
     ]
    }
   ],
   "source": [
    "from qiskit.quantum_info import Statevector\n",
    "\n",
    "expval = Statevector(ansatz.bind_parameters([0, 1, 1, 2, 3, 5])).expectation_value(\n",
    "    observable.primitive\n",
    ")\n",
    "print(expval.real)"
   ]
  },
  {
   "cell_type": "markdown",
   "id": "16dd493e",
   "metadata": {},
   "source": [
    "## ExpectationValue class"
   ]
  },
  {
   "cell_type": "code",
   "execution_count": 4,
   "id": "8d3036e8",
   "metadata": {},
   "outputs": [],
   "source": [
    "from qiskit.evaluators import PauliExpectationValue"
   ]
  },
  {
   "cell_type": "markdown",
   "id": "ee720e69",
   "metadata": {},
   "source": [
    "### PauliExpectationValue\n",
    "\n",
    "Evaluate the expectation value by sampling. This supports both AerSimulator and IBMQ backends."
   ]
  },
  {
   "cell_type": "code",
   "execution_count": 5,
   "id": "e60ada70",
   "metadata": {},
   "outputs": [],
   "source": [
    "from qiskit.providers.aer import AerSimulator\n",
    "backend = AerSimulator()"
   ]
  },
  {
   "cell_type": "code",
   "execution_count": 6,
   "id": "3989c189",
   "metadata": {},
   "outputs": [
    {
     "name": "stderr",
     "output_type": "stream",
     "text": [
      "no max_experiments for this backend: aer_simulator\n"
     ]
    },
    {
     "data": {
      "text/plain": [
       "ExpectationValueResult(value=(1.8166666666666667+0j), variance=(11.129208444444444+0j), confidence_interval=[((1.723967817740224+0j), (1.9093655155931093+0j))])"
      ]
     },
     "execution_count": 6,
     "metadata": {},
     "output_type": "execute_result"
    }
   ],
   "source": [
    "expval = PauliExpectationValue(ansatz, observable, backend=backend)\n",
    "expval.evaluate([0, 1, 1, 2, 3, 5], shots=3000)"
   ]
  },
  {
   "cell_type": "code",
   "execution_count": 7,
   "id": "5e244ee2",
   "metadata": {},
   "outputs": [
    {
     "name": "stderr",
     "output_type": "stream",
     "text": [
      "no max_experiments for this backend: aer_simulator\n"
     ]
    },
    {
     "data": {
      "text/plain": [
       "ExpectationValueResult(value=(1.787109375+0j), variance=(11.234569549560547+0j), confidence_interval=[((1.6271020885725256+0j), (1.9471166614274744+0j))])"
      ]
     },
     "execution_count": 7,
     "metadata": {},
     "output_type": "execute_result"
    }
   ],
   "source": [
    "# pre-binding\n",
    "\n",
    "circuit = ansatz.bind_parameters([0, 1, 1, 2, 3, 5])\n",
    "expval = PauliExpectationValue(circuit, observable, backend=backend)\n",
    "expval.evaluate()"
   ]
  },
  {
   "cell_type": "code",
   "execution_count": 8,
   "id": "39627b38-e650-4ba8-b295-a68563a33905",
   "metadata": {},
   "outputs": [
    {
     "name": "stderr",
     "output_type": "stream",
     "text": [
      "no max_experiments for this backend: aer_simulator\n"
     ]
    },
    {
     "data": {
      "text/plain": [
       "CompositeResult(items=[ExpectationValueResult(value=(1.7813333333333332+0j), variance=(11.257481777777778+0j), confidence_interval=[((1.6875398363989027+0j), (1.8751268302677637+0j))]), ExpectationValueResult(value=(0.1966666666666672+0j), variance=(10.59664488888889+0j), confidence_interval=[((0.10268679182323055+0j), (0.2906465415101039+0j))])])"
      ]
     },
     "execution_count": 8,
     "metadata": {},
     "output_type": "execute_result"
    }
   ],
   "source": [
    "# multi prameters\n",
    "\n",
    "expval = PauliExpectationValue(ansatz, observable, backend=backend)\n",
    "expval.evaluate([[0, 1, 1, 2, 3, 5], [1, 1, 2, 3, 5, 8]], shots=3000)"
   ]
  },
  {
   "cell_type": "markdown",
   "id": "78b2e0bf",
   "metadata": {},
   "source": [
    "### Exact simulation by SaveExpectationValueVariance"
   ]
  },
  {
   "cell_type": "code",
   "execution_count": 9,
   "id": "1f5dca21",
   "metadata": {},
   "outputs": [],
   "source": [
    "from qiskit.evaluators import ExactExpectationValue"
   ]
  },
  {
   "cell_type": "code",
   "execution_count": 10,
   "id": "3ed3d334",
   "metadata": {},
   "outputs": [
    {
     "name": "stdout",
     "output_type": "stream",
     "text": [
      "CPU times: user 9.58 ms, sys: 629 µs, total: 10.2 ms\n",
      "Wall time: 10.1 ms\n"
     ]
    },
    {
     "data": {
      "text/plain": [
       "ExpectationValueResult(value=1.8420921273153708, variance=6.432763522806668, confidence_interval=None)"
      ]
     },
     "execution_count": 10,
     "metadata": {},
     "output_type": "execute_result"
    }
   ],
   "source": [
    "expval = ExactExpectationValue(ansatz, observable, backend=backend)\n",
    "%time expval.evaluate([0, 1, 1, 2, 3, 5])"
   ]
  },
  {
   "cell_type": "code",
   "execution_count": 11,
   "id": "c7e99470",
   "metadata": {},
   "outputs": [
    {
     "name": "stdout",
     "output_type": "stream",
     "text": [
      "CPU times: user 2.55 ms, sys: 329 µs, total: 2.88 ms\n",
      "Wall time: 2.83 ms\n"
     ]
    },
    {
     "data": {
      "text/plain": [
       "ExpectationValueResult(value=0.15611896641425527, variance=5.356814314603938, confidence_interval=None)"
      ]
     },
     "execution_count": 11,
     "metadata": {},
     "output_type": "execute_result"
    }
   ],
   "source": [
    "%time expval.evaluate([1, 1, 2, 3, 5, 8])"
   ]
  },
  {
   "cell_type": "markdown",
   "id": "7ed181f7-7463-4432-b5f6-c40ddfe4330e",
   "metadata": {},
   "source": [
    "### Transpiled Circuits"
   ]
  },
  {
   "cell_type": "code",
   "execution_count": 12,
   "id": "5cb7102e-117f-42b9-b41f-c22f1f6ef179",
   "metadata": {},
   "outputs": [
    {
     "name": "stdout",
     "output_type": "stream",
     "text": [
      "global phase: π\n",
      "               ┌────┐┌──────────────┐┌────┐┌────────┐     ┌────┐»\n",
      "      q_0 -> 0 ┤ √X ├┤ Rz(θ[0] + π) ├┤ √X ├┤ Rz(3π) ├──■──┤ √X ├»\n",
      "               ├────┤├──────────────┤├────┤├────────┤┌─┴─┐├────┤»\n",
      "      q_1 -> 1 ┤ √X ├┤ Rz(θ[1] + π) ├┤ √X ├┤ Rz(3π) ├┤ X ├┤ √X ├»\n",
      "               └────┘└──────────────┘└────┘└────────┘└───┘└────┘»\n",
      "ancilla_0 -> 2 ─────────────────────────────────────────────────»\n",
      "                                                                »\n",
      "ancilla_1 -> 3 ─────────────────────────────────────────────────»\n",
      "                                                                »\n",
      "ancilla_2 -> 4 ─────────────────────────────────────────────────»\n",
      "                                                                »\n",
      "         c9: 2/═════════════════════════════════════════════════»\n",
      "                                                                »\n",
      "«               ┌──────────────┐┌────┐┌────────┐     ┌────┐┌──────────────┐»\n",
      "«      q_0 -> 0 ┤ Rz(θ[2] + π) ├┤ √X ├┤ Rz(3π) ├──■──┤ √X ├┤ Rz(θ[4] + π) ├»\n",
      "«               ├──────────────┤├────┤├────────┤┌─┴─┐├────┤├──────────────┤»\n",
      "«      q_1 -> 1 ┤ Rz(θ[3] + π) ├┤ √X ├┤ Rz(3π) ├┤ X ├┤ √X ├┤ Rz(θ[5] + π) ├»\n",
      "«               └──────────────┘└────┘└────────┘└───┘└────┘└──────────────┘»\n",
      "«ancilla_0 -> 2 ───────────────────────────────────────────────────────────»\n",
      "«                                                                          »\n",
      "«ancilla_1 -> 3 ───────────────────────────────────────────────────────────»\n",
      "«                                                                          »\n",
      "«ancilla_2 -> 4 ───────────────────────────────────────────────────────────»\n",
      "«                                                                          »\n",
      "«         c9: 2/═══════════════════════════════════════════════════════════»\n",
      "«                                                                          »\n",
      "«               ┌────┐┌────────┐┌───┐┌─┐   \n",
      "«      q_0 -> 0 ┤ √X ├┤ Rz(3π) ├┤ H ├┤M├───\n",
      "«               ├────┤├────────┤├───┤└╥┘┌─┐\n",
      "«      q_1 -> 1 ┤ √X ├┤ Rz(3π) ├┤ H ├─╫─┤M├\n",
      "«               └────┘└────────┘└───┘ ║ └╥┘\n",
      "«ancilla_0 -> 2 ──────────────────────╫──╫─\n",
      "«                                     ║  ║ \n",
      "«ancilla_1 -> 3 ──────────────────────╫──╫─\n",
      "«                                     ║  ║ \n",
      "«ancilla_2 -> 4 ──────────────────────╫──╫─\n",
      "«                                     ║  ║ \n",
      "«         c9: 2/══════════════════════╩══╩═\n",
      "«                                     0  1 \n",
      "{'basis': 'XX', 'coeff': (1+0j)}\n",
      "\n",
      "global phase: π\n",
      "               ┌────┐┌──────────────┐┌────┐┌────────┐     ┌────┐»\n",
      "      q_0 -> 0 ┤ √X ├┤ Rz(θ[0] + π) ├┤ √X ├┤ Rz(3π) ├──■──┤ √X ├»\n",
      "               ├────┤├──────────────┤├────┤├────────┤┌─┴─┐├────┤»\n",
      "      q_1 -> 1 ┤ √X ├┤ Rz(θ[1] + π) ├┤ √X ├┤ Rz(3π) ├┤ X ├┤ √X ├»\n",
      "               └────┘└──────────────┘└────┘└────────┘└───┘└────┘»\n",
      "ancilla_0 -> 2 ─────────────────────────────────────────────────»\n",
      "                                                                »\n",
      "ancilla_1 -> 3 ─────────────────────────────────────────────────»\n",
      "                                                                »\n",
      "ancilla_2 -> 4 ─────────────────────────────────────────────────»\n",
      "                                                                »\n",
      "        c10: 2/═════════════════════════════════════════════════»\n",
      "                                                                »\n",
      "«               ┌──────────────┐┌────┐┌────────┐     ┌────┐┌──────────────┐»\n",
      "«      q_0 -> 0 ┤ Rz(θ[2] + π) ├┤ √X ├┤ Rz(3π) ├──■──┤ √X ├┤ Rz(θ[4] + π) ├»\n",
      "«               ├──────────────┤├────┤├────────┤┌─┴─┐├────┤├──────────────┤»\n",
      "«      q_1 -> 1 ┤ Rz(θ[3] + π) ├┤ √X ├┤ Rz(3π) ├┤ X ├┤ √X ├┤ Rz(θ[5] + π) ├»\n",
      "«               └──────────────┘└────┘└────────┘└───┘└────┘└──────────────┘»\n",
      "«ancilla_0 -> 2 ───────────────────────────────────────────────────────────»\n",
      "«                                                                          »\n",
      "«ancilla_1 -> 3 ───────────────────────────────────────────────────────────»\n",
      "«                                                                          »\n",
      "«ancilla_2 -> 4 ───────────────────────────────────────────────────────────»\n",
      "«                                                                          »\n",
      "«        c10: 2/═══════════════════════════════════════════════════════════»\n",
      "«                                                                          »\n",
      "«               ┌────┐┌────────┐┌─────┐┌───┐┌─┐   \n",
      "«      q_0 -> 0 ┤ √X ├┤ Rz(3π) ├┤ Sdg ├┤ H ├┤M├───\n",
      "«               ├────┤├────────┤├─────┤├───┤└╥┘┌─┐\n",
      "«      q_1 -> 1 ┤ √X ├┤ Rz(3π) ├┤ Sdg ├┤ H ├─╫─┤M├\n",
      "«               └────┘└────────┘└─────┘└───┘ ║ └╥┘\n",
      "«ancilla_0 -> 2 ─────────────────────────────╫──╫─\n",
      "«                                            ║  ║ \n",
      "«ancilla_1 -> 3 ─────────────────────────────╫──╫─\n",
      "«                                            ║  ║ \n",
      "«ancilla_2 -> 4 ─────────────────────────────╫──╫─\n",
      "«                                            ║  ║ \n",
      "«        c10: 2/═════════════════════════════╩══╩═\n",
      "«                                            0  1 \n",
      "{'basis': 'YY', 'coeff': (2+0j)}\n",
      "\n",
      "global phase: π\n",
      "               ┌────┐┌──────────────┐┌────┐┌────────┐     ┌────┐»\n",
      "      q_0 -> 0 ┤ √X ├┤ Rz(θ[0] + π) ├┤ √X ├┤ Rz(3π) ├──■──┤ √X ├»\n",
      "               ├────┤├──────────────┤├────┤├────────┤┌─┴─┐├────┤»\n",
      "      q_1 -> 1 ┤ √X ├┤ Rz(θ[1] + π) ├┤ √X ├┤ Rz(3π) ├┤ X ├┤ √X ├»\n",
      "               └────┘└──────────────┘└────┘└────────┘└───┘└────┘»\n",
      "ancilla_0 -> 2 ─────────────────────────────────────────────────»\n",
      "                                                                »\n",
      "ancilla_1 -> 3 ─────────────────────────────────────────────────»\n",
      "                                                                »\n",
      "ancilla_2 -> 4 ─────────────────────────────────────────────────»\n",
      "                                                                »\n",
      "        c11: 2/═════════════════════════════════════════════════»\n",
      "                                                                »\n",
      "«               ┌──────────────┐┌────┐┌────────┐     ┌────┐┌──────────────┐»\n",
      "«      q_0 -> 0 ┤ Rz(θ[2] + π) ├┤ √X ├┤ Rz(3π) ├──■──┤ √X ├┤ Rz(θ[4] + π) ├»\n",
      "«               ├──────────────┤├────┤├────────┤┌─┴─┐├────┤├──────────────┤»\n",
      "«      q_1 -> 1 ┤ Rz(θ[3] + π) ├┤ √X ├┤ Rz(3π) ├┤ X ├┤ √X ├┤ Rz(θ[5] + π) ├»\n",
      "«               └──────────────┘└────┘└────────┘└───┘└────┘└──────────────┘»\n",
      "«ancilla_0 -> 2 ───────────────────────────────────────────────────────────»\n",
      "«                                                                          »\n",
      "«ancilla_1 -> 3 ───────────────────────────────────────────────────────────»\n",
      "«                                                                          »\n",
      "«ancilla_2 -> 4 ───────────────────────────────────────────────────────────»\n",
      "«                                                                          »\n",
      "«        c11: 2/═══════════════════════════════════════════════════════════»\n",
      "«                                                                          »\n",
      "«               ┌────┐┌────────┐┌─┐   \n",
      "«      q_0 -> 0 ┤ √X ├┤ Rz(3π) ├┤M├───\n",
      "«               ├────┤├────────┤└╥┘┌─┐\n",
      "«      q_1 -> 1 ┤ √X ├┤ Rz(3π) ├─╫─┤M├\n",
      "«               └────┘└────────┘ ║ └╥┘\n",
      "«ancilla_0 -> 2 ─────────────────╫──╫─\n",
      "«                                ║  ║ \n",
      "«ancilla_1 -> 3 ─────────────────╫──╫─\n",
      "«                                ║  ║ \n",
      "«ancilla_2 -> 4 ─────────────────╫──╫─\n",
      "«                                ║  ║ \n",
      "«        c11: 2/═════════════════╩══╩═\n",
      "«                                0  1 \n",
      "{'basis': 'ZZ', 'coeff': (3+0j)}\n",
      "\n",
      "ExpectationValueResult(value=(1.322265625+0j), variance=(12.105083465576172+0j), confidence_interval=[((1.151944793680448+0j), (1.492586456319552+0j))])\n"
     ]
    }
   ],
   "source": [
    "from qiskit.test.mock import FakeBogota\n",
    "\n",
    "backend = AerSimulator.from_backend(FakeBogota())\n",
    "\n",
    "expval = PauliExpectationValue(ansatz, observable, backend=backend)\n",
    "# expval.set_transpile_options(initial_layout=[1, 2])\n",
    "for circ in expval.transpiled_circuits:\n",
    "    print(circ)\n",
    "    print(circ.metadata)\n",
    "    print()\n",
    "print(expval.evaluate([0, 1, 1, 2, 3, 5]))"
   ]
  },
  {
   "cell_type": "markdown",
   "id": "a262bc31",
   "metadata": {},
   "source": [
    "### Transpile options and Run options"
   ]
  },
  {
   "cell_type": "code",
   "execution_count": 13,
   "id": "40ffcc90",
   "metadata": {},
   "outputs": [
    {
     "data": {
      "text/plain": [
       "ExpectationValueResult(value=(1.5220920036035928+0j), variance=(12.004484853121927+0j), confidence_interval=[((1.5166702473781495+0j), (1.527513759829036+0j))])"
      ]
     },
     "execution_count": 13,
     "metadata": {},
     "output_type": "execute_result"
    }
   ],
   "source": [
    "expval = PauliExpectationValue(ansatz, observable, backend=backend)\n",
    "# setter\n",
    "expval.set_transpile_options(optimization_level=2)\n",
    "expval.set_run_options(shots=1_000_000)\n",
    "expval.evaluate([0, 1, 1, 2, 3, 5])"
   ]
  },
  {
   "cell_type": "code",
   "execution_count": 14,
   "id": "3d56d394",
   "metadata": {},
   "outputs": [
    {
     "data": {
      "text/plain": [
       "ExpectationValueResult(value=(1.512939453125+0j), variance=(12.053604543209076+0j), confidence_interval=[((1.4528491556493117+0j), (1.5730297506006883+0j))])"
      ]
     },
     "execution_count": 14,
     "metadata": {},
     "output_type": "execute_result"
    }
   ],
   "source": [
    "# Method chain\n",
    "expval.set_run_options(shots=8192).evaluate([0, 1, 1, 2, 3, 5])"
   ]
  },
  {
   "cell_type": "code",
   "execution_count": 15,
   "id": "075c0124",
   "metadata": {},
   "outputs": [
    {
     "data": {
      "text/plain": [
       "ExpectationValueResult(value=(1.9933333333333336+0j), variance=(11.589288888888888+0j), confidence_interval=[((1.684784068272271+0j), (2.3018825983943962+0j))])"
      ]
     },
     "execution_count": 15,
     "metadata": {},
     "output_type": "execute_result"
    }
   ],
   "source": [
    "# evaluate's option\n",
    "expval.evaluate([0, 1, 1, 2, 3, 5], shots=300)"
   ]
  },
  {
   "cell_type": "markdown",
   "id": "59e716ee-e63d-4437-8287-3709d18c2e29",
   "metadata": {},
   "source": [
    "### Composite Evaluator"
   ]
  },
  {
   "cell_type": "code",
   "execution_count": 16,
   "id": "d73181d0-fe07-44d5-9045-0736f6a3f1d5",
   "metadata": {},
   "outputs": [],
   "source": [
    "from qiskit.evaluators import JointEvaluator"
   ]
  },
  {
   "cell_type": "code",
   "execution_count": 17,
   "id": "2e4ed8f5-6992-4abe-92d7-84ec94494fff",
   "metadata": {},
   "outputs": [
    {
     "data": {
      "text/plain": [
       "3"
      ]
     },
     "execution_count": 17,
     "metadata": {},
     "output_type": "execute_result"
    }
   ],
   "source": [
    "len(expval.transpiled_circuits)"
   ]
  },
  {
   "cell_type": "code",
   "execution_count": 18,
   "id": "48ad721a-2a0f-4a60-8e8c-bb19eb60d9a1",
   "metadata": {},
   "outputs": [],
   "source": [
    "joint_evaluator = JointEvaluator([expval, expval, expval])"
   ]
  },
  {
   "cell_type": "code",
   "execution_count": 19,
   "id": "a45de43c-0062-4310-b31c-50e23fcfb263",
   "metadata": {},
   "outputs": [
    {
     "data": {
      "text/plain": [
       "9"
      ]
     },
     "execution_count": 19,
     "metadata": {},
     "output_type": "execute_result"
    }
   ],
   "source": [
    "len(joint_evaluator.transpiled_circuits) # 3 × 3"
   ]
  },
  {
   "cell_type": "code",
   "execution_count": 20,
   "id": "b239bc6d-28b7-425d-b088-57bf74ed9802",
   "metadata": {},
   "outputs": [
    {
     "data": {
      "text/plain": [
       "CompositeResult(items=[ExpectationValueResult(value=(1.575927734375+0j), variance=(11.97433751821518+0j), confidence_interval=[((1.5160921290116833+0j), (1.6357633397383167+0j))]), ExpectationValueResult(value=(1.498046875+0j), variance=(12.013070464134216+0j), confidence_interval=[((1.4381256023679945+0j), (1.5579681476320055+0j))]), ExpectationValueResult(value=(1.4755859375+0j), variance=(12.064022183418274+0j), confidence_interval=[((1.4154714573640874+0j), (1.5357004176359126+0j))])])"
      ]
     },
     "execution_count": 20,
     "metadata": {},
     "output_type": "execute_result"
    }
   ],
   "source": [
    "joint_evaluator.evaluate([0, 1, 1, 2, 3, 5])"
   ]
  },
  {
   "cell_type": "code",
   "execution_count": 21,
   "id": "d1822194-5230-4725-8695-d1f182643313",
   "metadata": {},
   "outputs": [
    {
     "data": {
      "text/plain": [
       "CompositeResult(items=[ExpectationValueResult(value=(1.58447265625+0j), variance=(11.9540536403656+0j), confidence_interval=[((1.524723186269698+0j), (1.644222126230302+0j))]), ExpectationValueResult(value=(0.25146484375+0j), variance=(11.723543882369995+0j), confidence_interval=[((0.19143538427931606+0j), (0.31149430322068394+0j))]), ExpectationValueResult(value=(0.86572265625+0j), variance=(12.33379876613617+0j), confidence_interval=[((0.8044507659676063+0j), (0.9269945465323937+0j))])])"
      ]
     },
     "execution_count": 21,
     "metadata": {},
     "output_type": "execute_result"
    }
   ],
   "source": [
    "joint_evaluator.evaluate([[0, 1, 1, 2, 3, 5], [1, 1, 2, 3, 5, 8], [1, 2, 3, 5, 8, 13]])"
   ]
  },
  {
   "cell_type": "markdown",
   "id": "0efdd073",
   "metadata": {},
   "source": [
    "### Mitigator"
   ]
  },
  {
   "cell_type": "code",
   "execution_count": 22,
   "id": "49b6629b",
   "metadata": {},
   "outputs": [
    {
     "name": "stdout",
     "output_type": "stream",
     "text": [
      "w/o mitigation shots=2000, result=ExpectationValueResult(value=(1.594+0j), variance=(11.756284+0j), confidence_interval=[((1.4747452166165294+0j), (1.7132547833834708+0j))])\n",
      "w/  mitigation shots=2000, result=ExpectationValueResult(value=(1.675400798068432+0j), variance=(11.59415466283846+0j), confidence_interval=[((1.5575238507133178+0j), (1.7932777454235462+0j))])\n"
     ]
    }
   ],
   "source": [
    "from qiskit.evaluators.backends import ReadoutErrorMitigation\n",
    "\n",
    "backend = AerSimulator.from_backend(FakeBogota())\n",
    "mit = ReadoutErrorMitigation(backend, mitigation=\"tensored\", refresh=1, shots=2000, mit_pattern=[[0], [1]])\n",
    "expval_raw = PauliExpectationValue(ansatz, observable, backend=backend)\n",
    "expval_mit = PauliExpectationValue(ansatz, observable, backend=mit)\n",
    "shots = 2000\n",
    "print(f\"w/o mitigation shots={shots}, result={expval_raw.evaluate([0, 1, 1, 2, 3, 5], shots=shots)}\")\n",
    "print(f\"w/  mitigation shots={shots}, result={expval_mit.evaluate([0, 1, 1, 2, 3, 5], shots=shots)}\")"
   ]
  },
  {
   "cell_type": "code",
   "execution_count": null,
   "id": "fd4ce213",
   "metadata": {},
   "outputs": [],
   "source": []
  }
 ],
 "metadata": {
  "interpreter": {
   "hash": "55198b233f406dc59b712acd847cdd7a571fa057c585d106ba05aad0d31ffb93"
  },
  "kernelspec": {
   "display_name": "Terra",
   "language": "python",
   "name": "terra"
  },
  "language_info": {
   "codemirror_mode": {
    "name": "ipython",
    "version": 3
   },
   "file_extension": ".py",
   "mimetype": "text/x-python",
   "name": "python",
   "nbconvert_exporter": "python",
   "pygments_lexer": "ipython3",
   "version": "3.7.10"
  }
 },
 "nbformat": 4,
 "nbformat_minor": 5
}
