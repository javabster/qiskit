{
 "cells": [
  {
   "cell_type": "markdown",
   "id": "21e62c44",
   "metadata": {},
   "source": [
    "# New expectation value design PoC\n",
    "\n",
    "Takashi Imamichi and Ikko Hamamura (IBM Research - Tokyo)"
   ]
  },
  {
   "cell_type": "markdown",
   "id": "a02345fd",
   "metadata": {},
   "source": [
    "## Motivation\n",
    "\n",
    "We would like to realize a generic and simple interface for expectation values and their gradients.\n",
    "It it necessary to be simple enough to incorporate various features and backends.\n",
    "This could eventually be provided as Qiskit Runtime.\n",
    "Other primitives, e.g., fidelity and histogram, will be covered by other proposals.\n",
    "\n",
    "The current workflow with opflow to get an expectation value is as follows.\n",
    "```python\n",
    "# define the expectation value\n",
    "state = StateFn(...) # can be a circuit-based state or defined via a statevector or dictionary\n",
    "operator = # some opflow operator, e.g. PauliSumOp\n",
    "expectation = StateFn(operator, is_measurement=True) @ state\n",
    "\n",
    "# define how to evaluate\n",
    "expectation_converter = # method to evaluate the expected value, e.g. PauliExpectation, CVaRExpectation, AerPauliExpectation, ...\n",
    "circuit_sampler = CircuitSampler(backend)  # backend or simulator to execute the circuits\n",
    "\n",
    "# constructs opflow objects needed to evaluate the expectation value\n",
    "# e.g. creates circuits to measure in different Pauli bases\n",
    "converted = expectation_converter.convert(expectation) \n",
    "\n",
    "# evaluate the circuits (optionally with parameters, if the state had free parameters so far)\n",
    "sampled = circuit_sampler.convert(converted, parameters)\n",
    "\n",
    "# get final result\n",
    "result = sampled.eval()\n",
    "```\n",
    "\n",
    "Reference: [Expectation value re-design #6864](https://github.com/Qiskit/qiskit-terra/issues/6864)\n",
    "\n",
    "We propose a new design of the expectation value to make it generic and simple.\n",
    "Essentially, we aim at the following workflow.\n",
    "\n",
    "```python\n",
    "operator = ...\n",
    "circuit = ...\n",
    "expval = ExpectationValue(operator, circuit, backend)\n",
    "grad = ExpectationValueGradient(expval) # or ExpectationValueGradient(operator, circuit, backend)\n",
    "scipy.optimize.minimize(lambda x: expval.evaluate(x).value, lambda x: grad.evaluate(x).value)\n",
    "```\n",
    "\n",
    "### Planned Features\n",
    "\n",
    "- Grouping algorithms of operators, `AbelienGrouper` (tensor product basis grouper) and grouper with entanglement measurements)\n",
    "- Readout error mitigation algorithms, e.g., Complete mitigator, CTMP mitigator, [M3 mitigation](https://github.com/Qiskit-Partners/mthree)\n",
    "- Gate error mitigation, e.g., zero noise extrapolation\n",
    "- Classical shadow\n",
    "- Entanglement forging\n",
    "- Num. shots / circuits beyond backend/provider limit\n",
    "- On-chip parallelization\n",
    "- Bootstrap (sampling from probability distribution obtained from backend)\n",
    "- Merge shots (execute the same circuits again and merge the shots to realize a larger number of shots)"
   ]
  },
  {
   "cell_type": "markdown",
   "id": "b78a5565",
   "metadata": {},
   "source": [
    "## Outline of the new design\n",
    "\n",
    "We propose an abstract class for expectation value and gradient.\n",
    "An instance will be initialized with the following objects:\n",
    "\n",
    "- `state` $\\psi(\\theta)$: a (parametrized) quantum circuit or a state vector to be converted into a quantum circuit.\n",
    "- `observable` $H$: for simplicity, we allow opflow `PauliSumOp` (primitive is `SparsePauliOp`) or quantum_info operator `BaseOperator` that is compatible with `SparsePauliOp`.\n",
    "- `backend`: Either `IBMQBackend` or `AerSimulator`. We don't support legacy simulator backends and BasicAer.\n",
    "- (optional) `expval`: take an expectation value object as an input (e.g., gradient)\n",
    "\n",
    "Instances of this class are immutable.\n",
    "Users need to invoke the constructor to evaluate the expectation value of a different state or observable.\n",
    "\n",
    "Users use `ExpectationValue.evaluate(parameters)` to obtain the expectation value.\n",
    "The internal workflow consists of phases:\n",
    "\n",
    "1. `ExpectationValue._preprocessing` generates quantum circuits corresponding to the pair of quantum state and observable. The circuits are transpiled for the backend and maybe left parametrized. This will be invoked on demand to avoid overhead of the constructor.\n",
    "2. `ExpectationValue.evaluate(parameters)` puts parameter values to the transpiled circuits and executes them on the backend.\n",
    "3. `ExpectationValue._postprocessing` interprets the results of the backend into an expectation value and other information as `ExpectationValueResult`.\n",
    "\n",
    "Note: we allow `ExpectationValue.evaluate(parameters)` to process a set of parameters and the output will be `ExpectationValueArrayResult`. See an example later.\n",
    "\n",
    "`ExpectationValueGradient` may have the same interface and/or it may take `ExpectationValue` object as an input of the constructor."
   ]
  },
  {
   "cell_type": "markdown",
   "id": "da17b65c",
   "metadata": {},
   "source": [
    "## Current status as PoC\n",
    "\n",
    "The following classes and features have been implemented.\n",
    "\n",
    "Expectation value classes\n",
    "- `PauliExpectationValue`: expectation value for shot-based backends (both AerBackend and IBMQBackend) \n",
    "- `ExactExpectationValue`: exact expectation value with `SaveExpectationValueVariance` instruction supported only by Aer\n",
    "\n",
    "Gradient of expectation value classes\n",
    "- `FiniteDiffGradient`: finite difference gradient\n",
    "- `ParameterShiftGradient`: parameter shift rule for the simple cases (parameters appears only once and they have coefficient 1)\n",
    "\n",
    "Features\n",
    "- Separate transpilation of ansatz and Pauli strings\n",
    "  - A parameterized circuit corresponding to an ansatz is usually shared by Pauli strings that comprise the observable. This technique reduces the duplicate transpile of the shared part.\n",
    "  - [transpile ansatz and pauli-lists separately in VQE #6454](https://github.com/Qiskit/qiskit-terra/pull/6454)\n",
    "- Take a history of evaluations so that users can make a plot of optimization\n",
    "  - Optimization algorithms e.g., [Scipy.opimize.minimize](https://docs.scipy.org/doc/scipy/reference/generated/scipy.optimize.minimize.html), should take care of the history. But, [OptimizeResult](https://docs.scipy.org/doc/scipy/reference/generated/scipy.optimize.OptimizeResult.html#scipy.optimize.OptimizeResult) is not enough to include standard deviation and confidence interval of expectation values.\n",
    "- Backend wrapper\n",
    "  - Retry of job submission in case of cancel and/or network error\n",
    "  - Split circuits if the size is larger than `max_experiments`\n",
    "  - Copy circutis to realize users-set `shots` that is more than `max_shots`\n",
    "  - Readout error mitigation (tensored, complete, M3)\n",
    "    - Periodical calibration, e.g., calibration every 30 minutes\n",
    "\n",
    "Questions\n",
    "- Why does expval take care of backend as backend wrapper?\n",
    "  - `QuantumInstance` of terra and `IBMQJobManager` (ManagedJob) of IBMQ provider can take care of only the split of circuits to satisfy `max_experiments`. But, as far as we know, there is no feature to realize `shots` more than `max_shots`. If this feature is implemented as part of IBMQ provider, it cannot be used for other backends, e.g., AQT and IonQ. Should it be part of terra?\n",
    "  - We experimentally implemented preemptive readout error mitigation calibration, i.e., we put the calibration job between a set of jobs generated by the split or copy of circuits\n",
    "\n",
    "TODOs\n",
    "- Finalize the interface of the design\n",
    "- Make a PR"
   ]
  },
  {
   "cell_type": "code",
   "execution_count": 1,
   "id": "05da73c4",
   "metadata": {
    "tags": []
   },
   "outputs": [],
   "source": [
    "%load_ext autoreload\n",
    "%autoreload 2"
   ]
  },
  {
   "cell_type": "markdown",
   "id": "cdf67779",
   "metadata": {},
   "source": [
    "# ExpectationValue"
   ]
  },
  {
   "cell_type": "code",
   "execution_count": 2,
   "id": "fc97bb99",
   "metadata": {},
   "outputs": [],
   "source": [
    "import numpy as np"
   ]
  },
  {
   "cell_type": "code",
   "execution_count": 3,
   "id": "6104c3e9",
   "metadata": {},
   "outputs": [
    {
     "name": "stdout",
     "output_type": "stream",
     "text": [
      "observable\n",
      "-1.052373245772859 * II\n",
      "+ 0.39793742484318045 * IZ\n",
      "- 0.39793742484318045 * ZI\n",
      "- 0.01128010425623538 * ZZ\n",
      "+ 0.18093119978423156 * XX\n",
      "\n",
      "ansatz\n",
      "     ┌──────────┐     ┌──────────┐     ┌──────────┐\n",
      "q_0: ┤ Ry(θ[0]) ├──■──┤ Ry(θ[2]) ├──■──┤ Ry(θ[4]) ├\n",
      "     ├──────────┤┌─┴─┐├──────────┤┌─┴─┐├──────────┤\n",
      "q_1: ┤ Ry(θ[1]) ├┤ X ├┤ Ry(θ[3]) ├┤ X ├┤ Ry(θ[5]) ├\n",
      "     └──────────┘└───┘└──────────┘└───┘└──────────┘\n"
     ]
    }
   ],
   "source": [
    "from qiskit.circuit.library import RealAmplitudes\n",
    "from qiskit.opflow import PauliSumOp\n",
    "\n",
    "observable = PauliSumOp.from_list(\n",
    "    [\n",
    "        (\"II\", -1.052373245772859),\n",
    "        (\"IZ\", 0.39793742484318045),\n",
    "        (\"ZI\", -0.39793742484318045),\n",
    "        (\"ZZ\", -0.01128010425623538),\n",
    "        (\"XX\", 0.18093119978423156),\n",
    "    ]\n",
    ")\n",
    "print(\"observable\")\n",
    "print(observable)\n",
    "\n",
    "ansatz = RealAmplitudes(num_qubits=2, reps=2)\n",
    "print(\"\\nansatz\")\n",
    "print(ansatz)"
   ]
  },
  {
   "cell_type": "code",
   "execution_count": 4,
   "id": "ce866e21",
   "metadata": {},
   "outputs": [
    {
     "name": "stdout",
     "output_type": "stream",
     "text": [
      "-1.284366511861733\n"
     ]
    },
    {
     "name": "stderr",
     "output_type": "stream",
     "text": [
      "/Users/ima/tasks/1_2021/qiskit/terra/qiskit/quantum_info/states/statevector.py:444: DeprecationWarning: The SparsePauliOp.table method is deprecated as of Qiskit Terra 0.19.0 and will be removed no sooner than 3 months after the releasedate. Use SparsePauliOp.paulis method instead.\n",
      "  for z, x, coeff in zip(oper.table.Z, oper.table.X, oper.coeffs)\n"
     ]
    }
   ],
   "source": [
    "from qiskit.quantum_info import Statevector\n",
    "\n",
    "expval = Statevector(ansatz.bind_parameters([0, 1, 1, 2, 3, 5])).expectation_value(\n",
    "    observable.primitive\n",
    ")\n",
    "print(expval.real)"
   ]
  },
  {
   "cell_type": "markdown",
   "id": "3e5bc903",
   "metadata": {},
   "source": [
    "## ExpectationValue class"
   ]
  },
  {
   "cell_type": "code",
   "execution_count": 5,
   "id": "2dd0c134",
   "metadata": {},
   "outputs": [],
   "source": [
    "from qiskit.evaluators import PauliExpectationValue"
   ]
  },
  {
   "cell_type": "markdown",
   "id": "01eba673",
   "metadata": {},
   "source": [
    "### PauliExpectationValue\n",
    "\n",
    "Evaluate the expectation value by sampling. This supports both AerSimulator and IBMQ backends."
   ]
  },
  {
   "cell_type": "code",
   "execution_count": 6,
   "id": "578ae95d",
   "metadata": {},
   "outputs": [],
   "source": [
    "from qiskit.providers.aer import AerSimulator\n",
    "\n",
    "backend = AerSimulator()"
   ]
  },
  {
   "cell_type": "code",
   "execution_count": 7,
   "id": "624c2fc9",
   "metadata": {
    "tags": []
   },
   "outputs": [
    {
     "data": {
      "text/plain": [
       "ExpectationValueResult(value=-1.2643954491538492, variance=0.30478064129923726, confidence_interval=(-1.2933540186695045, -1.2354368796381938))"
      ]
     },
     "execution_count": 7,
     "metadata": {},
     "output_type": "execute_result"
    }
   ],
   "source": [
    "expval = PauliExpectationValue(ansatz, observable, backend=backend)\n",
    "expval.evaluate([0, 1, 1, 2, 3, 5], shos=1000)"
   ]
  },
  {
   "cell_type": "code",
   "execution_count": 8,
   "id": "49e070be",
   "metadata": {},
   "outputs": [
    {
     "data": {
      "text/plain": [
       "ExpectationValueResult(value=-1.2534846729748215, variance=0.30840672058176705, confidence_interval=(-1.2826008893185852, -1.2243684566310578))"
      ]
     },
     "execution_count": 8,
     "metadata": {},
     "output_type": "execute_result"
    }
   ],
   "source": [
    "# pre-binding\n",
    "\n",
    "circuit = ansatz.bind_parameters([0, 1, 1, 2, 3, 5])\n",
    "expval = PauliExpectationValue(circuit, observable, backend=backend)\n",
    "expval.evaluate()"
   ]
  },
  {
   "cell_type": "code",
   "execution_count": 9,
   "id": "18535167",
   "metadata": {},
   "outputs": [
    {
     "data": {
      "text/plain": [
       "ExpectationValueArrayResult(values=array([-1.27750356, -1.32206984]), variances=array([0.30333885, 0.24123261]), confidence_intervals=array([[-1.29438487, -1.26062225],\n",
       "       [-1.3367734 , -1.30736628]]))"
      ]
     },
     "execution_count": 9,
     "metadata": {},
     "output_type": "execute_result"
    }
   ],
   "source": [
    "# multi prameters\n",
    "\n",
    "expval = PauliExpectationValue(ansatz, observable, backend=backend)\n",
    "expval.evaluate([[0, 1, 1, 2, 3, 5], [1, 1, 2, 3, 5, 8]], shots=3000)"
   ]
  },
  {
   "cell_type": "code",
   "execution_count": 10,
   "id": "18ed7ddc",
   "metadata": {},
   "outputs": [
    {
     "data": {
      "text/plain": [
       "ExpectationValueArrayResult(values=array([-1.28481191, -1.31885668]), variances=array([0.29967444, 0.24262535]), confidence_intervals=array([[-1.29496649, -1.27465733],\n",
       "       [-1.32778312, -1.30993024]]))"
      ]
     },
     "execution_count": 10,
     "metadata": {},
     "output_type": "execute_result"
    }
   ],
   "source": [
    "# can pass ndarray\n",
    "expval = PauliExpectationValue(ansatz, observable, backend=backend)\n",
    "expval.evaluate(np.array([[0, 1, 1, 2, 3, 5], [1, 1, 2, 3, 5, 8]]), shots=8192)"
   ]
  },
  {
   "cell_type": "markdown",
   "id": "257787d2",
   "metadata": {},
   "source": [
    "### Exact simulation by SaveExpectationValueVariance"
   ]
  },
  {
   "cell_type": "code",
   "execution_count": 11,
   "id": "e602573e",
   "metadata": {},
   "outputs": [],
   "source": [
    "from qiskit.evaluators import ExactExpectationValue"
   ]
  },
  {
   "cell_type": "code",
   "execution_count": 12,
   "id": "a795bd78",
   "metadata": {},
   "outputs": [
    {
     "data": {
      "text/plain": [
       "ExpectationValueResult(value=-1.2843665118617325, variance=0.26528532962023577, confidence_interval=None)"
      ]
     },
     "execution_count": 12,
     "metadata": {},
     "output_type": "execute_result"
    }
   ],
   "source": [
    "expval = ExactExpectationValue(ansatz, observable, backend=backend)\n",
    "expval.evaluate([0, 1, 1, 2, 3, 5])"
   ]
  },
  {
   "cell_type": "code",
   "execution_count": 13,
   "id": "60687fe8",
   "metadata": {},
   "outputs": [
    {
     "data": {
      "text/plain": [
       "ExpectationValueArrayResult(values=array([-1.28436651, -1.31875263]), variances=array([0.26528533, 0.42691205]), confidence_intervals=array([None, None], dtype=object))"
      ]
     },
     "execution_count": 13,
     "metadata": {},
     "output_type": "execute_result"
    }
   ],
   "source": [
    "expval = ExactExpectationValue(ansatz, observable, backend=backend)\n",
    "expval.evaluate(np.array([[0, 1, 1, 2, 3, 5], [1, 1, 2, 3, 5, 8]]))"
   ]
  },
  {
   "cell_type": "markdown",
   "id": "1c94c403",
   "metadata": {},
   "source": [
    "### Transpiled Circuits"
   ]
  },
  {
   "cell_type": "code",
   "execution_count": 14,
   "id": "3e1a8842",
   "metadata": {},
   "outputs": [
    {
     "name": "stdout",
     "output_type": "stream",
     "text": [
      "ExpectationValueResult(value=-1.225751220713312, variance=0.32477994271602434, confidence_interval=(-1.2556129886610137, -1.1958894527656105))\n",
      "global phase: π\n",
      "                                                                »\n",
      "ancilla_0 -> 0 ─────────────────────────────────────────────────»\n",
      "                                                                »\n",
      "ancilla_1 -> 1 ─────────────────────────────────────────────────»\n",
      "               ┌────┐┌──────────────┐┌────┐┌────────┐┌───┐┌────┐»\n",
      "      q_1 -> 2 ┤ √X ├┤ Rz(θ[1] + π) ├┤ √X ├┤ Rz(3π) ├┤ X ├┤ √X ├»\n",
      "               ├────┤├──────────────┤├────┤├────────┤└─┬─┘├────┤»\n",
      "      q_0 -> 3 ┤ √X ├┤ Rz(θ[0] + π) ├┤ √X ├┤ Rz(3π) ├──■──┤ √X ├»\n",
      "               └────┘└──────────────┘└────┘└────────┘     └────┘»\n",
      "ancilla_2 -> 4 ─────────────────────────────────────────────────»\n",
      "                                                                »\n",
      "          c: 2/═════════════════════════════════════════════════»\n",
      "                                                                »\n",
      "«                                                                          »\n",
      "«ancilla_0 -> 0 ───────────────────────────────────────────────────────────»\n",
      "«                                                                          »\n",
      "«ancilla_1 -> 1 ───────────────────────────────────────────────────────────»\n",
      "«               ┌──────────────┐┌────┐┌────────┐┌───┐┌────┐┌──────────────┐»\n",
      "«      q_1 -> 2 ┤ Rz(θ[3] + π) ├┤ √X ├┤ Rz(3π) ├┤ X ├┤ √X ├┤ Rz(θ[5] + π) ├»\n",
      "«               ├──────────────┤├────┤├────────┤└─┬─┘├────┤├──────────────┤»\n",
      "«      q_0 -> 3 ┤ Rz(θ[2] + π) ├┤ √X ├┤ Rz(3π) ├──■──┤ √X ├┤ Rz(θ[4] + π) ├»\n",
      "«               └──────────────┘└────┘└────────┘     └────┘└──────────────┘»\n",
      "«ancilla_2 -> 4 ───────────────────────────────────────────────────────────»\n",
      "«                                                                          »\n",
      "«          c: 2/═══════════════════════════════════════════════════════════»\n",
      "«                                                                          »\n",
      "«                                     \n",
      "«ancilla_0 -> 0 ──────────────────────\n",
      "«                                     \n",
      "«ancilla_1 -> 1 ──────────────────────\n",
      "«               ┌────┐┌────────┐   ┌─┐\n",
      "«      q_1 -> 2 ┤ √X ├┤ Rz(3π) ├───┤M├\n",
      "«               ├────┤├────────┤┌─┐└╥┘\n",
      "«      q_0 -> 3 ┤ √X ├┤ Rz(3π) ├┤M├─╫─\n",
      "«               └────┘└────────┘└╥┘ ║ \n",
      "«ancilla_2 -> 4 ─────────────────╫──╫─\n",
      "«                                ║  ║ \n",
      "«          c: 2/═════════════════╩══╩═\n",
      "«                                0  1 \n",
      "global phase: π\n",
      "                                                                »\n",
      "ancilla_0 -> 0 ─────────────────────────────────────────────────»\n",
      "                                                                »\n",
      "ancilla_1 -> 1 ─────────────────────────────────────────────────»\n",
      "               ┌────┐┌──────────────┐┌────┐┌────────┐┌───┐┌────┐»\n",
      "      q_1 -> 2 ┤ √X ├┤ Rz(θ[1] + π) ├┤ √X ├┤ Rz(3π) ├┤ X ├┤ √X ├»\n",
      "               ├────┤├──────────────┤├────┤├────────┤└─┬─┘├────┤»\n",
      "      q_0 -> 3 ┤ √X ├┤ Rz(θ[0] + π) ├┤ √X ├┤ Rz(3π) ├──■──┤ √X ├»\n",
      "               └────┘└──────────────┘└────┘└────────┘     └────┘»\n",
      "ancilla_2 -> 4 ─────────────────────────────────────────────────»\n",
      "                                                                »\n",
      "          c: 2/═════════════════════════════════════════════════»\n",
      "                                                                »\n",
      "«                                                                          »\n",
      "«ancilla_0 -> 0 ───────────────────────────────────────────────────────────»\n",
      "«                                                                          »\n",
      "«ancilla_1 -> 1 ───────────────────────────────────────────────────────────»\n",
      "«               ┌──────────────┐┌────┐┌────────┐┌───┐┌────┐┌──────────────┐»\n",
      "«      q_1 -> 2 ┤ Rz(θ[3] + π) ├┤ √X ├┤ Rz(3π) ├┤ X ├┤ √X ├┤ Rz(θ[5] + π) ├»\n",
      "«               ├──────────────┤├────┤├────────┤└─┬─┘├────┤├──────────────┤»\n",
      "«      q_0 -> 3 ┤ Rz(θ[2] + π) ├┤ √X ├┤ Rz(3π) ├──■──┤ √X ├┤ Rz(θ[4] + π) ├»\n",
      "«               └──────────────┘└────┘└────────┘     └────┘└──────────────┘»\n",
      "«ancilla_2 -> 4 ───────────────────────────────────────────────────────────»\n",
      "«                                                                          »\n",
      "«          c: 2/═══════════════════════════════════════════════════════════»\n",
      "«                                                                          »\n",
      "«                                     \n",
      "«ancilla_0 -> 0 ──────────────────────\n",
      "«                                     \n",
      "«ancilla_1 -> 1 ──────────────────────\n",
      "«               ┌────┐┌────────┐   ┌─┐\n",
      "«      q_1 -> 2 ┤ √X ├┤ Rz(3π) ├───┤M├\n",
      "«               ├────┤├────────┤┌─┐└╥┘\n",
      "«      q_0 -> 3 ┤ √X ├┤ Rz(3π) ├┤M├─╫─\n",
      "«               └────┘└────────┘└╥┘ ║ \n",
      "«ancilla_2 -> 4 ─────────────────╫──╫─\n",
      "«                                ║  ║ \n",
      "«          c: 2/═════════════════╩══╩═\n",
      "«                                0  1 \n",
      "global phase: π\n",
      "                                                                »\n",
      "ancilla_0 -> 0 ─────────────────────────────────────────────────»\n",
      "                                                                »\n",
      "ancilla_1 -> 1 ─────────────────────────────────────────────────»\n",
      "               ┌────┐┌──────────────┐┌────┐┌────────┐┌───┐┌────┐»\n",
      "      q_1 -> 2 ┤ √X ├┤ Rz(θ[1] + π) ├┤ √X ├┤ Rz(3π) ├┤ X ├┤ √X ├»\n",
      "               ├────┤├──────────────┤├────┤├────────┤└─┬─┘├────┤»\n",
      "      q_0 -> 3 ┤ √X ├┤ Rz(θ[0] + π) ├┤ √X ├┤ Rz(3π) ├──■──┤ √X ├»\n",
      "               └────┘└──────────────┘└────┘└────────┘     └────┘»\n",
      "ancilla_2 -> 4 ─────────────────────────────────────────────────»\n",
      "                                                                »\n",
      "          c: 2/═════════════════════════════════════════════════»\n",
      "                                                                »\n",
      "«                                                                          »\n",
      "«ancilla_0 -> 0 ───────────────────────────────────────────────────────────»\n",
      "«                                                                          »\n",
      "«ancilla_1 -> 1 ───────────────────────────────────────────────────────────»\n",
      "«               ┌──────────────┐┌────┐┌────────┐┌───┐┌────┐┌──────────────┐»\n",
      "«      q_1 -> 2 ┤ Rz(θ[3] + π) ├┤ √X ├┤ Rz(3π) ├┤ X ├┤ √X ├┤ Rz(θ[5] + π) ├»\n",
      "«               ├──────────────┤├────┤├────────┤└─┬─┘├────┤├──────────────┤»\n",
      "«      q_0 -> 3 ┤ Rz(θ[2] + π) ├┤ √X ├┤ Rz(3π) ├──■──┤ √X ├┤ Rz(θ[4] + π) ├»\n",
      "«               └──────────────┘└────┘└────────┘     └────┘└──────────────┘»\n",
      "«ancilla_2 -> 4 ───────────────────────────────────────────────────────────»\n",
      "«                                                                          »\n",
      "«          c: 2/═══════════════════════════════════════════════════════════»\n",
      "«                                                                          »\n",
      "«                                     \n",
      "«ancilla_0 -> 0 ──────────────────────\n",
      "«                                     \n",
      "«ancilla_1 -> 1 ──────────────────────\n",
      "«               ┌────┐┌────────┐   ┌─┐\n",
      "«      q_1 -> 2 ┤ √X ├┤ Rz(3π) ├───┤M├\n",
      "«               ├────┤├────────┤┌─┐└╥┘\n",
      "«      q_0 -> 3 ┤ √X ├┤ Rz(3π) ├┤M├─╫─\n",
      "«               └────┘└────────┘└╥┘ ║ \n",
      "«ancilla_2 -> 4 ─────────────────╫──╫─\n",
      "«                                ║  ║ \n",
      "«          c: 2/═════════════════╩══╩═\n",
      "«                                0  1 \n",
      "global phase: π\n",
      "                                                                »\n",
      "ancilla_0 -> 0 ─────────────────────────────────────────────────»\n",
      "                                                                »\n",
      "ancilla_1 -> 1 ─────────────────────────────────────────────────»\n",
      "               ┌────┐┌──────────────┐┌────┐┌────────┐┌───┐┌────┐»\n",
      "      q_1 -> 2 ┤ √X ├┤ Rz(θ[1] + π) ├┤ √X ├┤ Rz(3π) ├┤ X ├┤ √X ├»\n",
      "               ├────┤├──────────────┤├────┤├────────┤└─┬─┘├────┤»\n",
      "      q_0 -> 3 ┤ √X ├┤ Rz(θ[0] + π) ├┤ √X ├┤ Rz(3π) ├──■──┤ √X ├»\n",
      "               └────┘└──────────────┘└────┘└────────┘     └────┘»\n",
      "ancilla_2 -> 4 ─────────────────────────────────────────────────»\n",
      "                                                                »\n",
      "          c: 2/═════════════════════════════════════════════════»\n",
      "                                                                »\n",
      "«                                                                          »\n",
      "«ancilla_0 -> 0 ───────────────────────────────────────────────────────────»\n",
      "«                                                                          »\n",
      "«ancilla_1 -> 1 ───────────────────────────────────────────────────────────»\n",
      "«               ┌──────────────┐┌────┐┌────────┐┌───┐┌────┐┌──────────────┐»\n",
      "«      q_1 -> 2 ┤ Rz(θ[3] + π) ├┤ √X ├┤ Rz(3π) ├┤ X ├┤ √X ├┤ Rz(θ[5] + π) ├»\n",
      "«               ├──────────────┤├────┤├────────┤└─┬─┘├────┤├──────────────┤»\n",
      "«      q_0 -> 3 ┤ Rz(θ[2] + π) ├┤ √X ├┤ Rz(3π) ├──■──┤ √X ├┤ Rz(θ[4] + π) ├»\n",
      "«               └──────────────┘└────┘└────────┘     └────┘└──────────────┘»\n",
      "«ancilla_2 -> 4 ───────────────────────────────────────────────────────────»\n",
      "«                                                                          »\n",
      "«          c: 2/═══════════════════════════════════════════════════════════»\n",
      "«                                                                          »\n",
      "«                                     \n",
      "«ancilla_0 -> 0 ──────────────────────\n",
      "«                                     \n",
      "«ancilla_1 -> 1 ──────────────────────\n",
      "«               ┌────┐┌────────┐   ┌─┐\n",
      "«      q_1 -> 2 ┤ √X ├┤ Rz(3π) ├───┤M├\n",
      "«               ├────┤├────────┤┌─┐└╥┘\n",
      "«      q_0 -> 3 ┤ √X ├┤ Rz(3π) ├┤M├─╫─\n",
      "«               └────┘└────────┘└╥┘ ║ \n",
      "«ancilla_2 -> 4 ─────────────────╫──╫─\n",
      "«                                ║  ║ \n",
      "«          c: 2/═════════════════╩══╩═\n",
      "«                                0  1 \n",
      "global phase: π\n",
      "                                                                »\n",
      "ancilla_0 -> 0 ─────────────────────────────────────────────────»\n",
      "                                                                »\n",
      "ancilla_1 -> 1 ─────────────────────────────────────────────────»\n",
      "               ┌────┐┌──────────────┐┌────┐┌────────┐┌───┐┌────┐»\n",
      "      q_1 -> 2 ┤ √X ├┤ Rz(θ[1] + π) ├┤ √X ├┤ Rz(3π) ├┤ X ├┤ √X ├»\n",
      "               ├────┤├──────────────┤├────┤├────────┤└─┬─┘├────┤»\n",
      "      q_0 -> 3 ┤ √X ├┤ Rz(θ[0] + π) ├┤ √X ├┤ Rz(3π) ├──■──┤ √X ├»\n",
      "               └────┘└──────────────┘└────┘└────────┘     └────┘»\n",
      "ancilla_2 -> 4 ─────────────────────────────────────────────────»\n",
      "                                                                »\n",
      "          c: 2/═════════════════════════════════════════════════»\n",
      "                                                                »\n",
      "«                                                                          »\n",
      "«ancilla_0 -> 0 ───────────────────────────────────────────────────────────»\n",
      "«                                                                          »\n",
      "«ancilla_1 -> 1 ───────────────────────────────────────────────────────────»\n",
      "«               ┌──────────────┐┌────┐┌────────┐┌───┐┌────┐┌──────────────┐»\n",
      "«      q_1 -> 2 ┤ Rz(θ[3] + π) ├┤ √X ├┤ Rz(3π) ├┤ X ├┤ √X ├┤ Rz(θ[5] + π) ├»\n",
      "«               ├──────────────┤├────┤├────────┤└─┬─┘├────┤├──────────────┤»\n",
      "«      q_0 -> 3 ┤ Rz(θ[2] + π) ├┤ √X ├┤ Rz(3π) ├──■──┤ √X ├┤ Rz(θ[4] + π) ├»\n",
      "«               └──────────────┘└────┘└────────┘     └────┘└──────────────┘»\n",
      "«ancilla_2 -> 4 ───────────────────────────────────────────────────────────»\n",
      "«                                                                          »\n",
      "«          c: 2/═══════════════════════════════════════════════════════════»\n",
      "«                                                                          »\n",
      "«                                                                 \n",
      "«ancilla_0 -> 0 ──────────────────────────────────────────────────\n",
      "«                                                                 \n",
      "«ancilla_1 -> 1 ──────────────────────────────────────────────────\n",
      "«               ┌────┐┌────────┐┌─────────┐┌────┐┌─────────┐   ┌─┐\n",
      "«      q_1 -> 2 ┤ √X ├┤ Rz(3π) ├┤ Rz(π/2) ├┤ √X ├┤ Rz(π/2) ├───┤M├\n",
      "«               ├────┤├────────┤├─────────┤├────┤├─────────┤┌─┐└╥┘\n",
      "«      q_0 -> 3 ┤ √X ├┤ Rz(3π) ├┤ Rz(π/2) ├┤ √X ├┤ Rz(π/2) ├┤M├─╫─\n",
      "«               └────┘└────────┘└─────────┘└────┘└─────────┘└╥┘ ║ \n",
      "«ancilla_2 -> 4 ─────────────────────────────────────────────╫──╫─\n",
      "«                                                            ║  ║ \n",
      "«          c: 2/═════════════════════════════════════════════╩══╩═\n",
      "«                                                            0  1 \n"
     ]
    }
   ],
   "source": [
    "from qiskit.test.mock import FakeBogota\n",
    "\n",
    "backend = AerSimulator.from_backend(FakeBogota())\n",
    "\n",
    "expval = PauliExpectationValue(ansatz, observable, backend=backend)\n",
    "expval.set_transpile_options(initial_layout=[3, 2])\n",
    "print(expval.evaluate([0, 1, 1, 2, 3, 5]))\n",
    "for circ in expval.transpiled_circuits:\n",
    "    print(circ)"
   ]
  },
  {
   "cell_type": "markdown",
   "id": "82a30637",
   "metadata": {},
   "source": [
    "### Transpile options and Run options"
   ]
  },
  {
   "cell_type": "code",
   "execution_count": 15,
   "id": "b663b5ef",
   "metadata": {},
   "outputs": [
    {
     "data": {
      "text/plain": [
       "ExpectationValueResult(value=-1.2588173621730467, variance=0.31381753205614954, confidence_interval=(-1.2617898460690573, -1.2558448782770362))"
      ]
     },
     "execution_count": 15,
     "metadata": {},
     "output_type": "execute_result"
    }
   ],
   "source": [
    "expval = PauliExpectationValue(ansatz, observable, backend=backend)\n",
    "# setter\n",
    "expval.set_transpile_options(optimization_level=2)\n",
    "expval.set_run_options(shots=100_000)\n",
    "expval.evaluate([0, 1, 1, 2, 3, 5])"
   ]
  },
  {
   "cell_type": "code",
   "execution_count": 16,
   "id": "2d5b5c32",
   "metadata": {},
   "outputs": [
    {
     "data": {
      "text/plain": [
       "ExpectationValueResult(value=-1.2491691880342957, variance=0.31748828290124875, confidence_interval=(-1.259614879193129, -1.2387234968754623))"
      ]
     },
     "execution_count": 16,
     "metadata": {},
     "output_type": "execute_result"
    }
   ],
   "source": [
    "# Method chain\n",
    "expval.set_run_options(shots=8192).evaluate([0, 1, 1, 2, 3, 5])"
   ]
  },
  {
   "cell_type": "code",
   "execution_count": 17,
   "id": "45d115db",
   "metadata": {},
   "outputs": [
    {
     "data": {
      "text/plain": [
       "ExpectationValueResult(value=-1.2195858720581072, variance=0.32876036388678165, confidence_interval=(-1.275056325770024, -1.1641154183461904))"
      ]
     },
     "execution_count": 17,
     "metadata": {},
     "output_type": "execute_result"
    }
   ],
   "source": [
    "# evaluate's option\n",
    "expval.evaluate([0, 1, 1, 2, 3, 5], shots=300)"
   ]
  },
  {
   "cell_type": "markdown",
   "id": "ec7791bb",
   "metadata": {},
   "source": [
    "### Composite Evaluator"
   ]
  },
  {
   "cell_type": "code",
   "execution_count": 18,
   "id": "60e1deaa",
   "metadata": {},
   "outputs": [],
   "source": [
    "from qiskit.evaluators import JointEvaluator"
   ]
  },
  {
   "cell_type": "code",
   "execution_count": 19,
   "id": "c7bff8ef",
   "metadata": {},
   "outputs": [
    {
     "data": {
      "text/plain": [
       "5"
      ]
     },
     "execution_count": 19,
     "metadata": {},
     "output_type": "execute_result"
    }
   ],
   "source": [
    "len(expval.transpiled_circuits)"
   ]
  },
  {
   "cell_type": "code",
   "execution_count": 20,
   "id": "c2b25c81",
   "metadata": {},
   "outputs": [],
   "source": [
    "joint_evaluator = JointEvaluator([expval, expval, expval])  # can be different evaluators"
   ]
  },
  {
   "cell_type": "code",
   "execution_count": 21,
   "id": "43412a24",
   "metadata": {},
   "outputs": [
    {
     "data": {
      "text/plain": [
       "15"
      ]
     },
     "execution_count": 21,
     "metadata": {},
     "output_type": "execute_result"
    }
   ],
   "source": [
    "len(joint_evaluator.transpiled_circuits)  # 5 × 3"
   ]
  },
  {
   "cell_type": "code",
   "execution_count": 22,
   "id": "cf8466ff",
   "metadata": {},
   "outputs": [
    {
     "data": {
      "text/plain": [
       "CompositeResult(items=[ExpectationValueResult(value=-1.2272480906746472, variance=0.12777298271139736, confidence_interval=(-1.238418511590132, -1.2160776697591624)), ExpectationValueResult(value=-1.2272480906746472, variance=0.12777298271139736, confidence_interval=(-1.238418511590132, -1.2160776697591624)), ExpectationValueResult(value=-1.2272480906746472, variance=0.12777298271139736, confidence_interval=(-1.238418511590132, -1.2160776697591624))])"
      ]
     },
     "execution_count": 22,
     "metadata": {},
     "output_type": "execute_result"
    }
   ],
   "source": [
    "joint_evaluator.evaluate([[0, 1, 1, 2, 3, 5], [1, 1, 2, 3, 5, 8], [1, 2, 3, 5, 8, 13]])"
   ]
  },
  {
   "cell_type": "markdown",
   "id": "9185b9ae",
   "metadata": {},
   "source": [
    "### Large number of shots"
   ]
  },
  {
   "cell_type": "code",
   "execution_count": 23,
   "id": "620b76bb",
   "metadata": {},
   "outputs": [
    {
     "name": "stdout",
     "output_type": "stream",
     "text": [
      "max_shots 8192\n",
      "Number of shots specified: 10000 exceeds max_shots property of the backend: 8192.\n"
     ]
    }
   ],
   "source": [
    "try:\n",
    "    from qiskit import QuantumCircuit, QiskitError\n",
    "    qc = QuantumCircuit(1, 1)\n",
    "    qc.h(0)\n",
    "    qc.measure(0, 0)\n",
    "    from qiskit import IBMQ\n",
    "    prov = IBMQ.load_account()\n",
    "    ibmq_qasm_sim = prov.get_backend('ibmq_qasm_simulator')\n",
    "    print(f\"max_shots {backend.configuration().max_shots}\")\n",
    "    ibmq_qasm_sim.run(qc, shots=10000).result().get_counts()\n",
    "except QiskitError as ex:\n",
    "    print(ex.message)"
   ]
  },
  {
   "cell_type": "code",
   "execution_count": 24,
   "id": "9cb73555",
   "metadata": {},
   "outputs": [
    {
     "data": {
      "text/plain": [
       "ExpectationValueResult(value=-1.2882247208906341, variance=0.2995261141086044, confidence_interval=(-1.2974128839413253, -1.279036557839943))"
      ]
     },
     "execution_count": 24,
     "metadata": {},
     "output_type": "execute_result"
    }
   ],
   "source": [
    "expval = PauliExpectationValue(ansatz, observable, backend=ibmq_qasm_sim)\n",
    "expval.evaluate([0, 1, 1, 2, 3, 5], shots=10000)"
   ]
  },
  {
   "cell_type": "markdown",
   "id": "88234028",
   "metadata": {},
   "source": [
    "### Readout error mitigation"
   ]
  },
  {
   "cell_type": "code",
   "execution_count": 25,
   "id": "c992bb1f",
   "metadata": {},
   "outputs": [
    {
     "name": "stdout",
     "output_type": "stream",
     "text": [
      "w/o mitigation shots=4000, result=ExpectationValueResult(value=-1.2544919252232145, variance=0.31292875141394244, confidence_interval=(-1.2693368247969443, -1.2396470256494847))\n",
      "w/ tensored mitigation shots=4000, result=ExpectationValueResult(value=-1.2828038316765074, variance=0.3039347743417342, confidence_interval=(-1.2974359722934574, -1.2681716910595573))\n",
      "w/ M3 mitigation shots=4000, result=ExpectationValueResult(value=-1.2736400294126682, variance=0.30426174579278326, confidence_interval=(-1.2882816996068298, -1.2589983592185066))\n"
     ]
    }
   ],
   "source": [
    "from qiskit.evaluators.backends import ReadoutErrorMitigation\n",
    "\n",
    "backend = AerSimulator.from_backend(FakeBogota())\n",
    "mit_tensored = ReadoutErrorMitigation(\n",
    "    backend, mitigation=\"tensored\", refresh=600, shots=2000, mit_pattern=[[0], [1]]\n",
    ")\n",
    "mit_mthree = ReadoutErrorMitigation(\n",
    "    backend, mitigation=\"mthree\", refresh=600, shots=2000, qubits=[0, 1]\n",
    ")\n",
    "expval_raw = PauliExpectationValue(ansatz, observable, backend=backend)\n",
    "expval_tensored = PauliExpectationValue(ansatz, observable, backend=mit_tensored)\n",
    "expval_mthree = PauliExpectationValue(ansatz, observable, backend=mit_mthree)\n",
    "shots = 4000\n",
    "print(\n",
    "    f\"w/o mitigation shots={shots}, result={expval_raw.evaluate([0, 1, 1, 2, 3, 5], shots=shots)}\"\n",
    ")\n",
    "print(\n",
    "    f\"w/ tensored mitigation shots={shots}, result={expval_tensored.evaluate([0, 1, 1, 2, 3, 5], shots=shots)}\"\n",
    ")\n",
    "print(\n",
    "    f\"w/ M3 mitigation shots={shots}, result={expval_mthree.evaluate([0, 1, 1, 2, 3, 5], shots=shots)}\"\n",
    ")"
   ]
  },
  {
   "cell_type": "markdown",
   "id": "ce3810ee",
   "metadata": {},
   "source": [
    "### Gradient of expectation value"
   ]
  },
  {
   "cell_type": "code",
   "execution_count": 26,
   "id": "3070586b",
   "metadata": {},
   "outputs": [],
   "source": [
    "from qiskit.evaluators.expectation_value.expectation_value_gradient import (\n",
    "    FiniteDiffGradient,\n",
    "    ParameterShiftGradient,\n",
    ")"
   ]
  },
  {
   "cell_type": "code",
   "execution_count": 27,
   "id": "06c9d4ac",
   "metadata": {
    "tags": []
   },
   "outputs": [
    {
     "name": "stdout",
     "output_type": "stream",
     "text": [
      "fin diff of exact [ 0.28213347  0.42656751  0.20442583  0.42656749 -0.17291453  0.0589814 ]\n",
      "param shift of exact [ 0.28213349  0.42656754  0.20442588  0.42656754 -0.17291452  0.05898141]\n",
      "fin diff w/o mit [ 0.03400056  0.35468042 -0.0225191  -0.00933897 -0.38293762 -0.07825139]\n",
      "param shift w/o mit [ 0.24897222  0.38652135  0.19106899  0.38817866 -0.14331993  0.05368115]\n",
      "fin diff w/  mit [ 0.26239431  0.29226665  0.09738085  0.33411432 -0.14146992 -0.09708061]\n",
      "param shift w/  mit [ 0.28675216  0.40320845  0.21501712  0.41117286 -0.16355165  0.0419902 ]\n"
     ]
    }
   ],
   "source": [
    "parameters = [0, 1, 1, 2, 3, 5]\n",
    "\n",
    "exact_expval = ExactExpectationValue(ansatz, observable, backend=AerSimulator())\n",
    "exact_findiff = FiniteDiffGradient(exact_expval, 1e-8)\n",
    "print(f\"fin diff of exact {exact_findiff.evaluate(parameters).values}\")\n",
    "\n",
    "exact_expval = ExactExpectationValue(ansatz, observable, backend=AerSimulator())\n",
    "exact_findiff = ParameterShiftGradient(exact_expval)\n",
    "print(f\"param shift of exact {exact_findiff.evaluate([0, 1, 1, 2, 3, 5]).values}\")\n",
    "\n",
    "shots = 2000\n",
    "findiff = FiniteDiffGradient(expval_raw, 1e-1)\n",
    "paramshift = ParameterShiftGradient(expval_raw)\n",
    "print(f\"fin diff w/o mit {findiff.evaluate(parameters, shots=shots).values}\")\n",
    "print(\n",
    "    f\"param shift w/o mit {paramshift.evaluate(parameters, shots=shots).values}\"\n",
    ")\n",
    "\n",
    "findiff = FiniteDiffGradient(expval_mthree, 1e-1)\n",
    "paramshift = ParameterShiftGradient(expval_mthree)\n",
    "print(f\"fin diff w/  mit {findiff.evaluate([0, 1, 1, 2, 3, 5], shots=shots).values}\")\n",
    "print(\n",
    "    f\"param shift w/  mit {paramshift.evaluate(parameters, shots=shots).values}\"\n",
    ")"
   ]
  },
  {
   "cell_type": "markdown",
   "id": "ced77786",
   "metadata": {},
   "source": [
    "### VQE by Scipy optimizer"
   ]
  },
  {
   "cell_type": "code",
   "execution_count": 28,
   "id": "7dd56dfc",
   "metadata": {},
   "outputs": [
    {
     "name": "stdout",
     "output_type": "stream",
     "text": [
      "      fun: -1.2753203352435865\n",
      " hess_inv: array([[ 1.02981002e+00, -1.44578694e-01, -2.74772820e-01,\n",
      "        -1.69375145e-01,  7.68926135e-02,  2.65650004e-02],\n",
      "       [-1.44578694e-01,  8.97373602e-01,  1.02053532e+00,\n",
      "         1.47922078e-03, -1.09270416e-01, -1.75471773e-01],\n",
      "       [-2.74772820e-01,  1.02053532e+00,  7.01190119e+00,\n",
      "         1.06256473e+00, -5.63607585e-01, -5.91451354e-01],\n",
      "       [-1.69375145e-01,  1.47922078e-03,  1.06256473e+00,\n",
      "         1.10343644e+00, -1.66827239e-01, -1.85921851e-01],\n",
      "       [ 7.68926135e-02, -1.09270416e-01, -5.63607585e-01,\n",
      "        -1.66827239e-01,  1.11203128e+00,  8.03132670e-02],\n",
      "       [ 2.65650004e-02, -1.75471773e-01, -5.91451354e-01,\n",
      "        -1.85921851e-01,  8.03132670e-02,  1.05046372e+00]])\n",
      "      jac: array([ 0.00728667,  0.06107162, -0.01600883,  0.05846878, -0.01289254,\n",
      "        0.01110544])\n",
      "  message: 'Desired error not necessarily achieved due to precision loss.'\n",
      "     nfev: 23\n",
      "      nit: 3\n",
      "     njev: 11\n",
      "   status: 2\n",
      "  success: False\n",
      "        x: array([ 7.00583662e-04, -6.85753537e-02, -1.68525246e+00, -5.11727106e-03,\n",
      "        5.33922714e-03,  1.45561614e-01])\n"
     ]
    }
   ],
   "source": [
    "from scipy.optimize import minimize\n",
    "\n",
    "shots = 1000\n",
    "expval = PauliExpectationValue(ansatz, observable, backend=AerSimulator(), append=True)\n",
    "paramshift = ParameterShiftGradient(expval)\n",
    "# this may take a long time...\n",
    "result = minimize(\n",
    "    lambda x: expval.evaluate(x, shots=shots).value,\n",
    "    np.zeros(6),\n",
    "    jac=lambda x: paramshift.evaluate(x, shots=shots).values,\n",
    ")\n",
    "print(result)"
   ]
  },
  {
   "cell_type": "code",
   "execution_count": 29,
   "id": "71a0aed0",
   "metadata": {},
   "outputs": [
    {
     "data": {
      "image/png": "[encoded data removed]",
      "text/plain": [
       "<Figure size 864x576 with 1 Axes>"
      ]
     },
     "metadata": {
      "needs_background": "light"
     },
     "output_type": "display_data"
    }
   ],
   "source": [
    "import matplotlib.pyplot as plt\n",
    "from qiskit.evaluators.results import ExpectationValueResult\n",
    "\n",
    "plt.figure(figsize=(12, 8))\n",
    "y = [h.value for h in expval.history if isinstance(h, ExpectationValueResult)]\n",
    "x = list(range(len(y)))\n",
    "yerr = np.array(\n",
    "    [\n",
    "        tuple(abs(c - h.value) for c in h.confidence_interval)\n",
    "        for h in expval.history\n",
    "        if isinstance(h, ExpectationValueResult)\n",
    "    ]\n",
    ").transpose()\n",
    "plt.plot(y, color=\"blue\")\n",
    "plt.errorbar(\n",
    "    x,\n",
    "    y,\n",
    "    yerr=yerr,\n",
    "    capsize=5,\n",
    "    fmt=\"o\",\n",
    "    markersize=8,\n",
    "    ecolor=\"blue\",\n",
    "    markeredgecolor=\"blue\",\n",
    "    color=\"w\",\n",
    ")\n",
    "plt.xlabel(\"Eval count\")\n",
    "plt.ylabel(\"Energy\")\n",
    "plt.show()"
   ]
  },
  {
   "cell_type": "code",
   "execution_count": null,
   "id": "ba66ef99",
   "metadata": {},
   "outputs": [],
   "source": []
  }
 ],
 "metadata": {
  "interpreter": {
   "hash": "55198b233f406dc59b712acd847cdd7a571fa057c585d106ba05aad0d31ffb93"
  },
  "kernelspec": {
   "display_name": "Python 3 (ipykernel)",
   "language": "python",
   "name": "python3"
  },
  "language_info": {
   "codemirror_mode": {
    "name": "ipython",
    "version": 3
   },
   "file_extension": ".py",
   "mimetype": "text/x-python",
   "name": "python",
   "nbconvert_exporter": "python",
   "pygments_lexer": "ipython3",
   "version": "3.9.7"
  }
 },
 "nbformat": 4,
 "nbformat_minor": 5
}
