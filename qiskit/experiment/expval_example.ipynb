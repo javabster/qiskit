{
 "cells": [
  {
   "cell_type": "markdown",
   "metadata": {},
   "source": [
    "# Expectation Value Experiment Examples"
   ]
  },
  {
   "cell_type": "code",
   "execution_count": 1,
   "metadata": {},
   "outputs": [],
   "source": [
    "import numpy as np\n",
    "import qiskit\n",
    "from qiskit.experiment import ExpectationValue, ExpectationValueAnalysis\n",
    "from qiskit.quantum_info import (\n",
    "    Clifford,\n",
    "    SparsePauliOp,\n",
    "    random_hermitian,\n",
    "    random_statevector,\n",
    ")\n",
    "\n",
    "# from qiskit.ignis.measurement import (MeasMitigation, MeasMitigationAnalysis)"
   ]
  },
  {
   "cell_type": "markdown",
   "metadata": {},
   "source": [
    "## Backends"
   ]
  },
  {
   "cell_type": "code",
   "execution_count": 2,
   "metadata": {},
   "outputs": [],
   "source": [
    "from qiskit.providers.aer import AerSimulator\n",
    "from qiskit.providers.aer.noise import NoiseModel\n",
    "from qiskit.test.mock import FakeBoeblingen\n",
    "\n",
    "backend = FakeBoeblingen()\n",
    "noise_model = NoiseModel.from_backend(backend, warnings=False)\n",
    "sim = AerSimulator(basis_gates=noise_model.basis_gates)"
   ]
  },
  {
   "cell_type": "markdown",
   "metadata": {},
   "source": [
    "# Basic Example\n",
    "\n",
    "Compute the exectation value of a random operator on a random state"
   ]
  },
  {
   "cell_type": "code",
   "execution_count": 3,
   "metadata": {},
   "outputs": [
    {
     "name": "stdout",
     "output_type": "stream",
     "text": [
      "Operator([[-1.43087302+0.j        ,  0.19696918+0.26204331j],\n",
      "          [ 0.19696918-0.26204331j, -0.93654772+0.j        ]],\n",
      "         input_dims=(2,), output_dims=(2,))\n",
      "Statevector([-0.44834237+0.66503452j,  0.57371309+0.16604667j],\n",
      "            dims=(2,))\n"
     ]
    }
   ],
   "source": [
    "seed = 15\n",
    "num_qubits = 1\n",
    "\n",
    "op = random_hermitian(2 ** num_qubits, seed=seed)\n",
    "print(op)\n",
    "\n",
    "\n",
    "state = random_statevector(2 ** num_qubits, seed=seed)\n",
    "print(state)"
   ]
  },
  {
   "cell_type": "markdown",
   "metadata": {},
   "source": [
    "First we can compute the exact expval and standard error using the operator classes"
   ]
  },
  {
   "cell_type": "code",
   "execution_count": 4,
   "metadata": {},
   "outputs": [
    {
     "name": "stdout",
     "output_type": "stream",
     "text": [
      "Exact value: -1.073 ± 0.013\n"
     ]
    }
   ],
   "source": [
    "shots = 1000\n",
    "expval = state.expectation_value(op).real\n",
    "variance = state.expectation_value(op.dot(op)).real - expval ** 2\n",
    "\n",
    "error = np.sqrt(variance / shots)\n",
    "print(\"Exact value: {:.3f} \\u00B1 {:.3f}\".format(expval, error))"
   ]
  },
  {
   "cell_type": "markdown",
   "metadata": {},
   "source": [
    "### Running the experiment\n",
    "\n",
    "Computing this expectation value experimentally on a backend can be done in two-lines using the ExpectationValue experiment classes.\n",
    "\n",
    "The default method is to decompose the operator into Pauli measurement circuits"
   ]
  },
  {
   "cell_type": "code",
   "execution_count": 7,
   "metadata": {},
   "outputs": [
    {
     "name": "stdout",
     "output_type": "stream",
     "text": [
      "Pauli method value: -1.076 ± 0.010\n"
     ]
    }
   ],
   "source": [
    "job = ExpectationValue(op, initial_state=state).execute(sim, shots=1000)\n",
    "expval, error = ExpectationValueAnalysis(job).analyze()\n",
    "print(\"Pauli method value: {:.3f} \\u00B1 {:.3f}\".format(expval, error))"
   ]
  },
  {
   "cell_type": "markdown",
   "metadata": {},
   "source": [
    "There is also a snapshot method for computing the exact expectation value and std error using the Aer simulator. We can see this agrees with the above exact computation"
   ]
  },
  {
   "cell_type": "code",
   "execution_count": 8,
   "metadata": {},
   "outputs": [
    {
     "name": "stdout",
     "output_type": "stream",
     "text": [
      "Aer snapshot method value: -1.073 ± 0.012\n"
     ]
    }
   ],
   "source": [
    "job = ExpectationValue(op, initial_state=state, method=\"snapshot\").execute(sim)\n",
    "expval, error = ExpectationValueAnalysis(job, method=\"snapshot\").analyze()\n",
    "print(\"Aer snapshot method value: {:.3f} \\u00B1 {:.3f}\".format(expval, error))"
   ]
  },
  {
   "cell_type": "markdown",
   "metadata": {},
   "source": [
    "### ExpectationValue experiment class\n",
    "\n",
    "Now we describe some basic properties of these classes. The first `ExpectationValue` class handles composing the input state and observable into measurement circuits for execution"
   ]
  },
  {
   "cell_type": "code",
   "execution_count": 9,
   "metadata": {},
   "outputs": [],
   "source": [
    "experiment = ExpectationValue(op, initial_state=state)"
   ]
  },
  {
   "cell_type": "markdown",
   "metadata": {},
   "source": [
    "We can see the measurement circuits and metadata for the experiment to be executed:"
   ]
  },
  {
   "cell_type": "code",
   "execution_count": 10,
   "metadata": {},
   "outputs": [
    {
     "name": "stdout",
     "output_type": "stream",
     "text": [
      "     ┌────────────────────────────────────────────────┐ ░ ┌─┐\n",
      "q_0: ┤ Initialize(-0.44834+0.66503j,0.57371+0.16605j) ├─░─┤M├\n",
      "     └────────────────────────────────────────────────┘ ░ └╥┘\n",
      "c: 1/══════════════════════════════════════════════════════╩═\n",
      "                                                           0 \n",
      "     ┌────────────────────────────────────────────────┐┌───┐ ░ ┌─┐\n",
      "q_0: ┤ Initialize(-0.44834+0.66503j,0.57371+0.16605j) ├┤ H ├─░─┤M├\n",
      "     └────────────────────────────────────────────────┘└───┘ ░ └╥┘\n",
      "c: 1/═══════════════════════════════════════════════════════════╩═\n",
      "                                                                0 \n",
      "     ┌────────────────────────────────────────────────┐┌─────┐┌───┐ ░ ┌─┐\n",
      "q_0: ┤ Initialize(-0.44834+0.66503j,0.57371+0.16605j) ├┤ Sdg ├┤ H ├─░─┤M├\n",
      "     └────────────────────────────────────────────────┘└─────┘└───┘ ░ └╥┘\n",
      "c: 1/══════════════════════════════════════════════════════════════════╩═\n",
      "                                                                       0 \n",
      "     ┌────────────────────────────────────────────────┐ ░ ┌─┐\n",
      "q_0: ┤ Initialize(-0.44834+0.66503j,0.57371+0.16605j) ├─░─┤M├\n",
      "     └────────────────────────────────────────────────┘ ░ └╥┘\n",
      "c: 1/══════════════════════════════════════════════════════╩═\n",
      "                                                           0 \n"
     ]
    }
   ],
   "source": [
    "for circ in experiment.circuits():\n",
    "    print(circ.draw())"
   ]
  },
  {
   "cell_type": "code",
   "execution_count": 11,
   "metadata": {},
   "outputs": [
    {
     "name": "stdout",
     "output_type": "stream",
     "text": [
      "{'experiment': 'expval', 'qubits': None, 'method': 'Pauli', 'basis': 'I', 'coeff': (-1.183710369589401+0j)}\n",
      "{'experiment': 'expval', 'qubits': None, 'method': 'Pauli', 'basis': 'X', 'coeff': (0.19696917840019046+0j)}\n",
      "{'experiment': 'expval', 'qubits': None, 'method': 'Pauli', 'basis': 'Y', 'coeff': (-0.26204331395099895+0j)}\n",
      "{'experiment': 'expval', 'qubits': None, 'method': 'Pauli', 'basis': 'Z', 'coeff': (-0.24716265326968628+0j)}\n"
     ]
    }
   ],
   "source": [
    "for meta in experiment.metadata():\n",
    "    print(meta)"
   ]
  },
  {
   "cell_type": "markdown",
   "metadata": {},
   "source": [
    "### Running the experiment on a backend\n",
    "\n",
    "The execution of the experiment can be done using the `execute` method. This automatically transpiles and assembles the circuits for the backend, and stores the metadata in the run qobj."
   ]
  },
  {
   "cell_type": "code",
   "execution_count": 12,
   "metadata": {},
   "outputs": [],
   "source": [
    "job = experiment.execute(sim)"
   ]
  },
  {
   "cell_type": "markdown",
   "metadata": {},
   "source": [
    "This is equivalent to the following"
   ]
  },
  {
   "cell_type": "code",
   "execution_count": 13,
   "metadata": {},
   "outputs": [],
   "source": [
    "circuits = qiskit.transpile(experiment.circuits(), sim)\n",
    "metadata = experiment.metadata()\n",
    "qobj = qiskit.assemble(circuits, sim, qobj_header={\"metadata\": metadata})\n",
    "job = sim.run(qobj)"
   ]
  },
  {
   "cell_type": "markdown",
   "metadata": {},
   "source": [
    "### Processing Results\n",
    "\n",
    "Once the job has finished executing the results can be processed using the `ExpectationValueAnalysis` analysis class. The analysis is done by calling the `analyze` method"
   ]
  },
  {
   "cell_type": "code",
   "execution_count": 14,
   "metadata": {},
   "outputs": [
    {
     "data": {
      "text/plain": [
       "(-1.080091397975608, 0.009834980332646343)"
      ]
     },
     "execution_count": 14,
     "metadata": {},
     "output_type": "execute_result"
    }
   ],
   "source": [
    "result = ExpectationValueAnalysis(job)\n",
    "result.analyze()"
   ]
  },
  {
   "cell_type": "markdown",
   "metadata": {},
   "source": [
    "The analysis result and data are stored in the ExperimentResult object"
   ]
  },
  {
   "cell_type": "code",
   "execution_count": 15,
   "metadata": {},
   "outputs": [
    {
     "data": {
      "text/plain": [
       "(-1.080091397975608, 0.009834980332646343)"
      ]
     },
     "execution_count": 15,
     "metadata": {},
     "output_type": "execute_result"
    }
   ],
   "source": [
    "result.last_result"
   ]
  },
  {
   "cell_type": "code",
   "execution_count": 16,
   "metadata": {},
   "outputs": [
    {
     "data": {
      "text/plain": [
       "[{'1': 363, '0': 661},\n",
       " {'0': 340, '1': 684},\n",
       " {'0': 35, '1': 989},\n",
       " {'1': 358, '0': 666}]"
      ]
     },
     "execution_count": 16,
     "metadata": {},
     "output_type": "execute_result"
    }
   ],
   "source": [
    "result.data"
   ]
  },
  {
   "cell_type": "code",
   "execution_count": 17,
   "metadata": {},
   "outputs": [
    {
     "data": {
      "text/plain": [
       "[{'basis': 'I',\n",
       "  'coeff': [-1.183710369589401, 0.0],\n",
       "  'experiment': 'expval',\n",
       "  'method': 'Pauli',\n",
       "  'qubits': None},\n",
       " {'basis': 'X',\n",
       "  'coeff': [0.19696917840019046, 0.0],\n",
       "  'experiment': 'expval',\n",
       "  'method': 'Pauli',\n",
       "  'qubits': None},\n",
       " {'basis': 'Y',\n",
       "  'coeff': [-0.26204331395099895, 0.0],\n",
       "  'experiment': 'expval',\n",
       "  'method': 'Pauli',\n",
       "  'qubits': None},\n",
       " {'basis': 'Z',\n",
       "  'coeff': [-0.24716265326968628, 0.0],\n",
       "  'experiment': 'expval',\n",
       "  'method': 'Pauli',\n",
       "  'qubits': None}]"
      ]
     },
     "execution_count": 17,
     "metadata": {},
     "output_type": "execute_result"
    }
   ],
   "source": [
    "result.metadata"
   ]
  },
  {
   "cell_type": "markdown",
   "metadata": {},
   "source": [
    "# Graph State Fidelity Example\n",
    "\n",
    "Now lets consider a more complicated example of estimating the fidelity of a graph state. We can do this by computing the stabilizers of a graph state, and defining our observable to be $\\sum_{i=1}^N S_i / N$ for $N=2^n$"
   ]
  },
  {
   "cell_type": "code",
   "execution_count": 18,
   "metadata": {},
   "outputs": [],
   "source": [
    "def coupling_graph(backend, max_qubits):\n",
    "    \"\"\"Get coupling graph for a backend.\"\"\"\n",
    "    return np.unique(\n",
    "        [\n",
    "            sorted(i)\n",
    "            for i in backend.configuration().coupling_map\n",
    "            if max(i) < max_qubits\n",
    "        ],\n",
    "        axis=0,\n",
    "    ).tolist()"
   ]
  },
  {
   "cell_type": "markdown",
   "metadata": {},
   "source": [
    "First we generate a graph state circuit for the native coupling map of a backend"
   ]
  },
  {
   "cell_type": "code",
   "execution_count": 19,
   "metadata": {},
   "outputs": [
    {
     "data": {
      "image/png": "[encoded data removed]",
      "text/plain": [
       "<Figure size 387.597x264.88 with 1 Axes>"
      ]
     },
     "execution_count": 19,
     "metadata": {},
     "output_type": "execute_result"
    },
    {
     "data": {
      "image/png": "[encoded data removed]",
      "text/plain": [
       "<Figure size 387.597x264.88 with 1 Axes>"
      ]
     },
     "metadata": {},
     "output_type": "display_data"
    }
   ],
   "source": [
    "num_qubits = 4\n",
    "graph = coupling_graph(backend, num_qubits)\n",
    "\n",
    "circ = qiskit.QuantumCircuit(num_qubits)\n",
    "circ.h(range(num_qubits))\n",
    "for i, j in graph:\n",
    "    circ.cz(i, j)\n",
    "circ.h(range(num_qubits))\n",
    "circ.draw(\"mpl\")"
   ]
  },
  {
   "cell_type": "markdown",
   "metadata": {},
   "source": [
    "Next we use the Clifford class to find the stabilizers for this state"
   ]
  },
  {
   "cell_type": "code",
   "execution_count": 20,
   "metadata": {},
   "outputs": [
    {
     "name": "stdout",
     "output_type": "stream",
     "text": [
      "['IIXZ', 'IXZX', 'XZXI', 'ZXII']\n"
     ]
    }
   ],
   "source": [
    "clifford = Clifford(circ)\n",
    "stabilizers = clifford.stabilizer.pauli\n",
    "print(stabilizers.to_labels())"
   ]
  },
  {
   "cell_type": "markdown",
   "metadata": {},
   "source": [
    "Next we convert the stabilizers to a SparsePauliOp observable"
   ]
  },
  {
   "cell_type": "code",
   "execution_count": 21,
   "metadata": {},
   "outputs": [],
   "source": [
    "N = len(stabilizers)\n",
    "op = SparsePauliOp(stabilizers, N * [1 / N])"
   ]
  },
  {
   "cell_type": "markdown",
   "metadata": {},
   "source": [
    "## Including measurement error mitigator\n",
    "Related to: https://github.com/Qiskit/qiskit-terra/pull/6485\n",
    "\n",
    "We now will include measurement error mitigation. This requires first running a mitigator calibration experiment, which can be used in the expectation value analysis to apply mitigation.\n",
    "\n",
    "Since we are using a noise model with single-qubit readout error we will use the tensored mitigation method"
   ]
  },
  {
   "cell_type": "code",
   "execution_count": 22,
   "metadata": {},
   "outputs": [],
   "source": [
    "# mit_job = MeasMitigation(circ.num_qubits, method='tensored').execute(sim, shots=8192, noise_model=noise_model)\n",
    "# mitigator = MeasMitigationAnalysis(mit_job, method='tensored').analyze()\n",
    "# mitigator.plot_assignment_matrix()"
   ]
  },
  {
   "cell_type": "markdown",
   "metadata": {},
   "source": [
    "### Pauli method experiment\n",
    "Finally we can run the expectation value experiment, the result of which is the state fideilty of our prepared input graph state"
   ]
  },
  {
   "cell_type": "code",
   "execution_count": 23,
   "metadata": {},
   "outputs": [
    {
     "name": "stdout",
     "output_type": "stream",
     "text": [
      "F(ideal) = 1.0 ± 0.0\n"
     ]
    }
   ],
   "source": [
    "# Run without noise\n",
    "job = ExpectationValue(op, initial_state=circ).execute(sim)\n",
    "expval, error = ExpectationValueAnalysis(job).analyze()\n",
    "print(\"F(ideal) = {:.1f} \\u00B1 {:.1f}\".format(expval, error))"
   ]
  },
  {
   "cell_type": "code",
   "execution_count": 24,
   "metadata": {},
   "outputs": [
    {
     "name": "stdout",
     "output_type": "stream",
     "text": [
      "F(noise) = 0.786 ± 0.003\n"
     ]
    }
   ],
   "source": [
    "# Run with noise\n",
    "job = ExpectationValue(op, initial_state=circ).execute(\n",
    "    sim, shots=8192, noise_model=noise_model\n",
    ")\n",
    "expval, error = ExpectationValueAnalysis(job).analyze()\n",
    "print(\"F(noise) = {:.3f} \\u00B1 {:.3f}\".format(expval, error))"
   ]
  },
  {
   "cell_type": "code",
   "execution_count": 25,
   "metadata": {},
   "outputs": [],
   "source": [
    "# Run with noise and mitigation\n",
    "# expval, error = ExpectationValueAnalysis(job, mitigator=mitigator).analyze()\n",
    "# print('F(noise + mitigation) = {:.3f} \\u00B1 {:.3f}'.format(expval, error))"
   ]
  },
  {
   "cell_type": "markdown",
   "metadata": {},
   "source": [
    "### Snapshot method experiment\n",
    "\n",
    "We can also use the snapshot method to compute this."
   ]
  },
  {
   "cell_type": "code",
   "execution_count": 26,
   "metadata": {},
   "outputs": [
    {
     "name": "stdout",
     "output_type": "stream",
     "text": [
      "F(ideal) = 1.0 ± 0.0\n"
     ]
    }
   ],
   "source": [
    "# Run without noise\n",
    "job = ExpectationValue(op, initial_state=circ, method=\"snapshot\").execute(sim)\n",
    "expval, error = ExpectationValueAnalysis(job, method=\"snapshot\").analyze()\n",
    "print(\"F(ideal) = {:.1f} \\u00B1 {:.1f}\".format(expval, error))"
   ]
  },
  {
   "cell_type": "markdown",
   "metadata": {},
   "source": [
    "Running with noise using the snapshot method will only include the effect of gate error, not readout error. This is because expectation values are computed exactly from the noisy state"
   ]
  },
  {
   "cell_type": "code",
   "execution_count": 27,
   "metadata": {},
   "outputs": [
    {
     "name": "stdout",
     "output_type": "stream",
     "text": [
      "F(noise) = 0.970 ± 0.005\n"
     ]
    }
   ],
   "source": [
    "# Run with noise\n",
    "job = ExpectationValue(op, initial_state=circ, method=\"snapshot\").execute(\n",
    "    sim, shots=1024, noise_model=noise_model\n",
    ")\n",
    "expval, error = ExpectationValueAnalysis(job, method=\"snapshot\").analyze()\n",
    "print(\"F(noise) = {:.3f} \\u00B1 {:.3f}\".format(expval, error))"
   ]
  }
 ],
 "metadata": {
  "kernelspec": {
   "display_name": "Terra",
   "language": "python",
   "name": "terra"
  },
  "language_info": {
   "codemirror_mode": {
    "name": "ipython",
    "version": 3
   },
   "file_extension": ".py",
   "mimetype": "text/x-python",
   "name": "python",
   "nbconvert_exporter": "python",
   "pygments_lexer": "ipython3",
   "version": "3.9.5"
  }
 },
 "nbformat": 4,
 "nbformat_minor": 4
}
